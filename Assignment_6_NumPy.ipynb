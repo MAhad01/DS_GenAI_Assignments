{
 "cells": [
  {
   "cell_type": "code",
   "execution_count": 1,
   "id": "854c0a93-b45f-463c-a7a2-0fe3e73023d3",
   "metadata": {},
   "outputs": [],
   "source": [
    "import numpy as np\n",
    "import pandas as pd"
   ]
  },
  {
   "cell_type": "code",
   "execution_count": 3,
   "id": "0c5ba31f-be98-47d6-bfb4-8ca1f8d70f83",
   "metadata": {},
   "outputs": [
    {
     "data": {
      "text/plain": [
       "array([0, 1, 2, 3, 4, 5])"
      ]
     },
     "execution_count": 3,
     "metadata": {},
     "output_type": "execute_result"
    }
   ],
   "source": [
    "# 1. Create a NumPy array 'arr' of integers from 0 to 5 and print its data type\n",
    "\n",
    "arr=np.array([0,1,2,3,4,5])\n",
    "arr"
   ]
  },
  {
   "cell_type": "code",
   "execution_count": 6,
   "id": "6153d13d-27bb-49a4-a51c-f1f62670aa9c",
   "metadata": {},
   "outputs": [
    {
     "data": {
      "text/plain": [
       "dtype('float64')"
      ]
     },
     "execution_count": 6,
     "metadata": {},
     "output_type": "execute_result"
    }
   ],
   "source": [
    "# 2. Given a NumPy array 'arr', check if its data type is float64.\n",
    "\n",
    "arr = np.array([1.5, 2.6, 3.7])\n",
    "\n",
    "arr.dtype"
   ]
  },
  {
   "cell_type": "code",
   "execution_count": 9,
   "id": "bc8ebde3-bdb7-4f81-a187-e6bd345c6739",
   "metadata": {},
   "outputs": [
    {
     "data": {
      "text/plain": [
       "dtype('complex128')"
      ]
     },
     "execution_count": 9,
     "metadata": {},
     "output_type": "execute_result"
    }
   ],
   "source": [
    "# 3. Create a NumPy array 'arr' with a data type of complex128 containing three complex numbers\n",
    "arr=np.array([2+3j, 5-9j, 1-99j])\n",
    "\n",
    "arr.dtype"
   ]
  },
  {
   "cell_type": "code",
   "execution_count": 15,
   "id": "ff735cb4-58e1-4e76-bde1-10a2058a7ccd",
   "metadata": {},
   "outputs": [
    {
     "data": {
      "text/plain": [
       "array([0., 1., 2., 3., 4., 5.], dtype=float32)"
      ]
     },
     "execution_count": 15,
     "metadata": {},
     "output_type": "execute_result"
    }
   ],
   "source": [
    "# 4. Convert an existing NumPy array 'arr' of integers to float32 data type.\n",
    "arr=np.array([0,1,2,3,4,5])\n",
    "arr.astype(np.float32)"
   ]
  },
  {
   "cell_type": "code",
   "execution_count": 17,
   "id": "b3227b2b-4e69-49de-8428-e0df5c9abd31",
   "metadata": {},
   "outputs": [
    {
     "data": {
      "text/plain": [
       "array([1.5, 2.6, 3.7], dtype=float32)"
      ]
     },
     "execution_count": 17,
     "metadata": {},
     "output_type": "execute_result"
    }
   ],
   "source": [
    "# 5. Given a NumPy array 'arr' with float64 data type, convert it to float32 to reduce decimal precision.\n",
    "arr = np.array([1.5, 2.6, 3.7], dtype=np.float64)\n",
    "\n",
    "arr_float32 = arr.astype(np.float32)\n",
    "arr_float32"
   ]
  },
  {
   "cell_type": "code",
   "execution_count": 24,
   "id": "373bf115-e201-4723-97ab-b2dc5137d294",
   "metadata": {},
   "outputs": [
    {
     "data": {
      "text/plain": [
       "{'Shape': (6,), 'Size': 6, 'Data Type': dtype('int64')}"
      ]
     },
     "execution_count": 24,
     "metadata": {},
     "output_type": "execute_result"
    }
   ],
   "source": [
    "# 6 Write a function array_attributes that takes a NumPy array as input and returns its shape, size, and datatype.\n",
    "\n",
    "def array_attributes(arr):\n",
    "    result={'Shape':arr.shape, 'Size':arr.size, 'Data Type':arr.dtype}\n",
    "    return result\n",
    "\n",
    "arr=np.array([0,1,2,3,4,5])\n",
    "array_attributes(arr)"
   ]
  },
  {
   "cell_type": "code",
   "execution_count": 29,
   "id": "646613d5-c3e3-4c31-883d-0d1cb52d3549",
   "metadata": {},
   "outputs": [
    {
     "data": {
      "text/plain": [
       "1"
      ]
     },
     "execution_count": 29,
     "metadata": {},
     "output_type": "execute_result"
    }
   ],
   "source": [
    "# 7. Create a function array_dimension that takes a NumPy array as input and returns its dimensionalit\n",
    "\n",
    "def array_dimension(arr):\n",
    "    return arr.ndim\n",
    "arr=np.array([0,1,2,3,4,5])\n",
    "array_dimension(arr)"
   ]
  },
  {
   "cell_type": "code",
   "execution_count": 30,
   "id": "b333f6a2-72f7-4c06-9733-aec9c3d69034",
   "metadata": {},
   "outputs": [
    {
     "data": {
      "text/plain": [
       "(8, 48)"
      ]
     },
     "execution_count": 30,
     "metadata": {},
     "output_type": "execute_result"
    }
   ],
   "source": [
    "# 8. Design a function item_size_info that takes a NumPy array as input and returns the item size and the total\n",
    "# size in bytes.\n",
    "\n",
    "def item_size_info(arr):\n",
    "    item_size=arr.itemsize\n",
    "    total_size=arr.nbytes\n",
    "    return item_size, total_size\n",
    "arr=np.array([0,1,2,3,4,5])\n",
    "item_size_info(arr)"
   ]
  },
  {
   "cell_type": "code",
   "execution_count": 31,
   "id": "1cdc6526-c00e-48fd-8eeb-95b9861583bf",
   "metadata": {},
   "outputs": [
    {
     "data": {
      "text/plain": [
       "(8,)"
      ]
     },
     "execution_count": 31,
     "metadata": {},
     "output_type": "execute_result"
    }
   ],
   "source": [
    "# 9. Create a function array_strides that takes a NumPy array as input and returns the strides of the array.\n",
    "\n",
    "def array_strides(arr):\n",
    "    return arr.strides\n",
    "\n",
    "arr=np.array([0,1,2,3,4,5])\n",
    "array_strides(arr)"
   ]
  },
  {
   "cell_type": "code",
   "execution_count": 32,
   "id": "e01bcf53-1201-4d7c-9d2d-cdac5d91cb08",
   "metadata": {},
   "outputs": [
    {
     "data": {
      "text/plain": [
       "((6,), (8,))"
      ]
     },
     "execution_count": 32,
     "metadata": {},
     "output_type": "execute_result"
    }
   ],
   "source": [
    "# 10. Design a function shape_stride_relationship that takes a NumPy array as input and returns the shape\n",
    "# and strides of the arra\n",
    "\n",
    "def shape_stride_relationship(arr):\n",
    "    sh=arr.shape\n",
    "    st=arr.strides\n",
    "    return sh,st\n",
    "\n",
    "arr=np.array([0,1,2,3,4,5])\n",
    "shape_stride_relationship(arr)"
   ]
  },
  {
   "cell_type": "code",
   "execution_count": 37,
   "id": "5731fae3-9337-43e7-8011-5ced747d8978",
   "metadata": {},
   "outputs": [
    {
     "data": {
      "text/plain": [
       "array([0., 0., 0., 0., 0., 0., 0., 0., 0.])"
      ]
     },
     "execution_count": 37,
     "metadata": {},
     "output_type": "execute_result"
    }
   ],
   "source": [
    "# 11. Create a function `create_zeros_array` that takes an integer `n` as input and returns a NumPy array of\n",
    "# zeros with `n` elements.\n",
    "\n",
    "def create_zeros_array(n):\n",
    "    return np.zeros(n)\n",
    "\n",
    "create_zeros_array(9)"
   ]
  },
  {
   "cell_type": "code",
   "execution_count": 45,
   "id": "f4a3bb6a-dc3b-471b-bf38-e1c57f0346eb",
   "metadata": {},
   "outputs": [
    {
     "name": "stdout",
     "output_type": "stream",
     "text": [
      "[[1. 1. 1.]\n",
      " [1. 1. 1.]\n",
      " [1. 1. 1.]]\n"
     ]
    }
   ],
   "source": [
    "# 12. Write a function `create_ones_matrix` that takes integers `rows` and `cols` as inputs and generates a 2D\n",
    "# NumPy array filled with ones of size `rows x cols`.\n",
    "\n",
    "def create_ones_matrix(rows,cols):\n",
    "     return np.ones((rows, cols))\n",
    "\n",
    "mat=create_ones_matrix(3,3)\n",
    "print(mat)"
   ]
  },
  {
   "cell_type": "code",
   "execution_count": 52,
   "id": "32938012-531d-48c7-8f35-3f5d72a88325",
   "metadata": {},
   "outputs": [
    {
     "data": {
      "text/plain": [
       "array([ 1,  3,  5,  7,  9, 11, 13, 15, 17, 19, 21, 23, 25, 27, 29])"
      ]
     },
     "execution_count": 52,
     "metadata": {},
     "output_type": "execute_result"
    }
   ],
   "source": [
    "#13 . Write a function `generate_range_array` that takes three integers start, stop, and step as arguments and\n",
    "# creates a NumPy array with a range starting from `start`, ending at stop (exclusive), and with the specified\n",
    "# `step`.\n",
    "\n",
    "def generate_range_array(start, stop, step):\n",
    "    ar=np.arange(start,stop, step)\n",
    "    return ar\n",
    "generate_range_array(1,30,2)"
   ]
  },
  {
   "cell_type": "code",
   "execution_count": 54,
   "id": "436ef6cf-ad98-420b-956a-cd6d5e1e121f",
   "metadata": {},
   "outputs": [
    {
     "data": {
      "text/plain": [
       "array([ 1.5,  3.5,  5.5,  7.5,  9.5, 11.5, 13.5, 15.5, 17.5, 19.5, 21.5,\n",
       "       23.5, 25.5, 27.5, 29.5])"
      ]
     },
     "execution_count": 54,
     "metadata": {},
     "output_type": "execute_result"
    }
   ],
   "source": [
    "# 14. Design a function `generate_linear_space` that takes two floats `start`, `stop`, and an integer `num` as\n",
    "# arguments and generates a NumPy array with num equally spaced values between `start` and `stop`\n",
    "# (inclusive).\n",
    "\n",
    "def generate_linear_space(start,stop,num):\n",
    "    return np.arange(start,stop,num)\n",
    "\n",
    "generate_linear_space(1.5, 30.0, 2)"
   ]
  },
  {
   "cell_type": "code",
   "execution_count": 55,
   "id": "0afd6877-5492-4e73-a53b-124e3a85ee80",
   "metadata": {},
   "outputs": [
    {
     "data": {
      "text/plain": [
       "array([[1., 0., 0., 0., 0.],\n",
       "       [0., 1., 0., 0., 0.],\n",
       "       [0., 0., 1., 0., 0.],\n",
       "       [0., 0., 0., 1., 0.],\n",
       "       [0., 0., 0., 0., 1.]])"
      ]
     },
     "execution_count": 55,
     "metadata": {},
     "output_type": "execute_result"
    }
   ],
   "source": [
    "# 15 Create a function `create_identity_matrix` that takes an integer `n` as input and generates a square\n",
    "# identity matrix of size `n x n` using `numpy.eye`\n",
    "\n",
    "def create_identity_matrix(n):\n",
    "    return np.eye(n)\n",
    "create_identity_matrix(5)"
   ]
  },
  {
   "cell_type": "code",
   "execution_count": 57,
   "id": "44de63d7-db01-44b3-aa42-0b5e4265df95",
   "metadata": {},
   "outputs": [
    {
     "data": {
      "text/plain": [
       "array([1, 3, 4, 5, 6, 7, 8])"
      ]
     },
     "execution_count": 57,
     "metadata": {},
     "output_type": "execute_result"
    }
   ],
   "source": [
    "# 16. Write a function that takes a Python list and converts it into a NumPy array\n",
    "\n",
    "l=[1,3,4,5,6,7,8]\n",
    "\n",
    "arr=np.array(l)\n",
    "arr"
   ]
  },
  {
   "cell_type": "code",
   "execution_count": 68,
   "id": "9ccb3ed9-96a4-40c9-b59a-cf01f4a7be67",
   "metadata": {},
   "outputs": [
    {
     "data": {
      "text/plain": [
       "array([1, 3, 4, 5, 6, 7, 8])"
      ]
     },
     "execution_count": 68,
     "metadata": {},
     "output_type": "execute_result"
    }
   ],
   "source": [
    "# 17. Create a NumPy array and demonstrate the use of `numpy.view` to create a new array object with the\n",
    "# same data.\n",
    "\n",
    "l=[1,3,4,5,6,7,8]\n",
    "\n",
    "arr=np.array(l)\n",
    "ar2=arr.view()\n",
    "ar2"
   ]
  },
  {
   "cell_type": "code",
   "execution_count": 71,
   "id": "48028353-a3a5-425c-a941-db710cfbf0cf",
   "metadata": {},
   "outputs": [
    {
     "data": {
      "text/plain": [
       "array([1, 2, 3, 4, 5, 6])"
      ]
     },
     "execution_count": 71,
     "metadata": {},
     "output_type": "execute_result"
    }
   ],
   "source": [
    "# 18. Write a function that takes two NumPy arrays and concatenates them along a specified axis.\n",
    "\n",
    "def arr_concatenate(ar1,ar2):\n",
    "    ar3=np.concatenate((ar1,ar2),axis=0)\n",
    "    return ar3\n",
    "\n",
    "ar1=np.array([1,2,3])\n",
    "ar2=np.array([4,5,6])\n",
    "arr_concatenate(ar1,ar2)"
   ]
  },
  {
   "cell_type": "code",
   "execution_count": 77,
   "id": "ccaf7d34-9d4e-4482-b2df-27f9694b314a",
   "metadata": {},
   "outputs": [
    {
     "data": {
      "text/plain": [
       "array([[ 1,  2,  3, 11],\n",
       "       [ 4,  5,  6, 61]])"
      ]
     },
     "execution_count": 77,
     "metadata": {},
     "output_type": "execute_result"
    }
   ],
   "source": [
    "# 19 # Create two NumPy arrays with different shapes and concatenate them horizontally using `numpy.\n",
    "# concatenate`.\n",
    "\n",
    "ar1=np.array([[1,2,3],[4,5,6]])\n",
    "ar2=np.array([[11],[61]])\n",
    "\n",
    "np.concatenate((ar1,ar2), axis=1)"
   ]
  },
  {
   "cell_type": "code",
   "execution_count": 78,
   "id": "99b7acb3-8892-4803-ada1-77dd903ede52",
   "metadata": {},
   "outputs": [
    {
     "name": "stdout",
     "output_type": "stream",
     "text": [
      "Vertically stacked array:\n",
      " [[1 2 3]\n",
      " [4 5 6]\n",
      " [7 8 9]]\n"
     ]
    }
   ],
   "source": [
    "# 20  Write a function that vertically stacks multiple NumPy arrays given as a list.\n",
    "\n",
    "def vertical_stack(arrays):\n",
    "    return np.vstack(arrays)\n",
    "\n",
    "\n",
    "arr1 = np.array([[1, 2, 3]])\n",
    "arr2 = np.array([[4, 5, 6]])\n",
    "arr3 = np.array([[7, 8, 9]])\n",
    "\n",
    "arrays = [arr1, arr2, arr3]\n",
    "\n",
    "result = vertical_stack(arrays)\n",
    "print(\"Vertically stacked array:\\n\", result)"
   ]
  },
  {
   "cell_type": "code",
   "execution_count": 81,
   "id": "61fd2562-8938-4ab1-b725-cd04e1439ae6",
   "metadata": {},
   "outputs": [
    {
     "data": {
      "text/plain": [
       "array([ 0,  2,  4,  6,  8, 10])"
      ]
     },
     "execution_count": 81,
     "metadata": {},
     "output_type": "execute_result"
    }
   ],
   "source": [
    "# 21. Write a Python function using NumPy to create an array of integers within a specified range (inclusive)\n",
    "# with a given step size.\n",
    "\n",
    "def int_array(start,stop,step):\n",
    "    return np.arange(start,stop+1,step)\n",
    "int_array(0,10,2)"
   ]
  },
  {
   "cell_type": "code",
   "execution_count": 84,
   "id": "eeaa9437-6cf9-4d2f-a6b8-fee1553c0525",
   "metadata": {},
   "outputs": [
    {
     "data": {
      "text/plain": [
       "array([0.        , 0.11111111, 0.22222222, 0.33333333, 0.44444444,\n",
       "       0.55555556, 0.66666667, 0.77777778, 0.88888889, 1.        ])"
      ]
     },
     "execution_count": 84,
     "metadata": {},
     "output_type": "execute_result"
    }
   ],
   "source": [
    "# 22. Write a Python function using NumPy to generate an array of 10 equally spaced values between 0 and 1 (inclusive).\n",
    "\n",
    "def zero_to_one(start,stop,step):\n",
    "    return np.linspace(start,stop,step)\n",
    "zero_to_one(0,1,10)"
   ]
  },
  {
   "cell_type": "code",
   "execution_count": 85,
   "id": "85e87058-e8e9-461c-96dd-613f67e98e32",
   "metadata": {},
   "outputs": [
    {
     "name": "stderr",
     "output_type": "stream",
     "text": [
      "/opt/conda/lib/python3.10/site-packages/numpy/core/function_base.py:277: RuntimeWarning: overflow encountered in power\n",
      "  return _nx.power(base, y)\n"
     ]
    },
    {
     "data": {
      "text/plain": [
       "array([1.00000000e+001, 5.62341325e+250,             inf,             inf,\n",
       "                   inf])"
      ]
     },
     "execution_count": 85,
     "metadata": {},
     "output_type": "execute_result"
    }
   ],
   "source": [
    "# 23. Write a Python function using NumPy to create an array of 5 logarithmically spaced values between 1 and\n",
    "# 1000 (inclusive).\n",
    "\n",
    "def log_space_array(start,stop,step):\n",
    "    return np.logspace(start,stop,step)\n",
    "log_space_array(1,1000,5)"
   ]
  },
  {
   "cell_type": "code",
   "execution_count": 88,
   "id": "c01440c2-bd7c-4acd-a213-06e1b8ff280d",
   "metadata": {},
   "outputs": [
    {
     "data": {
      "text/html": [
       "<div>\n",
       "<style scoped>\n",
       "    .dataframe tbody tr th:only-of-type {\n",
       "        vertical-align: middle;\n",
       "    }\n",
       "\n",
       "    .dataframe tbody tr th {\n",
       "        vertical-align: top;\n",
       "    }\n",
       "\n",
       "    .dataframe thead th {\n",
       "        text-align: right;\n",
       "    }\n",
       "</style>\n",
       "<table border=\"1\" class=\"dataframe\">\n",
       "  <thead>\n",
       "    <tr style=\"text-align: right;\">\n",
       "      <th></th>\n",
       "      <th>0</th>\n",
       "      <th>1</th>\n",
       "      <th>2</th>\n",
       "    </tr>\n",
       "  </thead>\n",
       "  <tbody>\n",
       "    <tr>\n",
       "      <th>0</th>\n",
       "      <td>5</td>\n",
       "      <td>41</td>\n",
       "      <td>60</td>\n",
       "    </tr>\n",
       "    <tr>\n",
       "      <th>1</th>\n",
       "      <td>23</td>\n",
       "      <td>21</td>\n",
       "      <td>52</td>\n",
       "    </tr>\n",
       "    <tr>\n",
       "      <th>2</th>\n",
       "      <td>56</td>\n",
       "      <td>15</td>\n",
       "      <td>32</td>\n",
       "    </tr>\n",
       "    <tr>\n",
       "      <th>3</th>\n",
       "      <td>49</td>\n",
       "      <td>20</td>\n",
       "      <td>34</td>\n",
       "    </tr>\n",
       "    <tr>\n",
       "      <th>4</th>\n",
       "      <td>42</td>\n",
       "      <td>8</td>\n",
       "      <td>29</td>\n",
       "    </tr>\n",
       "  </tbody>\n",
       "</table>\n",
       "</div>"
      ],
      "text/plain": [
       "    0   1   2\n",
       "0   5  41  60\n",
       "1  23  21  52\n",
       "2  56  15  32\n",
       "3  49  20  34\n",
       "4  42   8  29"
      ]
     },
     "execution_count": 88,
     "metadata": {},
     "output_type": "execute_result"
    }
   ],
   "source": [
    "# 24. Create a Pandas DataFrame using a NumPy array that contains 5 rows and 3 columns, where the values\n",
    "# are random integers between 1 and 100.\n",
    "\n",
    "data = np.random.randint(1, 101, size=(5, 3))\n",
    "df=pd.DataFrame(data)\n",
    "df"
   ]
  },
  {
   "cell_type": "code",
   "execution_count": 92,
   "id": "2d614413-2e6b-494d-93f7-e713b2492a80",
   "metadata": {},
   "outputs": [
    {
     "data": {
      "text/html": [
       "<div>\n",
       "<style scoped>\n",
       "    .dataframe tbody tr th:only-of-type {\n",
       "        vertical-align: middle;\n",
       "    }\n",
       "\n",
       "    .dataframe tbody tr th {\n",
       "        vertical-align: top;\n",
       "    }\n",
       "\n",
       "    .dataframe thead th {\n",
       "        text-align: right;\n",
       "    }\n",
       "</style>\n",
       "<table border=\"1\" class=\"dataframe\">\n",
       "  <thead>\n",
       "    <tr style=\"text-align: right;\">\n",
       "      <th></th>\n",
       "      <th>c1</th>\n",
       "      <th>cl2</th>\n",
       "      <th>cl3</th>\n",
       "    </tr>\n",
       "  </thead>\n",
       "  <tbody>\n",
       "    <tr>\n",
       "      <th>0</th>\n",
       "      <td>1</td>\n",
       "      <td>1</td>\n",
       "      <td>1</td>\n",
       "    </tr>\n",
       "    <tr>\n",
       "      <th>1</th>\n",
       "      <td>-2</td>\n",
       "      <td>-2</td>\n",
       "      <td>0</td>\n",
       "    </tr>\n",
       "    <tr>\n",
       "      <th>2</th>\n",
       "      <td>3</td>\n",
       "      <td>3</td>\n",
       "      <td>3</td>\n",
       "    </tr>\n",
       "    <tr>\n",
       "      <th>3</th>\n",
       "      <td>-4</td>\n",
       "      <td>-4</td>\n",
       "      <td>0</td>\n",
       "    </tr>\n",
       "    <tr>\n",
       "      <th>4</th>\n",
       "      <td>5</td>\n",
       "      <td>5</td>\n",
       "      <td>5</td>\n",
       "    </tr>\n",
       "  </tbody>\n",
       "</table>\n",
       "</div>"
      ],
      "text/plain": [
       "   c1  cl2  cl3\n",
       "0   1    1    1\n",
       "1  -2   -2    0\n",
       "2   3    3    3\n",
       "3  -4   -4    0\n",
       "4   5    5    5"
      ]
     },
     "execution_count": 92,
     "metadata": {},
     "output_type": "execute_result"
    }
   ],
   "source": [
    " #25 Write a function that takes a Pandas DataFrame and replaces all negative values in a specific column\n",
    "# with zeros. Use NumPy operations within the Pandas DataFrame\n",
    "\n",
    "df=pd.DataFrame({\n",
    "    'c1':[1,-2,3,-4,5],\n",
    "    'cl2':[1,-2,3,-4,5],\n",
    "    'cl3':[1,-2,3,-4,5]\n",
    "})\n",
    "\n",
    "def remove_neg(df,col):\n",
    "    df[col]=df[col].apply(lambda x:0 if x<0 else x)\n",
    "    return df\n",
    "\n",
    "remove_neg(df,'cl3')\n",
    "    "
   ]
  },
  {
   "cell_type": "code",
   "execution_count": 93,
   "id": "99a47eb1-334a-4506-a7d9-2d9defd47bf8",
   "metadata": {},
   "outputs": [
    {
     "data": {
      "text/plain": [
       "30"
      ]
     },
     "execution_count": 93,
     "metadata": {},
     "output_type": "execute_result"
    }
   ],
   "source": [
    "# 26 Access the 3rd element from the given NumPy array.\n",
    "\n",
    "arr = np.array([10, 20, 30, 40, 50])\n",
    "arr[2]"
   ]
  },
  {
   "cell_type": "code",
   "execution_count": 94,
   "id": "d2469e90-9323-487e-b429-cd766b7410c3",
   "metadata": {},
   "outputs": [
    {
     "data": {
      "text/plain": [
       "6"
      ]
     },
     "execution_count": 94,
     "metadata": {},
     "output_type": "execute_result"
    }
   ],
   "source": [
    "# 27 Retrieve the element at index (1, 2) from the 2D NumPy arr\n",
    "\n",
    "arr_2d = np.array([[1, 2, 3],\n",
    "                    [4, 5, 6],\n",
    "                    [7, 8, 9]])\n",
    "\n",
    "arr_2d[1][2]"
   ]
  },
  {
   "cell_type": "code",
   "execution_count": 103,
   "id": "c245f16b-a162-4b08-bd00-897550d3b46b",
   "metadata": {},
   "outputs": [
    {
     "name": "stdout",
     "output_type": "stream",
     "text": [
      "8\n",
      "10\n",
      "7\n"
     ]
    }
   ],
   "source": [
    "# 28  Using boolean indexing, extract elements greater than 5 from the given NumPy array.\n",
    "\n",
    "arr = np.array([3, 8, 2, 10, 5, 7])\n",
    "\n",
    "for i in arr:\n",
    "    if i>5:\n",
    "        print(i)"
   ]
  },
  {
   "cell_type": "code",
   "execution_count": 105,
   "id": "055324b9-81b7-4833-8fa8-08f5a1a62721",
   "metadata": {},
   "outputs": [
    {
     "data": {
      "text/plain": [
       "array([3, 4, 5, 6])"
      ]
     },
     "execution_count": 105,
     "metadata": {},
     "output_type": "execute_result"
    }
   ],
   "source": [
    "# 29 Perform basic slicing to extract elements from index 2 to 5 (inclusive) from the given NumPy array\n",
    "\n",
    "arr = np.array([1, 2, 3, 4, 5, 6, 7, 8, 9])\n",
    "\n",
    "ar2=arr[2:6]\n",
    "ar2"
   ]
  },
  {
   "cell_type": "code",
   "execution_count": 114,
   "id": "6f3a6212-dec3-4528-b58b-3a9b5c1f12d8",
   "metadata": {},
   "outputs": [
    {
     "data": {
      "text/plain": [
       "array([[2, 3],\n",
       "       [5, 6]])"
      ]
     },
     "execution_count": 114,
     "metadata": {},
     "output_type": "execute_result"
    }
   ],
   "source": [
    "# 30 Slice the 2D NumPy array to extract the sub-array `[[2, 3], [5, 6]]` from the given array.\n",
    "\n",
    "arr_2d = np.array([[1, 2, 3],\n",
    "                [4, 5, 6],\n",
    "                [7, 8, 9]])\n",
    "\n",
    "ar2=arr_2d[0:2, 1:3]\n",
    "ar2"
   ]
  },
  {
   "cell_type": "code",
   "execution_count": 115,
   "id": "5c9e5d8f-d9ac-46ca-9d48-3a9528a490e5",
   "metadata": {},
   "outputs": [
    {
     "name": "stdout",
     "output_type": "stream",
     "text": [
      "[2 6 7]\n"
     ]
    }
   ],
   "source": [
    "# 31.Write a NumPy function to extract elements in specific order from a given 2D array based on indices\n",
    "# provided in another a\n",
    "\n",
    "def extract_elements(arr, indices):\n",
    "\n",
    "    extracted_elements = np.array([arr[row, col] for row, col in indices])\n",
    "    return extracted_elements\n",
    "\n",
    "\n",
    "arr = np.array([[1, 2, 3], [4, 5, 6], [7, 8, 9]])\n",
    "indices = [(0, 1), (1, 2), (2, 0)]\n",
    "\n",
    "result = extract_elements(arr, indices)\n",
    "print(result)  \n"
   ]
  },
  {
   "cell_type": "code",
   "execution_count": 116,
   "id": "ecfb23d6-ddea-4bc4-ac64-007e414d96bf",
   "metadata": {},
   "outputs": [
    {
     "name": "stdout",
     "output_type": "stream",
     "text": [
      "[ 8 10  7]\n"
     ]
    }
   ],
   "source": [
    "# 32. Create a NumPy function that filters elements greater than a threshold from a given 1D array using boolean indexing\n",
    "\n",
    "\n",
    "def filter_elements(arr, threshold):\n",
    "    filtered_elements = arr[arr > threshold]\n",
    "    return filtered_elements\n",
    "\n",
    "# Example usage:\n",
    "arr = np.array([3, 8, 2, 10, 5, 7])\n",
    "threshold = 5\n",
    "\n",
    "result = filter_elements(arr, threshold)\n",
    "print(result)  \n"
   ]
  },
  {
   "cell_type": "code",
   "execution_count": 119,
   "id": "c2e30eea-4f46-40ce-8213-f78cfcf4be51",
   "metadata": {},
   "outputs": [
    {
     "name": "stdout",
     "output_type": "stream",
     "text": [
      "[2 6 7]\n"
     ]
    }
   ],
   "source": [
    "#35# Create a NumPy function that extracts elements from a 2D array using row and column indices provided in separate arrays.\n",
    "    \n",
    "\n",
    "def extract_elements(arr, row_indices, col_indices):\n",
    "\n",
    "    extracted_elements = arr[row_indices, col_indices]\n",
    "    return extracted_elements\n",
    "\n",
    "# Example usage:\n",
    "arr = np.array([[1, 2, 3], [4, 5, 6], [7, 8, 9]])\n",
    "row_indices = np.array([0, 1, 2])\n",
    "col_indices = np.array([1, 2, 0])\n",
    "\n",
    "result = extract_elements(arr, row_indices, col_indices)\n",
    "print(result)  \n"
   ]
  },
  {
   "cell_type": "code",
   "execution_count": 4,
   "id": "593c3edd-4e73-4060-b481-d4335ae6b1b1",
   "metadata": {},
   "outputs": [
    {
     "data": {
      "text/plain": [
       "array([38, 38, 38, 38])"
      ]
     },
     "execution_count": 4,
     "metadata": {},
     "output_type": "execute_result"
    }
   ],
   "source": [
    "# 37 Consider two arrays arr1 of shape (1, 3) and arr2 of shape (3, 4). Multiply each row of arr2 by the\n",
    "# corresponding element in arr1 using NumPy broadcasting.\n",
    "\n",
    "import numpy as np\n",
    "import pandas as pd\n",
    "\n",
    "arr1=np.array([1,2,3])\n",
    "arr2=np.array([[1,1,1,1],[5,5,5,5],[9,9,9,9]])\n",
    "\n",
    "arr1@arr2"
   ]
  },
  {
   "cell_type": "code",
   "execution_count": 9,
   "id": "e7ac4ae8-1ea5-467f-9927-9ce60b6079a2",
   "metadata": {},
   "outputs": [
    {
     "data": {
      "text/plain": [
       "array([[ 2,  3,  4],\n",
       "       [ 6,  7,  8],\n",
       "       [10, 11, 12],\n",
       "       [ 3,  4,  5]])"
      ]
     },
     "execution_count": 9,
     "metadata": {},
     "output_type": "execute_result"
    }
   ],
   "source": [
    "# 38. Given a 1D array arr1 of shape (1, 4) and a 2D array arr2 of shape (4, 3), add arr1 to each row of arr2 using NumPy broadcasting\n",
    "\n",
    "arr1=np.array([1,2,3])\n",
    "arr2=np.array([[1,1,1],[5,5,5],[9,9,9],[2,2,2]])\n",
    "\n",
    "arr1+arr2"
   ]
  },
  {
   "cell_type": "code",
   "execution_count": 10,
   "id": "2a1cc06f-96e1-4c1c-b48e-f0046e35ca1f",
   "metadata": {},
   "outputs": [
    {
     "data": {
      "text/plain": [
       "array([[2, 3, 4],\n",
       "       [2, 3, 4],\n",
       "       [2, 3, 4]])"
      ]
     },
     "execution_count": 10,
     "metadata": {},
     "output_type": "execute_result"
    }
   ],
   "source": [
    "# 39. Consider two arrays arr1 of shape (3, 1) and arr2 of shape (1, 3). Add these arrays using NumPy broadcasting.\n",
    "\n",
    "arr1=np.array([[1],[1],[1]])\n",
    "arr2=np.array([1,2,3])\n",
    "\n",
    "arr1+arr2"
   ]
  },
  {
   "cell_type": "code",
   "execution_count": 11,
   "id": "b0332d42-bd6b-44be-be60-1d0913df2a3b",
   "metadata": {},
   "outputs": [
    {
     "data": {
      "text/plain": [
       "array([[30, 30, 30],\n",
       "       [54, 54, 54]])"
      ]
     },
     "execution_count": 11,
     "metadata": {},
     "output_type": "execute_result"
    }
   ],
   "source": [
    "# 40. Given arrays arr1 of shape (2, 3) and arr2 of shape (2, 2), perform multiplication using NumPy broadcasting. Handle the shape incompatibility.\n",
    "\n",
    "arr1=np.array([[1,1,1],[5,5,5]])\n",
    "arr2=np.array([[5,5],[9,9]])\n",
    "\n",
    "arr2@arr1"
   ]
  },
  {
   "cell_type": "code",
   "execution_count": 12,
   "id": "e79911e2-57f1-4fc8-b43d-f36b512db10d",
   "metadata": {},
   "outputs": [
    {
     "data": {
      "text/plain": [
       "array([2.5, 3.5, 4.5])"
      ]
     },
     "execution_count": 12,
     "metadata": {},
     "output_type": "execute_result"
    }
   ],
   "source": [
    "# 41. Calculate column-wise mean for the given array\n",
    "\n",
    "arr = np.array([[1, 2, 3], [4, 5, 6]])\n",
    "\n",
    "np.mean(arr, axis=0)"
   ]
  },
  {
   "cell_type": "code",
   "execution_count": 13,
   "id": "c126e1f8-4f50-4092-80f1-f8be5947197f",
   "metadata": {},
   "outputs": [
    {
     "data": {
      "text/plain": [
       "array([3, 6])"
      ]
     },
     "execution_count": 13,
     "metadata": {},
     "output_type": "execute_result"
    }
   ],
   "source": [
    "# 42. Find maximum value in each row of the given array\n",
    "arr = np.array([[1, 2, 3], [4, 5, 6]])\n",
    "\n",
    "np.max(arr, axis=1)"
   ]
  },
  {
   "cell_type": "code",
   "execution_count": 14,
   "id": "fc0946bc-49da-4ed6-a0d3-8ca695c0066c",
   "metadata": {},
   "outputs": [
    {
     "data": {
      "text/plain": [
       "array([4, 5, 6])"
      ]
     },
     "execution_count": 14,
     "metadata": {},
     "output_type": "execute_result"
    }
   ],
   "source": [
    "# 3. For the given array, find indices of maximum value in each column\n",
    "arr = np.array([[1, 2, 3], [4, 5, 6]])\n",
    "\n",
    "np.max(arr, axis=0)"
   ]
  },
  {
   "cell_type": "code",
   "execution_count": 15,
   "id": "8768ed14-9dd0-447f-a5fb-1ae1c5de5bdc",
   "metadata": {},
   "outputs": [
    {
     "name": "stdout",
     "output_type": "stream",
     "text": [
      "[[ 1  3  6]\n",
      " [ 4  9 15]]\n"
     ]
    }
   ],
   "source": [
    "# 44. For the given array, apply custom function to calculate moving sum along rows.\n",
    "\n",
    "\n",
    "def moving_sum(arr):\n",
    "    result = np.zeros_like(arr)\n",
    "    for i in range(arr.shape[0]):\n",
    "        for j in range(arr.shape[1]):\n",
    "            result[i, j] = np.sum(arr[i, :j+1])\n",
    "    return result\n",
    "\n",
    "\n",
    "arr = np.array([[1, 2, 3], [4, 5, 6]])\n",
    "\n",
    "# Apply the custom function\n",
    "moving_sum_result = moving_sum(arr)\n",
    "print(moving_sum_result)\n",
    "\n"
   ]
  },
  {
   "cell_type": "code",
   "execution_count": 16,
   "id": "0d4d2fcd-04f5-4d0c-9961-8283fd42143e",
   "metadata": {},
   "outputs": [
    {
     "name": "stdout",
     "output_type": "stream",
     "text": [
      "[False False False]\n"
     ]
    }
   ],
   "source": [
    "# 45. In the given array, check if all elements in each column are even\n",
    "\n",
    "arr = np.array([[2, 4, 6], [3, 5, 7]])\n",
    "\n",
    "all_even_columns = np.all(arr % 2 == 0, axis=0)\n",
    "print(all_even_columns)"
   ]
  },
  {
   "cell_type": "code",
   "execution_count": 17,
   "id": "8798b2d1-230c-4129-a890-67f5ae9a47f7",
   "metadata": {},
   "outputs": [
    {
     "name": "stdout",
     "output_type": "stream",
     "text": [
      "[ 1 10 11  4  5]\n"
     ]
    }
   ],
   "source": [
    "# 50. Write a function that inserts and then deletes elements from a given array at specified indices.\n",
    "\n",
    "original_array = np.array([1, 2, 3, 4, 5])\n",
    "indices_to_insert = [2, 4]\n",
    "values_to_insert = [10, 11]\n",
    "indices_to_delete = [1, 3]\n",
    "\n",
    "\n",
    "\n",
    "def insert_and_delete_elements(arr, insert_indices, insert_values, delete_indices):\n",
    "    # Insert elements\n",
    "    for index, value in zip(insert_indices, insert_values):\n",
    "        arr = np.insert(arr, index, value)\n",
    "    \n",
    "    # Delete elements\n",
    "    arr = np.delete(arr, delete_indices)\n",
    "    \n",
    "    return arr\n",
    "\n",
    "\n",
    "# Apply the function\n",
    "result_array = insert_and_delete_elements(original_array, indices_to_insert, values_to_insert, indices_to_delete)\n",
    "print(result_array)\n"
   ]
  },
  {
   "cell_type": "code",
   "execution_count": 27,
   "id": "d5dc0c62-9b9e-4a58-8719-323c245d410e",
   "metadata": {},
   "outputs": [
    {
     "data": {
      "text/plain": [
       "array([27, 65, 17, 36, 85, 87, 88, 11, 84, 52])"
      ]
     },
     "execution_count": 27,
     "metadata": {},
     "output_type": "execute_result"
    }
   ],
   "source": [
    "# 51. Create a NumPy array `arr1` with random integers and another array `arr2` with integers from 1 to 10.\n",
    "# Perform element-wise addition between `arr1` and `arr2`.\n",
    "\n",
    "arr1=np.random.randint(1,100, size=10)\n",
    "arr2=np.array([1,2,3,4,5,6,7,8,9,10])\n",
    "\n",
    "arr1+arr2"
   ]
  },
  {
   "cell_type": "code",
   "execution_count": 28,
   "id": "d12cf6bd-8e06-4ccc-a989-b474bfbfa71a",
   "metadata": {},
   "outputs": [
    {
     "data": {
      "text/plain": [
       "array([25, 61, 11, 28, 75, 75, 74, -5, 66, 32])"
      ]
     },
     "execution_count": 28,
     "metadata": {},
     "output_type": "execute_result"
    }
   ],
   "source": [
    "# 52. Generate a NumPy array `arr1` with sequential integers from 10 to 1 and another array `arr2` with integers\n",
    "# from 1 to 10. Subtract `arr2` from `arr1` element-wise\n",
    "\n",
    "arr2=np.array([10,9,8,7,6,5,4,3,2,1])\n",
    "arr2=np.array([1,2,3,4,5,6,7,8,9,10])\n",
    "\n",
    "arr1-arr2"
   ]
  },
  {
   "cell_type": "code",
   "execution_count": 30,
   "id": "10135f53-4b66-4bdf-b01e-3e1e34f2c7b2",
   "metadata": {},
   "outputs": [
    {
     "data": {
      "text/plain": [
       "array([ 8, 14,  3, 36, 20])"
      ]
     },
     "execution_count": 30,
     "metadata": {},
     "output_type": "execute_result"
    }
   ],
   "source": [
    "# 53. Create a NumPy array `arr1` with random integers and another array `arr2` with integers from 1 to 5.\n",
    "# Perform element-wise multiplication between `arr1` and `arr2`\n",
    "\n",
    "arr1=np.random.randint(1,10, size=5)\n",
    "arr2=np.array([1,2,3,4,5])\n",
    "\n",
    "arr1*arr2"
   ]
  },
  {
   "cell_type": "code",
   "execution_count": 31,
   "id": "f8b47bf2-af2f-44e9-b040-a165c0adcd03",
   "metadata": {},
   "outputs": [
    {
     "data": {
      "text/plain": [
       "array([2., 2., 2., 2., 2.])"
      ]
     },
     "execution_count": 31,
     "metadata": {},
     "output_type": "execute_result"
    }
   ],
   "source": [
    "# 54. Generate a NumPy array `arr1` with even integers from 2 to 10 and another array `arr2` with integers from 1\n",
    "# to 5. Perform element-wise division of `arr1` by `arr2`\n",
    "\n",
    "arr1=np.array([2,4,6,8,10])\n",
    "arr2=np.array([1,2,3,4,5])\n",
    "\n",
    "arr1/arr2"
   ]
  },
  {
   "cell_type": "code",
   "execution_count": 32,
   "id": "7812a357-1888-4f12-8b73-be8700ca7aff",
   "metadata": {},
   "outputs": [
    {
     "data": {
      "text/plain": [
       "array([ 1, 16, 27, 16,  5])"
      ]
     },
     "execution_count": 32,
     "metadata": {},
     "output_type": "execute_result"
    }
   ],
   "source": [
    "# 55. Create a NumPy array `arr1` with integers from 1 to 5 and another array `arr2` with the same numbers\n",
    "# reversed. Calculate the exponentiation of `arr1` raised to the power of `arr2` element-wise.\n",
    "\n",
    "arr1=np.array([1,2,3,4,5])\n",
    "arr2=np.array([5,4,3,2,1])\n",
    "\n",
    "arr1**arr2"
   ]
  },
  {
   "cell_type": "code",
   "execution_count": 33,
   "id": "170e5140-4558-4e78-a50c-df75c08e262f",
   "metadata": {},
   "outputs": [
    {
     "data": {
      "text/plain": [
       "1"
      ]
     },
     "execution_count": 33,
     "metadata": {},
     "output_type": "execute_result"
    }
   ],
   "source": [
    "# 56. Write a function that counts the occurrences of a specific substring within a NumPy array of strings\n",
    "arr = np.array(['hello', 'world', 'hello', 'numpy', 'hello'])\n",
    "\n",
    "def count_occ(arr,key):\n",
    "    occ=0\n",
    "    for i in arr:\n",
    "        if i==key:\n",
    "            occ+=1\n",
    "    return occ\n",
    "\n",
    "count_occ(arr, 'world')"
   ]
  },
  {
   "cell_type": "code",
   "execution_count": 39,
   "id": "fe6a5a4d-46bf-4904-be90-6e9b0f384383",
   "metadata": {},
   "outputs": [
    {
     "data": {
      "text/plain": [
       "array(['HelloOpen', 'WorldAI'], dtype='<U9')"
      ]
     },
     "execution_count": 39,
     "metadata": {},
     "output_type": "execute_result"
    }
   ],
   "source": [
    "# 59. Write a function that concatenates strings in a NumPy array element-wise.\n",
    "\n",
    "arr1 = np.array(['Hello', 'World'])\n",
    "arr2 = np.array(['Open', 'AI'])\n",
    "\n",
    "np.char.add(arr1,arr2)"
   ]
  },
  {
   "cell_type": "code",
   "execution_count": 46,
   "id": "e43ba653-f2ae-4267-8a79-73ea6fd178dc",
   "metadata": {},
   "outputs": [
    {
     "data": {
      "text/plain": [
       "9"
      ]
     },
     "execution_count": 46,
     "metadata": {},
     "output_type": "execute_result"
    }
   ],
   "source": [
    "# 60. Write a function that finds the length of the longest string in a NumPy array.\n",
    "\n",
    "arr = np.array(['apple', 'banana', 'grape', 'pineapple'])\n",
    "\n",
    "def len_element(arr):\n",
    "    m=''\n",
    "    for i in arr:\n",
    "        if len(i)>len(m):\n",
    "            m=i\n",
    "    return len(m)\n",
    "len_element(arr)"
   ]
  },
  {
   "cell_type": "code",
   "execution_count": 59,
   "id": "9b2bfb2f-699f-4fea-80e4-95b5120d970c",
   "metadata": {},
   "outputs": [
    {
     "name": "stdout",
     "output_type": "stream",
     "text": [
      "mean:  nums    527.37\n",
      "dtype: float64\n",
      "median:  nums    549.0\n",
      "dtype: float64\n",
      "Variance:  nums    77155.144545\n",
      "dtype: float64\n",
      "Standard Deviation:  nums    277.768149\n",
      "dtype: float64\n"
     ]
    }
   ],
   "source": [
    "# 61. Create a dataset of 100 random integers between 1 and 1000. Compute the mean, median, variance, and\n",
    "# standard deviation of the dataset using NumPy's functions.\n",
    "\n",
    "nums=np.random.randint(1,1000, size=100)\n",
    "df=pd.DataFrame({\n",
    "    'nums':nums})\n",
    "print('mean: ',df.mean())\n",
    "print('median: ',df.median())\n",
    "print('Variance: ',df.var())\n",
    "print('Standard Deviation: ',df.std())"
   ]
  },
  {
   "cell_type": "code",
   "execution_count": 64,
   "id": "88b26dba-c015-41c6-8c95-90985827e109",
   "metadata": {},
   "outputs": [
    {
     "name": "stdout",
     "output_type": "stream",
     "text": [
      "71.2\n",
      "564.0\n",
      "910.9\n",
      "215.0\n",
      "745.5\n"
     ]
    }
   ],
   "source": [
    "# . Create an array of 50 integers between 10 and 1000. Calculate the 10th, 50th (median), and 90th\n",
    "# percentiles along with the first and third quartiles\n",
    "\n",
    "arr=np.random.randint(10,1000,size=50)\n",
    "print(np.percentile(arr,10))\n",
    "print(np.percentile(arr,50))\n",
    "print(np.percentile(arr,90))\n",
    "\n",
    "print(np.percentile(arr,25))\n",
    "print(np.percentile(arr,75))"
   ]
  },
  {
   "cell_type": "code",
   "execution_count": 67,
   "id": "7c341830-6e01-47f6-8a9e-94d0b415c08c",
   "metadata": {},
   "outputs": [
    {
     "data": {
      "text/plain": [
       "(array([1]),)"
      ]
     },
     "execution_count": 67,
     "metadata": {},
     "output_type": "execute_result"
    }
   ],
   "source": [
    "# Create a NumPy array of integers and find the index of a specific element.\n",
    "\n",
    "arr1=np.array([5,4,3,2,1])\n",
    "np.where(arr1==4)"
   ]
  },
  {
   "cell_type": "code",
   "execution_count": 69,
   "id": "333af74b-73ab-4a15-b19b-7d4a26f411a7",
   "metadata": {},
   "outputs": [
    {
     "data": {
      "text/plain": [
       "array([25, 42, 30])"
      ]
     },
     "execution_count": 69,
     "metadata": {},
     "output_type": "execute_result"
    }
   ],
   "source": [
    "# Filter elements >20 in the given NumPy array\n",
    "\n",
    "arr = np.array([12, 25, 6, 42, 8, 30])\n",
    "ar2=arr[arr>20]\n",
    "ar2"
   ]
  },
  {
   "cell_type": "code",
   "execution_count": 84,
   "id": "88405454-49c2-4c10-8cb3-6a28aef62fcc",
   "metadata": {},
   "outputs": [
    {
     "data": {
      "text/plain": [
       "array([12, 15])"
      ]
     },
     "execution_count": 84,
     "metadata": {},
     "output_type": "execute_result"
    }
   ],
   "source": [
    "# Filter elements which are divisible by 3 from a given NumPy array\n",
    "\n",
    "arr = np.array([1, 5, 8, 12, 15])\n",
    "ar2=arr[(arr%3)==0]\n",
    "ar2"
   ]
  },
  {
   "cell_type": "code",
   "execution_count": 83,
   "id": "e0e35ecc-e3c9-48bd-864f-f4b78cb1b59a",
   "metadata": {},
   "outputs": [
    {
     "data": {
      "text/plain": [
       "array([20, 30, 40])"
      ]
     },
     "execution_count": 83,
     "metadata": {},
     "output_type": "execute_result"
    }
   ],
   "source": [
    "# Filter elements which are ≥ 20 and ≤ 40 from a given NumPy array\n",
    "\n",
    "arr = np.array([10, 20, 30, 40, 50])\n",
    "ar2=arr[arr>=20]\n",
    "ar2=ar2[ar2<=40]\n",
    "ar2"
   ]
  },
  {
   "cell_type": "code",
   "execution_count": 85,
   "id": "8f73d36e-6674-48de-81da-213d7b0006be",
   "metadata": {},
   "outputs": [
    {
     "data": {
      "text/plain": [
       "dtype('int64')"
      ]
     },
     "execution_count": 85,
     "metadata": {},
     "output_type": "execute_result"
    }
   ],
   "source": [
    "# For the given NumPy array, check its byte order using the `dtype` attribute byteorder\n",
    "\n",
    "arr = np.array([1, 2, 3])\n",
    "arr.dtype"
   ]
  },
  {
   "cell_type": "code",
   "execution_count": 86,
   "id": "8291ca46-1373-4dc0-8804-3f5ac1a17bb1",
   "metadata": {},
   "outputs": [
    {
     "data": {
      "text/plain": [
       "array([16777216, 33554432, 50331648], dtype=int32)"
      ]
     },
     "execution_count": 86,
     "metadata": {},
     "output_type": "execute_result"
    }
   ],
   "source": [
    "# For the given NumPy array, perform byte swapping in place using `byteswap()`.\n",
    "arr = np.array([1, 2, 3], dtype=np.int32)\n",
    "\n",
    "arr.byteswap()"
   ]
  },
  {
   "cell_type": "code",
   "execution_count": 87,
   "id": "42ae1c15-6390-4d77-99ce-b12c4ca66cdc",
   "metadata": {},
   "outputs": [
    {
     "data": {
      "text/plain": [
       "array([16777216, 33554432, 50331648], dtype=int32)"
      ]
     },
     "execution_count": 87,
     "metadata": {},
     "output_type": "execute_result"
    }
   ],
   "source": [
    " # For the given NumPy array, swap its byte order without modifying the original array using\n",
    "# `newbyteorder()`.\n",
    "\n",
    "arr = np.array([1, 2, 3], dtype=np.int32)\n",
    "arr.newbyteorder()"
   ]
  },
  {
   "cell_type": "code",
   "execution_count": 88,
   "id": "06f4e76c-6b3b-4283-bb1d-436f903a3b3d",
   "metadata": {},
   "outputs": [
    {
     "name": "stdout",
     "output_type": "stream",
     "text": [
      "Original matrix after modification:\n",
      "[[ 43  98  40]\n",
      " [ 70 999  42]\n",
      " [ 79  16  23]]\n",
      "View slice after modification:\n",
      "[[999  42]\n",
      " [ 16  23]]\n"
     ]
    }
   ],
   "source": [
    "# Create a 2D NumPy array `matrix` of shape (3, 3) with random integers. Extract a slice `view_slice` from\n",
    "# the matrix. Modify an element in `view_slice` and observe if it changes the original `matrix`.\n",
    "\n",
    "\n",
    "matrix = np.random.randint(1, 100, size=(3, 3))\n",
    "\n",
    "view_slice = matrix[1:, 1:]\n",
    "\n",
    "\n",
    "view_slice[0, 0] = 999\n",
    "\n",
    "print(\"Original matrix after modification:\")\n",
    "print(matrix)\n",
    "print(\"View slice after modification:\")\n",
    "print(view_slice)\n"
   ]
  },
  {
   "cell_type": "code",
   "execution_count": 90,
   "id": "9e6be52e-a271-4831-b078-b35d996c5d1a",
   "metadata": {},
   "outputs": [
    {
     "name": "stdout",
     "output_type": "stream",
     "text": [
      "[[151  46 100]\n",
      " [ 64  78 115]\n",
      " [105  65 179]]\n",
      "[[ 41   2 -54]\n",
      " [-30 -14 -81]\n",
      " [ 23   9   7]]\n"
     ]
    }
   ],
   "source": [
    "# 81. Create two matrices A and B of identical shape containing integers and perform addition and subtraction operations between them.\n",
    "\n",
    "A = np.random.randint(1, 100, size=(3, 3))\n",
    "B = np.random.randint(1, 100, size=(3, 3))\n",
    "\n",
    "print(A+B)\n",
    "print(A-B)"
   ]
  },
  {
   "cell_type": "code",
   "execution_count": 91,
   "id": "0d954c7c-8154-4749-8673-9352d532b1ba",
   "metadata": {},
   "outputs": [
    {
     "data": {
      "text/plain": [
       "array([[6198, 4548, 4359, 5996],\n",
       "       [4916, 2372, 4499, 6846],\n",
       "       [8134, 5572, 6055, 8540]])"
      ]
     },
     "execution_count": 91,
     "metadata": {},
     "output_type": "execute_result"
    }
   ],
   "source": [
    "# 82. Generate two matrices `C` (3x2) and `D` (2x4) and perform matrix multiplication.\n",
    "\n",
    "C = np.random.randint(1, 100, size=(3, 2))\n",
    "D = np.random.randint(1, 100, size=(2, 4))\n",
    "\n",
    "C@D"
   ]
  },
  {
   "cell_type": "code",
   "execution_count": 92,
   "id": "8ce2bd7c-907c-4e37-9dfc-d76f9c0d6574",
   "metadata": {},
   "outputs": [
    {
     "data": {
      "text/plain": [
       "array([[15, 53, 13, 32],\n",
       "       [23, 70, 75, 71],\n",
       "       [36, 53, 88, 18],\n",
       "       [ 8, 14, 99, 51]])"
      ]
     },
     "execution_count": 92,
     "metadata": {},
     "output_type": "execute_result"
    }
   ],
   "source": [
    "# 83. Create a matrix `E` and find its transpose\n",
    "\n",
    "E = np.random.randint(1, 100, size=(4, 4))\n",
    "\n",
    "E.T"
   ]
  },
  {
   "cell_type": "code",
   "execution_count": 95,
   "id": "600471b9-e3d5-4dc8-9762-e530eb2ba333",
   "metadata": {},
   "outputs": [
    {
     "data": {
      "text/plain": [
       "-4255937.000000006"
      ]
     },
     "execution_count": 95,
     "metadata": {},
     "output_type": "execute_result"
    }
   ],
   "source": [
    "# 84. Generate a square matrix `F` and compute its determinant.\n",
    "\n",
    "F = np.random.randint(1, 100, size=(4, 4))\n",
    "det=np.linalg.det(F)\n",
    "det"
   ]
  },
  {
   "cell_type": "code",
   "execution_count": 96,
   "id": "4e625010-a18c-4104-9343-333a05d61fae",
   "metadata": {},
   "outputs": [
    {
     "data": {
      "text/plain": [
       "array([[-0.00106387,  0.05128074, -0.00280255, -0.01378118],\n",
       "       [ 0.00481682, -0.01362074,  0.01116637, -0.00482371],\n",
       "       [-0.00805971,  0.01608208, -0.00052513,  0.00978623],\n",
       "       [ 0.01031598, -0.03295405, -0.00845202,  0.01068651]])"
      ]
     },
     "execution_count": 96,
     "metadata": {},
     "output_type": "execute_result"
    }
   ],
   "source": [
    "# 85. Create a square matrix `G` and find its inverse.\n",
    "\n",
    "G = np.random.randint(1, 100, size=(4, 4))\n",
    "\n",
    "inverse=np.linalg.inv(G)\n",
    "inverse"
   ]
  },
  {
   "cell_type": "code",
   "execution_count": null,
   "id": "217420d3-b0ea-4a7b-9a46-923001485d19",
   "metadata": {},
   "outputs": [],
   "source": []
  },
  {
   "cell_type": "code",
   "execution_count": null,
   "id": "9aae132b-6493-47a3-8ea3-c9c0df40339d",
   "metadata": {},
   "outputs": [],
   "source": []
  },
  {
   "cell_type": "code",
   "execution_count": null,
   "id": "1ae10996-bfc5-4d28-91e6-0a8f94809021",
   "metadata": {},
   "outputs": [],
   "source": []
  },
  {
   "cell_type": "code",
   "execution_count": null,
   "id": "b0e266dd-8401-4ff0-9d7a-a1be7fe3983c",
   "metadata": {},
   "outputs": [],
   "source": []
  },
  {
   "cell_type": "code",
   "execution_count": null,
   "id": "2d77bb67-dc6e-4a73-a6dd-714962f4af5a",
   "metadata": {},
   "outputs": [],
   "source": []
  },
  {
   "cell_type": "code",
   "execution_count": null,
   "id": "43c10cd7-d05a-4927-beea-1240cae3b928",
   "metadata": {},
   "outputs": [],
   "source": []
  },
  {
   "cell_type": "code",
   "execution_count": null,
   "id": "cae004dd-ffa9-4d03-beb9-36537bc53df6",
   "metadata": {},
   "outputs": [],
   "source": []
  },
  {
   "cell_type": "code",
   "execution_count": null,
   "id": "2bbcfda2-83e2-4b19-9fdd-525511d8f07b",
   "metadata": {},
   "outputs": [],
   "source": []
  },
  {
   "cell_type": "code",
   "execution_count": null,
   "id": "fdac5363-4e59-4355-ab0d-104b2ea0c8fe",
   "metadata": {},
   "outputs": [],
   "source": []
  },
  {
   "cell_type": "code",
   "execution_count": null,
   "id": "c0f95d8d-67fd-4cb2-9600-b0d27e420f06",
   "metadata": {},
   "outputs": [],
   "source": []
  },
  {
   "cell_type": "code",
   "execution_count": null,
   "id": "c9f89781-155b-4907-8a16-2e623cac227f",
   "metadata": {},
   "outputs": [],
   "source": []
  },
  {
   "cell_type": "code",
   "execution_count": null,
   "id": "4d92e37d-9661-4eb2-b573-b4ad6680db6d",
   "metadata": {},
   "outputs": [],
   "source": []
  },
  {
   "cell_type": "code",
   "execution_count": null,
   "id": "ceb89123-0f46-42ee-ab14-d59c71359622",
   "metadata": {},
   "outputs": [],
   "source": []
  },
  {
   "cell_type": "code",
   "execution_count": null,
   "id": "39fb6aff-8cf1-45a1-a31c-c45eab533595",
   "metadata": {},
   "outputs": [],
   "source": []
  },
  {
   "cell_type": "code",
   "execution_count": null,
   "id": "7bfef521-08f8-4cf4-ae10-448168c78d7c",
   "metadata": {},
   "outputs": [],
   "source": []
  },
  {
   "cell_type": "code",
   "execution_count": null,
   "id": "83cc2348-06e5-4719-88fb-f50bacf4bcab",
   "metadata": {},
   "outputs": [],
   "source": []
  },
  {
   "cell_type": "code",
   "execution_count": null,
   "id": "fb4484b4-f403-4d63-83f3-13ef3af3b2ba",
   "metadata": {},
   "outputs": [],
   "source": []
  },
  {
   "cell_type": "code",
   "execution_count": null,
   "id": "0597a62e-cbbf-4252-b34d-c9b1ad066bac",
   "metadata": {},
   "outputs": [],
   "source": []
  },
  {
   "cell_type": "code",
   "execution_count": null,
   "id": "12c647ae-ce55-4a22-8f5b-2433df155fa3",
   "metadata": {},
   "outputs": [],
   "source": []
  }
 ],
 "metadata": {
  "kernelspec": {
   "display_name": "Python 3 (ipykernel)",
   "language": "python",
   "name": "python3"
  },
  "language_info": {
   "codemirror_mode": {
    "name": "ipython",
    "version": 3
   },
   "file_extension": ".py",
   "mimetype": "text/x-python",
   "name": "python",
   "nbconvert_exporter": "python",
   "pygments_lexer": "ipython3",
   "version": "3.10.8"
  }
 },
 "nbformat": 4,
 "nbformat_minor": 5
}
