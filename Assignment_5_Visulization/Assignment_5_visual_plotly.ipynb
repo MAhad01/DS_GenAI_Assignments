{
 "cells": [
  {
   "cell_type": "markdown",
   "id": "c9ee41d0-4d6f-4892-9ca9-927577d0c4f7",
   "metadata": {},
   "source": [
    "# Plotly"
   ]
  },
  {
   "cell_type": "markdown",
   "id": "d1331faf-e8a6-4781-b5b9-e276ad976978",
   "metadata": {},
   "source": [
    "due to large size of the graphs the could not be saved in the notebook \n",
    "the code to display the graphs has beed commented out"
   ]
  },
  {
   "cell_type": "code",
   "execution_count": 3,
   "id": "3f308a3c-2759-4108-8cba-99486c4c5076",
   "metadata": {},
   "outputs": [
    {
     "name": "stdout",
     "output_type": "stream",
     "text": [
      "Collecting plotly\n",
      "  Downloading plotly-5.23.0-py3-none-any.whl (17.3 MB)\n",
      "\u001b[2K     \u001b[90m━━━━━━━━━━━━━━━━━━━━━━━━━━━━━━━━━━━━━━━━\u001b[0m \u001b[32m17.3/17.3 MB\u001b[0m \u001b[31m46.6 MB/s\u001b[0m eta \u001b[36m0:00:00\u001b[0m00:01\u001b[0m00:01\u001b[0m\n",
      "\u001b[?25hRequirement already satisfied: packaging in /opt/conda/lib/python3.10/site-packages (from plotly) (22.0)\n",
      "Collecting tenacity>=6.2.0\n",
      "  Downloading tenacity-9.0.0-py3-none-any.whl (28 kB)\n",
      "Installing collected packages: tenacity, plotly\n",
      "Successfully installed plotly-5.23.0 tenacity-9.0.0\n",
      "Note: you may need to restart the kernel to use updated packages.\n"
     ]
    }
   ],
   "source": [
    "pip install plotly"
   ]
  },
  {
   "cell_type": "code",
   "execution_count": 1,
   "id": "0e01f965-d345-491d-a51a-b72ac9e16ac5",
   "metadata": {},
   "outputs": [],
   "source": [
    "import numpy as np\n",
    "import pandas as pd\n",
    "import plotly.express as px\n",
    "import plotly.graph_objects as go"
   ]
  },
  {
   "cell_type": "code",
   "execution_count": 2,
   "id": "34c0af34-482a-4099-8527-cf05105a72b8",
   "metadata": {},
   "outputs": [],
   "source": [
    "# 1. Using the given dataset, to generate a 3D scatter plot to visualize the distribution of data points in a three-\n",
    "# dimensional space.\n",
    "\n",
    "np.random.seed(30)\n",
    "data = {\n",
    "'X': np.random.uniform(-10, 10, 300),\n",
    "'Y': np.random.uniform(-10, 10, 300),\n",
    "'Z': np.random.uniform(-10, 10, 300)\n",
    "}\n",
    "df = pd.DataFrame(data)\n",
    "\n",
    "\n",
    "fig=go.Figure()\n",
    "# fig.add_trace(go.Scatter3d(x=data['X'],y=data['Y'],mode='markers',z=data['Z']))\n",
    "\n"
   ]
  },
  {
   "cell_type": "code",
   "execution_count": 3,
   "id": "bd01eae8-0dbe-4b49-b52e-1867dcbc295d",
   "metadata": {},
   "outputs": [],
   "source": [
    "# 2. Using the Student Grades, create a violin plot to display the distribution of scores across different grade\n",
    "# categories.\n",
    "\n",
    "np.random.seed(15)\n",
    "data = {\n",
    "'Grade': np.random.choice(['A', 'B', 'C', 'D', 'F'], 200),\n",
    "'Score': np.random.randint(50, 100, 200)\n",
    "}\n",
    "df = pd.DataFrame(data)\n",
    "\n",
    "fig=px.violin(data, y='Grade')\n",
    "# fig.show()"
   ]
  },
  {
   "cell_type": "code",
   "execution_count": 5,
   "id": "086366da-75b6-44f0-9465-2801f173102a",
   "metadata": {},
   "outputs": [],
   "source": [
    "# 3. Using the sales data, generate a heatmap to visualize the variation in sales across different months and days.\n",
    "\n",
    "np.random.seed(20)\n",
    "data = {\n",
    "'Month': np.random.choice(['Jan', 'Feb', 'Mar', 'Apr', 'May'], 100),\n",
    "'Day': np.random.choice(range(1, 31), 100),\n",
    "'Sales': np.random.randint(1000, 5000, 100)\n",
    "}\n",
    "df = pd.DataFrame(data)\n",
    "\n",
    "# Pivot the data to create a matrix for the heatmap\n",
    "heatmap_data = df.pivot_table(values='Sales', index='Day', columns='Month', aggfunc='mean')\n",
    "\n",
    "# Create the heatmap\n",
    "fig = px.imshow(heatmap_data, labels={'color': 'Average Sales'}, title='Average Sales Heatmap')\n",
    "# fig.show()"
   ]
  },
  {
   "cell_type": "code",
   "execution_count": 4,
   "id": "12558cea-8429-4548-b055-efe39fac7621",
   "metadata": {},
   "outputs": [],
   "source": [
    "# 4. Using the given x and y data, generate a 3D surface plot to visualize the function\n",
    "\n",
    "x = np.linspace(-5, 5, 100)\n",
    "y = np.linspace(-5, 5, 100)\n",
    "x, y = np.meshgrid(x, y)\n",
    "z = np.sin(np.sqrt(x**2 + y**2))\n",
    "data = {\n",
    "'X': x.flatten(),\n",
    "'Y': y.flatten(),\n",
    "'Z': z.flatten()\n",
    "}\n",
    "df = pd.DataFrame(data)\n",
    "\n",
    "fig=go.Figure()\n",
    "# fig.add_trace(go.Scatter3d(x=data['X'], y=data['Y'], mode='markers', z=data['Z']))"
   ]
  },
  {
   "cell_type": "code",
   "execution_count": 8,
   "id": "9c4fb5c5-e8c3-4bfa-9736-96e5667e844b",
   "metadata": {},
   "outputs": [],
   "source": [
    "# 5. Using the given dataset, create a bubble chart to represent each country's population (y-axis), GDP (x-\n",
    "# axis), and bubble size proportional to the population\n",
    "\n",
    "data = {\n",
    "'Country': ['USA', 'Canada', 'UK','Germany', 'France'],\n",
    "'Population':np.random.randint(100, 1000, 5),\n",
    "'GDP': np.random.randint(500, 2000,5)\n",
    "}\n",
    "df = pd.DataFrame(data)"
   ]
  },
  {
   "cell_type": "code",
   "execution_count": 10,
   "id": "5aa7bcaf-14e9-41af-bfeb-7537795eddd7",
   "metadata": {},
   "outputs": [],
   "source": [
    "fig=go.Figure()\n",
    "# fig.add_trace(go.Scatter(x=data['GDP'], y=data['Population'], mode='markers', marker_size=data['Population']/10))\n"
   ]
  },
  {
   "cell_type": "code",
   "execution_count": null,
   "id": "6ccc653c-4064-46fe-9e11-91a54643b48d",
   "metadata": {},
   "outputs": [],
   "source": []
  },
  {
   "cell_type": "code",
   "execution_count": null,
   "id": "d927e8eb-840a-410d-9c15-ee4ef73c00f9",
   "metadata": {},
   "outputs": [],
   "source": []
  },
  {
   "cell_type": "code",
   "execution_count": null,
   "id": "d566f549-2667-4049-a68f-f47642ed3272",
   "metadata": {},
   "outputs": [],
   "source": []
  }
 ],
 "metadata": {
  "kernelspec": {
   "display_name": "Python 3 (ipykernel)",
   "language": "python",
   "name": "python3"
  },
  "language_info": {
   "codemirror_mode": {
    "name": "ipython",
    "version": 3
   },
   "file_extension": ".py",
   "mimetype": "text/x-python",
   "name": "python",
   "nbconvert_exporter": "python",
   "pygments_lexer": "ipython3",
   "version": "3.10.8"
  }
 },
 "nbformat": 4,
 "nbformat_minor": 5
}
