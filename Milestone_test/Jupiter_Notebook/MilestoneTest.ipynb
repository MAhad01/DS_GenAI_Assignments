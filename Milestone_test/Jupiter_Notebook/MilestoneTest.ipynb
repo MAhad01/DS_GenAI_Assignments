{
 "cells": [
  {
   "cell_type": "code",
   "execution_count": 1,
   "id": "5f571b79-2b92-4006-9f9f-7211c508ddce",
   "metadata": {},
   "outputs": [
    {
     "name": "stdout",
     "output_type": "stream",
     "text": [
      "['freedom_fighter', 'Mohan', 'dash', 'karam', 'chandra', 'gandhi', 'Bapu']\n",
      "['Mohan', 'dash', 'karam']\n",
      "7\n",
      "['freedomFighter', 'gandhi', 'Mohan', 'dash', 'karam', 'chandra', 'gandhi', 'Netaji', 'Bose']\n"
     ]
    }
   ],
   "source": [
    "#1.3\n",
    "\n",
    "name = [\"Mohan\", \"dash\", \"karam\", \"chandra\", \"gandhi\", \"Bapu\"]\n",
    "name.insert(0, 'freedom_fighter')\n",
    "print(name)\n",
    "\n",
    "name = [\"freedomFighter\", \"Bapuji\", \"Mohan\", \"dash\", \"karam\", \"chandra\", \"gandhi\"]\n",
    "print(name[2:5])\n",
    "length1 = len(name)\n",
    "name[1] = name[length1 - 1]\n",
    "length2 = len(name)\n",
    "print(length2 - length1 + length2)\n",
    "\n",
    "'''\n",
    "name[2:5] slices the list from index 2 to 4.\n",
    "length1 is the length of the list, which is 7.\n",
    "name[1] is replaced with name[6] (last element).\n",
    "length2 remains 7.\n",
    "The final print statement calculates 7 - 7 + 7, which is 7.\n",
    "'''\n",
    "name.extend(['Netaji', 'Bose'])\n",
    "print(name)\n"
   ]
  },
  {
   "cell_type": "code",
   "execution_count": 2,
   "id": "ffce4224-37b4-431f-a356-5d7a6335b343",
   "metadata": {},
   "outputs": [
    {
     "name": "stdout",
     "output_type": "stream",
     "text": [
      "2\n",
      "4\n",
      "7\n"
     ]
    }
   ],
   "source": [
    "# 1.4\n",
    "\n",
    "animal=['Human','cat','mat','cat','rat','Human','Lion']\n",
    "print(animal.count('Human'))\n",
    "print(animal.index('rat'))\n",
    "print(len(animal))"
   ]
  },
  {
   "cell_type": "code",
   "execution_count": 3,
   "id": "fdab3448-7733-4453-b5c4-198c0b50fc86",
   "metadata": {},
   "outputs": [
    {
     "name": "stdout",
     "output_type": "stream",
     "text": [
      "8\n",
      "Navneet\n",
      "3\n",
      "Sita\n",
      "223\n"
     ]
    }
   ],
   "source": [
    "#1.5\n",
    "\n",
    "tuple1 = (10, '20', \"Apple\", '3.4', [\"master\", \"Ji\"], [\"Sita\", \"geeta\", 223], {'roll_no': 3}, {'name': \"Navneet\"})\n",
    "print(len(tuple1))\n",
    "print(tuple1[-1]['name'])\n",
    "print(tuple1[-2]['roll_no'])\n",
    "print(tuple1[-3][0])\n",
    "print(tuple1[-3][2])\n"
   ]
  },
  {
   "cell_type": "code",
   "execution_count": 4,
   "id": "aba9d4bb-48c3-4d5f-9e4f-540e5b7190de",
   "metadata": {},
   "outputs": [
    {
     "name": "stdin",
     "output_type": "stream",
     "text": [
      "Enter the signal color (RED/Yellow/Green):  RED\n"
     ]
    },
    {
     "name": "stdout",
     "output_type": "stream",
     "text": [
      "Stop\n"
     ]
    }
   ],
   "source": [
    "# 1.6\n",
    "signal = input(\"Enter the signal color (RED/Yellow/Green): \").strip().lower()\n",
    "\n",
    "if signal == 'red':\n",
    "    print(\"Stop\")\n",
    "elif signal == 'yellow':\n",
    "    print(\"Slow\")\n",
    "elif signal == 'green':\n",
    "    print(\"Go\")\n",
    "else:\n",
    "    print(\"Invalid signal color\")\n"
   ]
  },
  {
   "cell_type": "code",
   "execution_count": 5,
   "id": "17e29dcb-9450-450a-a753-1ceaf9e89ea1",
   "metadata": {},
   "outputs": [
    {
     "name": "stdin",
     "output_type": "stream",
     "text": [
      "Enter first number:  90\n",
      "Enter second number:  99\n",
      "Enter operation (+, -, *, /):  *\n"
     ]
    },
    {
     "name": "stdout",
     "output_type": "stream",
     "text": [
      "Result: 8910.0\n"
     ]
    }
   ],
   "source": [
    "# 1.7\n",
    "\n",
    "def calculator():\n",
    "    num1 = float(input(\"Enter first number: \"))\n",
    "    num2 = float(input(\"Enter second number: \"))\n",
    "    operation = input(\"Enter operation (+, -, *, /): \")\n",
    "\n",
    "    if operation == '+':\n",
    "        print(f\"Result: {num1 + num2}\")\n",
    "    elif operation == '-':\n",
    "        print(f\"Result: {num1 - num2}\")\n",
    "    elif operation == '*':\n",
    "        print(f\"Result: {num1 * num2}\")\n",
    "    elif operation == '/':\n",
    "        if num2 != 0:\n",
    "            print(f\"Result: {num1 / num2}\")\n",
    "        else:\n",
    "            print(\"Error: Division by zero\")\n",
    "    else:\n",
    "        print(\"Invalid operation\")\n",
    "\n",
    "calculator()\n"
   ]
  },
  {
   "cell_type": "code",
   "execution_count": 6,
   "id": "9ad40450-c175-4e1c-b7e3-e93bba628827",
   "metadata": {},
   "outputs": [
    {
     "name": "stdout",
     "output_type": "stream",
     "text": [
      "The largest number is: 20\n"
     ]
    }
   ],
   "source": [
    "#1.8\n",
    "\n",
    "a, b, c = 10, 20, 15\n",
    "largest = a if (a > b and a > c) else (b if b > c else c)\n",
    "print(f\"The largest number is: {largest}\")\n"
   ]
  },
  {
   "cell_type": "code",
   "execution_count": 7,
   "id": "1f051ec8-8a7e-42ea-8e81-0e294a510c0f",
   "metadata": {},
   "outputs": [
    {
     "name": "stdin",
     "output_type": "stream",
     "text": [
      "Enter a number:  6\n"
     ]
    },
    {
     "name": "stdout",
     "output_type": "stream",
     "text": [
      "Factors of 6 are:\n",
      "1\n",
      "2\n",
      "3\n",
      "6\n"
     ]
    }
   ],
   "source": [
    "#1.9\n",
    "\n",
    "num = int(input(\"Enter a number: \"))\n",
    "i = 1\n",
    "print(f\"Factors of {num} are:\")\n",
    "while i <= num:\n",
    "    if num % i == 0:\n",
    "        print(i)\n",
    "    i += 1\n"
   ]
  },
  {
   "cell_type": "code",
   "execution_count": 8,
   "id": "c2041627-46a4-4af5-b9ae-9ba63f7a0c80",
   "metadata": {},
   "outputs": [
    {
     "name": "stdin",
     "output_type": "stream",
     "text": [
      "Enter a number:  5\n",
      "Enter a number:  5\n",
      "Enter a number:  -1\n"
     ]
    },
    {
     "name": "stdout",
     "output_type": "stream",
     "text": [
      "The sum of all positive numbers is: 10.0\n"
     ]
    }
   ],
   "source": [
    "#1.10\n",
    "\n",
    "total = 0\n",
    "while True:\n",
    "    num = float(input(\"Enter a number: \"))\n",
    "    if num < 0:\n",
    "        break\n",
    "    total += num\n",
    "print(f\"The sum of all positive numbers is: {total}\")\n"
   ]
  },
  {
   "cell_type": "code",
   "execution_count": 9,
   "id": "3954e17c-6c6b-4f78-a612-6b9d0c1cef28",
   "metadata": {},
   "outputs": [
    {
     "name": "stdout",
     "output_type": "stream",
     "text": [
      "2\n",
      "3\n",
      "5\n",
      "7\n",
      "11\n",
      "13\n",
      "17\n",
      "19\n",
      "23\n",
      "29\n",
      "31\n",
      "37\n",
      "41\n",
      "43\n",
      "47\n",
      "53\n",
      "59\n",
      "61\n",
      "67\n",
      "71\n",
      "73\n",
      "79\n",
      "83\n",
      "89\n",
      "97\n"
     ]
    }
   ],
   "source": [
    "#1.11\n",
    "\n",
    "for num in range(2, 101):\n",
    "    is_prime = True\n",
    "    for i in range(2, int(num ** 0.5) + 1):\n",
    "        if num % i == 0:\n",
    "            is_prime = False\n",
    "            break\n",
    "    if is_prime:\n",
    "        print(num)\n"
   ]
  },
  {
   "cell_type": "code",
   "execution_count": 10,
   "id": "8e51c852-9972-4752-b495-b685199700ee",
   "metadata": {},
   "outputs": [
    {
     "name": "stdin",
     "output_type": "stream",
     "text": [
      "Enter marks for subject 1:  45\n",
      "Enter marks for subject 2:  69\n",
      "Enter marks for subject 3:  99\n",
      "Enter marks for subject 4:  81\n",
      "Enter marks for subject 5:  33\n"
     ]
    },
    {
     "name": "stdout",
     "output_type": "stream",
     "text": [
      "Marks in five subjects: [45.0, 69.0, 99.0, 81.0, 33.0]\n"
     ]
    }
   ],
   "source": [
    "#1.12\n",
    "\n",
    "marks = []\n",
    "for i in range(5):\n",
    "    mark = float(input(f\"Enter marks for subject {i+1}: \"))\n",
    "    marks.append(mark)\n",
    "print(\"Marks in five subjects:\", marks)\n"
   ]
  },
  {
   "cell_type": "code",
   "execution_count": 11,
   "id": "9741deda-98fd-406e-8d3b-704de02a70d1",
   "metadata": {},
   "outputs": [
    {
     "name": "stdout",
     "output_type": "stream",
     "text": [
      "Total Marks: 327.0\n",
      "Percentage: 65.4%\n"
     ]
    }
   ],
   "source": [
    "total_marks = sum(marks)\n",
    "percentage = total_marks / 5\n",
    "print(f\"Total Marks: {total_marks}\")\n",
    "print(f\"Percentage: {percentage}%\")\n"
   ]
  },
  {
   "cell_type": "code",
   "execution_count": 12,
   "id": "6d89141a-9c71-4677-b508-a64ffc023d68",
   "metadata": {},
   "outputs": [
    {
     "name": "stdout",
     "output_type": "stream",
     "text": [
      "Grade: C\n"
     ]
    }
   ],
   "source": [
    "def find_grade(percentage):\n",
    "    match percentage:\n",
    "        case p if p > 85:\n",
    "            return 'A'\n",
    "        case p if 75 <= p <= 85:\n",
    "            return 'B'\n",
    "        case p if 50 <= p < 75:\n",
    "            return 'C'\n",
    "        case p if 30 <= p < 50:\n",
    "            return 'D'\n",
    "        case _:\n",
    "            return 'Reappear'\n",
    "\n",
    "grade = find_grade(percentage)\n",
    "print(f\"Grade: {grade}\")\n"
   ]
  },
  {
   "cell_type": "code",
   "execution_count": 13,
   "id": "ce9ff85a-41d1-408d-99f7-439f6114b0d2",
   "metadata": {},
   "outputs": [
    {
     "name": "stdin",
     "output_type": "stream",
     "text": [
      "Enter the wavelength in nm:  591\n"
     ]
    },
    {
     "name": "stdout",
     "output_type": "stream",
     "text": [
      "The color corresponding to the wavelength 591.0 nm is Orange.\n"
     ]
    }
   ],
   "source": [
    "#1.13\n",
    "\n",
    "def find_color(wavelength):\n",
    "    if 400.0 <= wavelength < 440.0:\n",
    "        return \"Violet\"\n",
    "    elif 440.0 <= wavelength < 460.0:\n",
    "        return \"Indigo\"\n",
    "    elif 460.0 <= wavelength < 500.0:\n",
    "        return \"Blue\"\n",
    "    elif 500.0 <= wavelength < 570.0:\n",
    "        return \"Green\"\n",
    "    elif 570.0 <= wavelength < 590.0:\n",
    "        return \"Yellow\"\n",
    "    elif 590.0 <= wavelength < 620.0:\n",
    "        return \"Orange\"\n",
    "    elif 620.0 <= wavelength <= 720.0:\n",
    "        return \"Red\"\n",
    "    else:\n",
    "        return \"Wavelength out of range\"\n",
    "\n",
    "\n",
    "wavelength = float(input(\"Enter the wavelength in nm: \"))\n",
    "color = find_color(wavelength)\n",
    "print(f\"The color corresponding to the wavelength {wavelength} nm is {color}.\")\n"
   ]
  },
  {
   "cell_type": "code",
   "execution_count": 14,
   "id": "80f78c03-5e69-4067-b88b-02cebe49ce9d",
   "metadata": {},
   "outputs": [
    {
     "name": "stdout",
     "output_type": "stream",
     "text": [
      "Gravitational force between Earth and Sun: 3.5423960813684973e+22 N\n",
      "Gravitational force between Moon and Earth: 1.9820225456526813e+20 N\n",
      "The gravitational force between Earth and Sun is stronger.\n",
      "The gravitational force between Earth and Sun is stronger.\n"
     ]
    }
   ],
   "source": [
    "#1.14\n",
    "\n",
    "mass_earth = 5.972e24  # Mass of Earth in kilograms\n",
    "mass_moon = 7.34767309e22  # Mass of Moon in kilograms\n",
    "mass_sun = 1.989e30  # Mass of Sun in kilograms\n",
    "distance_earth_sun = 1.496e11  # Average distance between Earth and Sun in meters\n",
    "distance_moon_earth = 3.844e8  # Average distance between Moon and Earth in meters\n",
    "G = 6.67430e-11  # Gravitational constant in m^3 kg^-1 s^-2\n",
    "\n",
    "force_earth_sun = G * (mass_earth * mass_sun) / (distance_earth_sun ** 2)\n",
    "print(f\"Gravitational force between Earth and Sun: {force_earth_sun} N\")\n",
    "\n",
    "force_moon_earth = G * (mass_moon * mass_earth) / (distance_moon_earth ** 2)\n",
    "print(f\"Gravitational force between Moon and Earth: {force_moon_earth} N\")\n",
    "\n",
    "if force_earth_sun > force_moon_earth:\n",
    "    print(\"The gravitational force between Earth and Sun is stronger.\")\n",
    "else:\n",
    "    print(\"The gravitational force between Moon and Earth is stronger.\")\n",
    "\n",
    "if force_earth_sun > force_moon_earth:\n",
    "    print(\"The gravitational force between Earth and Sun is stronger.\")\n",
    "else:\n",
    "    print(\"The gravitational force between Moon and Earth is stronger.\")\n"
   ]
  },
  {
   "cell_type": "code",
   "execution_count": 1,
   "id": "5c1fa573-5b3f-490a-9dcf-a518fa9aee00",
   "metadata": {},
   "outputs": [
    {
     "name": "stdout",
     "output_type": "stream",
     "text": [
      "Name: Mohd Ahad\n",
      "Age: 21\n",
      "Roll Number: S12345\n",
      "\n",
      "Updated Student Information:\n",
      "Name: Mohammad Ahad\n",
      "Age: 22\n",
      "Roll Number: S12345\n"
     ]
    }
   ],
   "source": [
    "# 2: Design and implement a Python program for managing student information using object-oriented principles.\n",
    "\n",
    "\n",
    "class Student:\n",
    "    def __init__(self, name, age, roll_number):\n",
    "        self.__name = name\n",
    "        self.__age = age\n",
    "        self.__roll_number = roll_number\n",
    "\n",
    "    \n",
    "    def get_name(self):\n",
    "        return self.__name\n",
    "\n",
    "    def get_age(self):\n",
    "        return self.__age\n",
    "\n",
    "    def get_roll_number(self):\n",
    "        return self.__roll_number\n",
    "\n",
    "    \n",
    "    def set_name(self, name):\n",
    "        self.__name = name\n",
    "\n",
    "    def set_age(self, age):\n",
    "        self.__age = age\n",
    "\n",
    "    def set_roll_number(self, roll_number):\n",
    "        self.__roll_number = roll_number\n",
    "\n",
    "    \n",
    "    def display_info(self):\n",
    "        print(f\"Name: {self.__name}\")\n",
    "        print(f\"Age: {self.__age}\")\n",
    "        print(f\"Roll Number: {self.__roll_number}\")\n",
    "\n",
    "    \n",
    "    def update_details(self, name=None, age=None, roll_number=None):\n",
    "        if name:\n",
    "            self.set_name(name)\n",
    "        if age:\n",
    "            self.set_age(age)\n",
    "        if roll_number:\n",
    "            self.set_roll_number(roll_number)\n",
    "\n",
    "            \n",
    "            \n",
    "\n",
    "\n",
    "student1 = Student(\"Mohd Ahad\", 21, \"S12345\")\n",
    "\n",
    "\n",
    "student1.display_info()\n",
    "\n",
    "\n",
    "student1.update_details(name=\"Mohammad Ahad\", age=22)\n",
    "print(\"\\nUpdated Student Information:\")\n",
    "student1.display_info()\n"
   ]
  },
  {
   "cell_type": "code",
   "execution_count": 2,
   "id": "aa54c0fa-a0f3-4546-8619-1119847289f3",
   "metadata": {},
   "outputs": [
    {
     "name": "stdout",
     "output_type": "stream",
     "text": [
      "Book: 1984, Author: George Orwell, Available: True\n",
      "Book: To Kill a Mockingbird, Author: Harper Lee, Available: True\n",
      "The book '1984' has been borrowed.\n",
      "Sorry, the book '1984' is currently unavailable.\n",
      "The book '1984' has been returned.\n",
      "The book '1984' was not borrowed.\n",
      "The book 'To Kill a Mockingbird' has been borrowed.\n",
      "The book 'To Kill a Mockingbird' has been returned.\n"
     ]
    }
   ],
   "source": [
    "# 3 Develop a Python program for managing library resources efficiently.\n",
    "\n",
    "class LibraryBook:\n",
    "    def __init__(self, book_name, author, available=True):\n",
    "        self.__book_name = book_name\n",
    "        self.__author = author\n",
    "        self.__available = available\n",
    "\n",
    "   \n",
    "    def get_book_name(self):\n",
    "        return self.__book_name\n",
    "\n",
    "    def get_author(self):\n",
    "        return self.__author\n",
    "\n",
    "    def is_available(self):\n",
    "        return self.__available\n",
    "\n",
    "    \n",
    "    def set_book_name(self, book_name):\n",
    "        self.__book_name = book_name\n",
    "\n",
    "    def set_author(self, author):\n",
    "        self.__author = author\n",
    "\n",
    "    def set_availability(self, available):\n",
    "        self.__available = available\n",
    "\n",
    "    \n",
    "    def borrow_book(self):\n",
    "        if self.__available:\n",
    "            self.__available = False\n",
    "            print(f\"The book '{self.__book_name}' has been borrowed.\")\n",
    "        else:\n",
    "            print(f\"Sorry, the book '{self.__book_name}' is currently unavailable.\")\n",
    "\n",
    "    \n",
    "    def return_book(self):\n",
    "        if not self.__available:\n",
    "            self.__available = True\n",
    "            print(f\"The book '{self.__book_name}' has been returned.\")\n",
    "        else:\n",
    "            print(f\"The book '{self.__book_name}' was not borrowed.\")\n",
    "\n",
    "            \n",
    "            \n",
    "\n",
    "book1 = LibraryBook(\"1984\", \"George Orwell\")\n",
    "book2 = LibraryBook(\"To Kill a Mockingbird\", \"Harper Lee\")\n",
    "\n",
    "\n",
    "print(f\"Book: {book1.get_book_name()}, Author: {book1.get_author()}, Available: {book1.is_available()}\")\n",
    "print(f\"Book: {book2.get_book_name()}, Author: {book2.get_author()}, Available: {book2.is_available()}\")\n",
    "\n",
    "\n",
    "book1.borrow_book()\n",
    "book1.borrow_book()  \n",
    "book1.return_book()\n",
    "book1.return_book()  \n",
    "\n",
    "book2.borrow_book()\n",
    "book2.return_book()\n"
   ]
  },
  {
   "cell_type": "code",
   "execution_count": 3,
   "id": "edda552b-80b2-4ea1-99d6-0d2f5be1fb09",
   "metadata": {},
   "outputs": [
    {
     "name": "stdout",
     "output_type": "stream",
     "text": [
      "Account Number: SA123\n",
      "Account Holder: Adeeba\n",
      "Balance: 10000.0\n",
      "Account Number: CA456\n",
      "Account Holder: Ahad\n",
      "Balance: 555.0\n",
      "Deposited 200. New balance: 10200.0\n",
      "Deposited 204.0. New balance: 10404.0\n",
      "Interest added: 204.0. New balance: 10404.0\n",
      "Withdrew 1500. New balance: 8904.0\n",
      "Deposited 300. New balance: 855.0\n",
      "Withdrew 700. New balance: 155.0\n",
      "Withdrew 200. New balance: -45.0\n"
     ]
    }
   ],
   "source": [
    "# 4 \n",
    "class BankAccount:\n",
    "    def __init__(self, account_number, account_holder, balance=0.0):\n",
    "        self.__account_number = account_number\n",
    "        self.__account_holder = account_holder\n",
    "        self.__balance = balance\n",
    "\n",
    "   \n",
    "    def get_account_number(self):\n",
    "        return self.__account_number\n",
    "\n",
    "    def get_account_holder(self):\n",
    "        return self.__account_holder\n",
    "\n",
    "    def get_balance(self):\n",
    "        return self.__balance\n",
    "\n",
    "    \n",
    "    def deposit(self, amount):\n",
    "        if amount > 0:\n",
    "            self.__balance += amount\n",
    "            print(f\"Deposited {amount}. New balance: {self.__balance}\")\n",
    "        else:\n",
    "            print(\"Invalid deposit amount\")\n",
    "\n",
    "    \n",
    "    def withdraw(self, amount):\n",
    "        if 0 < amount <= self.__balance:\n",
    "            self.__balance -= amount\n",
    "            print(f\"Withdrew {amount}. New balance: {self.__balance}\")\n",
    "        else:\n",
    "            print(\"Invalid withdrawal amount or insufficient funds\")\n",
    "\n",
    "    \n",
    "    def display_info(self):\n",
    "        print(f\"Account Number: {self.__account_number}\")\n",
    "        print(f\"Account Holder: {self.__account_holder}\")\n",
    "        print(f\"Balance: {self.__balance}\")\n",
    "\n",
    "        \n",
    "class SavingsAccount(BankAccount):\n",
    "    def __init__(self, account_number, account_holder, balance=0.0, interest_rate=0.02):\n",
    "        super().__init__(account_number, account_holder, balance)\n",
    "        self.__interest_rate = interest_rate\n",
    "\n",
    "    \n",
    "    def add_interest(self):\n",
    "        interest = self.get_balance() * self.__interest_rate\n",
    "        self.deposit(interest)\n",
    "        print(f\"Interest added: {interest}. New balance: {self.get_balance()}\")\n",
    "\n",
    "class CheckingAccount(BankAccount):\n",
    "    def __init__(self, account_number, account_holder, balance=0.0, overdraft_limit=500.0):\n",
    "        super().__init__(account_number, account_holder, balance)\n",
    "        self.__overdraft_limit = overdraft_limit\n",
    "\n",
    "    \n",
    "    def withdraw(self, amount):\n",
    "        if 0 < amount <= self.get_balance() + self.__overdraft_limit:\n",
    "            self._BankAccount__balance -= amount\n",
    "            print(f\"Withdrew {amount}. New balance: {self.get_balance()}\")\n",
    "        else:\n",
    "            print(\"Invalid withdrawal amount or overdraft limit exceeded\")\n",
    "\n",
    "            \n",
    "\n",
    "savings = SavingsAccount(\"SA123\", \"Adeeba\", 10000.0)\n",
    "checking = CheckingAccount(\"CA456\", \"Ahad\", 555.0)\n",
    "\n",
    "\n",
    "savings.display_info()\n",
    "checking.display_info()\n",
    "\n",
    "\n",
    "savings.deposit(200)\n",
    "savings.add_interest()\n",
    "savings.withdraw(1500)\n",
    "\n",
    "checking.deposit(300)\n",
    "checking.withdraw(700)\n",
    "checking.withdraw(200)\n"
   ]
  },
  {
   "cell_type": "code",
   "execution_count": 4,
   "id": "4c1489c1-e4cf-45d4-a8e4-3b32ee731849",
   "metadata": {},
   "outputs": [
    {
     "name": "stdout",
     "output_type": "stream",
     "text": [
      "Woof!\n",
      "Meow!\n"
     ]
    }
   ],
   "source": [
    "# 5\n",
    "\n",
    "\n",
    "class Animal:\n",
    "    def make_sound(self):\n",
    "        pass\n",
    "\n",
    "class Dog(Animal):\n",
    "    def make_sound(self):\n",
    "        return \"Woof!\"\n",
    "\n",
    "class Cat(Animal):\n",
    "    def make_sound(self):\n",
    "        return \"Meow!\"\n",
    "\n",
    "\n",
    "dog = Dog()\n",
    "cat = Cat()\n",
    "\n",
    "print(dog.make_sound())  \n",
    "print(cat.make_sound()) \n"
   ]
  },
  {
   "cell_type": "code",
   "execution_count": 5,
   "id": "daef3c76-a048-462f-bad0-31f0f7cb1890",
   "metadata": {},
   "outputs": [],
   "source": [
    "# 6\n",
    "\n",
    "class MenuItem:\n",
    "    def __init__(self, name, description, price, category):\n",
    "        self.__id = id(self)\n",
    "        self.name = name\n",
    "        self.description = description\n",
    "        self.price = price\n",
    "        self.category = category\n",
    "\n",
    "    def get_id(self):\n",
    "        return self.__id\n",
    "\n",
    "\n",
    "class Menu:\n",
    "    def __init__(self):\n",
    "        self.items = []\n",
    "\n",
    "    def add_item(self, item):\n",
    "        self.items.append(item)\n",
    "\n",
    "    def update_item(self, item_id, name=None, description=None, price=None, category=None):\n",
    "        for item in self.items:\n",
    "            if item.get_id() == item_id:\n",
    "                if name: item.name = name\n",
    "                if description: item.description = description\n",
    "                if price: item.price = price\n",
    "                if category: item.category = category\n",
    "\n",
    "    def remove_item(self, item_id):\n",
    "        self.items = [item for item in self.items if item.get_id() != item_id]\n",
    "\n",
    "\n",
    "class FoodItem(MenuItem):\n",
    "    def __init__(self, name, description, price, category, calories):\n",
    "        super().__init__(name, description, price, category)\n",
    "        self.calories = calories\n",
    "\n",
    "class BeverageItem(MenuItem):\n",
    "    def __init__(self, name, description, price, category, volume):\n",
    "        super().__init__(name, description, price, category)\n",
    "        self.volume = volume\n",
    "\n",
    "menu = Menu()\n",
    "pizza = FoodItem(\"Pizza\", \"Cheese Pizza\", 9.99, \"Food\", 300)\n",
    "coffee = BeverageItem(\"Coffee\", \"Black Coffee\", 2.99, \"Beverage\", 250)\n",
    "\n",
    "menu.add_item(pizza)\n",
    "menu.add_item(coffee)\n",
    "\n",
    "\n",
    "menu.update_item(pizza.get_id(), price=10.99)\n",
    "\n",
    "\n",
    "menu.remove_item(coffee.get_id())\n"
   ]
  },
  {
   "cell_type": "code",
   "execution_count": 6,
   "id": "d1a3c31a-eb9b-4a6b-ae6b-6e561c3db834",
   "metadata": {},
   "outputs": [
    {
     "name": "stdout",
     "output_type": "stream",
     "text": [
      "Checked in successfully.\n",
      "True\n",
      "Checked out successfully.\n"
     ]
    }
   ],
   "source": [
    "# 7\n",
    "\n",
    "\n",
    "class Room:\n",
    "    def __init__(self, room_number, room_type, rate):\n",
    "        self.__id = id(self)\n",
    "        self.room_number = room_number\n",
    "        self.room_type = room_type\n",
    "        self.rate = rate\n",
    "        self.__availability = True\n",
    "\n",
    "    def get_id(self):\n",
    "        return self.__id\n",
    "\n",
    "    def is_available(self):\n",
    "        return self.__availability\n",
    "\n",
    "    def book_room(self):\n",
    "        if self.__availability:\n",
    "            self.__availability = False\n",
    "            return True\n",
    "        return False\n",
    "\n",
    "    def check_in(self):\n",
    "        if not self.__availability:\n",
    "            return \"Room is already occupied.\"\n",
    "        self.__availability = False\n",
    "        return \"Checked in successfully.\"\n",
    "\n",
    "    def check_out(self):\n",
    "        if self.__availability:\n",
    "            return \"Room is already vacant.\"\n",
    "        self.__availability = True\n",
    "        return \"Checked out successfully.\"\n",
    "\n",
    "\n",
    "class SuiteRoom(Room):\n",
    "    def __init__(self, room_number, rate, amenities):\n",
    "        super().__init__(room_number, \"Suite\", rate)\n",
    "        self.amenities = amenities\n",
    "\n",
    "class StandardRoom(Room):\n",
    "    def __init__(self, room_number, rate):\n",
    "        super().__init__(room_number, \"Standard\", rate)\n",
    "\n",
    "\n",
    "suite = SuiteRoom(101, 200, [\"WiFi\", \"TV\", \"Mini Bar\"])\n",
    "standard = StandardRoom(102, 100)\n",
    "\n",
    "print(suite.check_in())  \n",
    "print(standard.book_room())  \n",
    "print(standard.check_out())  \n"
   ]
  },
  {
   "cell_type": "code",
   "execution_count": 7,
   "id": "cc72dfb0-759b-490f-86c1-51a7998372c6",
   "metadata": {},
   "outputs": [
    {
     "name": "stdout",
     "output_type": "stream",
     "text": [
      "Member registered successfully.\n",
      "Membership renewed successfully.\n",
      "Membership cancelled successfully.\n"
     ]
    }
   ],
   "source": [
    "# 8\n",
    "\n",
    "\n",
    "class Member:\n",
    "    def __init__(self, name, age, membership_type):\n",
    "        self.__id = id(self)\n",
    "        self.name = name\n",
    "        self.age = age\n",
    "        self.membership_type = membership_type\n",
    "        self.__status = \"Active\"\n",
    "\n",
    "    def get_id(self):\n",
    "        return self.__id\n",
    "\n",
    "    def get_status(self):\n",
    "        return self.__status\n",
    "\n",
    "    def register_member(self):\n",
    "        self.__status = \"Active\"\n",
    "        return \"Member registered successfully.\"\n",
    "\n",
    "    def renew_membership(self):\n",
    "        self.__status = \"Active\"\n",
    "        return \"Membership renewed successfully.\"\n",
    "\n",
    "    def cancel_membership(self):\n",
    "        self.__status = \"Inactive\"\n",
    "        return \"Membership cancelled successfully.\"\n",
    "\n",
    "\n",
    "class FamilyMember(Member):\n",
    "    def __init__(self, name, age, membership_type, family_size):\n",
    "        super().__init__(name, age, membership_type)\n",
    "        self.family_size = family_size\n",
    "\n",
    "class IndividualMember(Member):\n",
    "    def __init__(self, name, age, membership_type):\n",
    "        super().__init__(name, age, membership_type)\n",
    "\n",
    "\n",
    "family_member = FamilyMember(\"Mohd Ahad\", 40, \"Family\", 4)\n",
    "individual_member = IndividualMember(\"Mohd Ahad\", 30, \"Individual\")\n",
    "\n",
    "print(family_member.register_member())  \n",
    "print(individual_member.renew_membership())  \n",
    "print(family_member.cancel_membership())  \n"
   ]
  },
  {
   "cell_type": "code",
   "execution_count": 8,
   "id": "92a4e436-b754-4024-9351-52d68a14dc31",
   "metadata": {},
   "outputs": [
    {
     "name": "stdout",
     "output_type": "stream",
     "text": [
      "1\n",
      "1\n"
     ]
    }
   ],
   "source": [
    "# 9\n",
    "\n",
    "class Event:\n",
    "    def __init__(self, name, date, time, location):\n",
    "        self.__id = id(self)\n",
    "        self.name = name\n",
    "        self.date = date\n",
    "        self.time = time\n",
    "        self.location = location\n",
    "        self.__attendees = []\n",
    "\n",
    "    def get_id(self):\n",
    "        return self.__id\n",
    "\n",
    "    def add_attendee(self, attendee):\n",
    "        self.__attendees.append(attendee)\n",
    "\n",
    "    def remove_attendee(self, attendee):\n",
    "        self.__attendees.remove(attendee)\n",
    "\n",
    "    def get_total_attendees(self):\n",
    "        return len(self.__attendees)\n",
    "\n",
    "\n",
    "class PrivateEvent(Event):\n",
    "    def __init__(self, name, date, time, location, invite_only):\n",
    "        super().__init__(name, date, time, location)\n",
    "        self.invite_only = invite_only\n",
    "\n",
    "class PublicEvent(Event):\n",
    "    def __init__(self, name, date, time, location, max_capacity):\n",
    "        super().__init__(name, date, time, location)\n",
    "        self.max_capacity = max_capacity\n",
    "\n",
    "private_event = PrivateEvent(\"Birthday Party\", \"2024-09-01\", \"18:00\", \"Home\", True)\n",
    "public_event = PublicEvent(\"Concert\", \"2024-09-10\", \"20:00\", \"Stadium\", 5000)\n",
    "\n",
    "private_event.add_attendee(\"John Doe\")\n",
    "public_event.add_attendee(\"Jane Doe\")\n",
    "\n",
    "print(private_event.get_total_attendees())  \n",
    "print(public_event.get_total_attendees())  \n"
   ]
  },
  {
   "cell_type": "code",
   "execution_count": 9,
   "id": "367e5c6c-60fd-48c5-a755-b6ec3c0c2a0f",
   "metadata": {},
   "outputs": [
    {
     "name": "stdout",
     "output_type": "stream",
     "text": [
      "True\n",
      "200\n"
     ]
    }
   ],
   "source": [
    "# 10\n",
    "\n",
    "\n",
    "class Flight:\n",
    "    def __init__(self, flight_number, departure_airport, arrival_airport, departure_time, arrival_time, available_seats):\n",
    "        self.__id = id(self)\n",
    "        self.flight_number = flight_number\n",
    "        self.departure_airport = departure_airport\n",
    "        self.arrival_airport = arrival_airport\n",
    "        self.departure_time = departure_time\n",
    "        self.arrival_time = arrival_time\n",
    "        self.__available_seats = available_seats\n",
    "\n",
    "    def get_id(self):\n",
    "        return self.__id\n",
    "\n",
    "    def book_seat(self):\n",
    "        if self.__available_seats > 0:\n",
    "            self.__available_seats -= 1\n",
    "            return True\n",
    "        return False\n",
    "\n",
    "    def cancel_reservation(self):\n",
    "        self.__available_seats += 1\n",
    "\n",
    "    def get_remaining_seats(self):\n",
    "        return self.__available_seats\n",
    "\n",
    "\n",
    "class DomesticFlight(Flight):\n",
    "    def __init__(self, flight_number, departure_airport, arrival_airport, departure_time, arrival_time, available_seats, domestic_code):\n",
    "        super().__init__(flight_number, departure_airport, arrival_airport, departure_time, arrival_time, available_seats)\n",
    "        self.domestic_code = domestic_code\n",
    "\n",
    "class InternationalFlight(Flight):\n",
    "    def __init__(self, flight_number, departure_airport, arrival_airport, departure_time, arrival_time, available_seats, passport_required):\n",
    "        super().__init__(flight_number, departure_airport, arrival_airport, departure_time, arrival_time, available_seats)\n",
    "        self.passport_required = passport_required\n",
    "\n",
    "# Example usage\n",
    "domestic_flight = DomesticFlight(\"AI101\", \"DEL\", \"MUM\", \"10:00\", \"12:00\", 150, \"DOM123\")\n",
    "international_flight = InternationalFlight(\"AI202\", \"DEL\", \"NYC\", \"22:00\", \"06:00\", 200, True)\n",
    "\n",
    "print(domestic_flight.book_seat()) \n",
    "print(international_flight.get_remaining_seats())  \n"
   ]
  },
  {
   "cell_type": "code",
   "execution_count": 28,
   "id": "72ddf305-48e2-4182-88b2-1f50386cd4ba",
   "metadata": {},
   "outputs": [],
   "source": [
    "# 11\n",
    "\n",
    "# constants.py\n",
    "PI = 3.14159\n",
    "SPEED_OF_LIGHT = 299792458  # in meters per second\n"
   ]
  },
  {
   "cell_type": "code",
   "execution_count": 29,
   "id": "436c1ebc-8e9d-4001-a651-efba5f2ba64a",
   "metadata": {},
   "outputs": [],
   "source": [
    "# 12\n",
    "\n",
    "# calculator.py\n",
    "def add(a, b):\n",
    "    return a + b\n",
    "\n",
    "def subtract(a, b):\n",
    "    return a - b\n",
    "\n",
    "def multiply(a, b):\n",
    "    return a * b\n",
    "\n",
    "def divide(a, b):\n",
    "    if b != 0:\n",
    "        return a / b\n",
    "    else:\n",
    "        return \"Error! Division by zero.\"\n"
   ]
  },
  {
   "cell_type": "code",
   "execution_count": 30,
   "id": "3f72fb5c-1f16-4b4d-aab9-542e856a1cae",
   "metadata": {},
   "outputs": [],
   "source": [
    "# 13\n",
    "\n",
    "# order_processing.py\n",
    "class Order:\n",
    "    def __init__(self, order_id, product, quantity):\n",
    "        self.order_id = order_id\n",
    "        self.product = product\n",
    "        self.quantity = quantity\n",
    "        self.status = \"Pending\"\n",
    "\n",
    "    def process_order(self):\n",
    "        if self.product.stock >= self.quantity:\n",
    "            self.product.update_stock(-self.quantity)\n",
    "            self.status = \"Processed\"\n",
    "        else:\n",
    "            self.status = \"Failed\"\n",
    "\n",
    "    def cancel_order(self):\n",
    "        if self.status == \"Processed\":\n",
    "            self.product.update_stock(self.quantity)\n",
    "        self.status = \"Cancelled\"\n"
   ]
  },
  {
   "cell_type": "code",
   "execution_count": 31,
   "id": "3e42063a-8f19-4577-af4e-1905da46c7a2",
   "metadata": {},
   "outputs": [],
   "source": [
    "# 14\n",
    "\n",
    "# string_utils.py\n",
    "def reverse_string(s):\n",
    "    return s[::-1]\n",
    "\n",
    "def capitalize_string(s):\n",
    "    return s.capitalize()\n"
   ]
  },
  {
   "cell_type": "code",
   "execution_count": 32,
   "id": "ef236426-f48a-42dc-b874-3b6227e4e8de",
   "metadata": {},
   "outputs": [],
   "source": [
    "#15\n",
    "\n",
    "# file_operations.py\n",
    "def read_file(file_path):\n",
    "    with open(file_path, 'r') as file:\n",
    "        return file.read()\n",
    "\n",
    "def write_file(file_path, data):\n",
    "    with open(file_path, 'w') as file:\n",
    "        file.write(data)\n",
    "\n",
    "def append_file(file_path, data):\n",
    "    with open(file_path, 'a') as file:\n",
    "        file.write(data)\n"
   ]
  },
  {
   "cell_type": "code",
   "execution_count": 33,
   "id": "39e205df-8a36-4c27-97da-6778994c9ef1",
   "metadata": {},
   "outputs": [],
   "source": [
    "# 16\n",
    "\n",
    "# create_employees_file.py\n",
    "employees = [\n",
    "    {\"name\": \"John Doe\", \"age\": 30, \"salary\": 50000},\n",
    "    {\"name\": \"Jane Smith\", \"age\": 25, \"salary\": 60000},\n",
    "    {\"name\": \"Emily Davis\", \"age\": 35, \"salary\": 70000}\n",
    "]\n",
    "\n",
    "with open(\"employees.txt\", 'w') as file:\n",
    "    for employee in employees:\n",
    "        file.write(f\"Name: {employee['name']}, Age: {employee['age']}, Salary: {employee['salary']}\\n\")\n"
   ]
  },
  {
   "cell_type": "code",
   "execution_count": null,
   "id": "bdffbdac-e5da-4dc4-9e32-49f7343c4dd0",
   "metadata": {},
   "outputs": [],
   "source": [
    "# 17\n",
    "\n",
    "# read_inventory.py\n",
    "with open(\"inventory.txt\", 'r') as file:\n",
    "    for line in file:\n",
    "        print(line.strip())\n"
   ]
  },
  {
   "cell_type": "code",
   "execution_count": null,
   "id": "451bdf48-243f-48ca-8f58-ae698f720425",
   "metadata": {},
   "outputs": [],
   "source": [
    "# 18\n",
    "\n",
    "# calculate_expenses.py\n",
    "total_expenses = 0\n",
    "with open(\"expenses.txt\", 'r') as file:\n",
    "    for line in file:\n",
    "        total_expenses += float(line.strip())\n",
    "print(f\"Total Expenses: {total_expenses}\")\n"
   ]
  },
  {
   "cell_type": "code",
   "execution_count": null,
   "id": "cd386ee8-0afd-45ad-bb64-a7bad11cf0fc",
   "metadata": {},
   "outputs": [],
   "source": [
    "#19\n",
    "\n",
    "# count_words.py\n",
    "from collections import Counter\n",
    "\n",
    "with open(\"paragraph.txt\", 'r') as file:\n",
    "    text = file.read().lower()\n",
    "    words = text.split()\n",
    "\n",
    "word_count = Counter(words)\n",
    "for word in sorted(word_count):\n",
    "    print(f\"{word}: {word_count[word]}\")\n"
   ]
  },
  {
   "cell_type": "code",
   "execution_count": 10,
   "id": "9dbd5abd-a465-4cba-8b49-05739d31e23a",
   "metadata": {},
   "outputs": [
    {
     "name": "stdout",
     "output_type": "stream",
     "text": [
      "Correlation Coefficient: 0.9031178882610624\n"
     ]
    }
   ],
   "source": [
    "#24\n",
    "\n",
    "import numpy as np\n",
    "\n",
    "\n",
    "accountancy = [45, 70, 65, 30, 90, 40, 50, 75, 85, 60]\n",
    "statistics = [35, 90, 70, 40, 95, 40, 60, 80, 80, 50]\n",
    "\n",
    "\n",
    "correlation_coefficient = np.corrcoef(accountancy, statistics)[0, 1]\n",
    "\n",
    "print(f\"Correlation Coefficient: {correlation_coefficient}\")\n"
   ]
  },
  {
   "cell_type": "code",
   "execution_count": 11,
   "id": "f2125f6f-cf12-4c7d-a2cd-470849760acb",
   "metadata": {},
   "outputs": [
    {
     "name": "stdout",
     "output_type": "stream",
     "text": [
      "Mean of x: 13.0, Mean of y: 17.0\n",
      "Coefficient of correlation: 0.6000000000000001\n",
      "Value of B: 18\n"
     ]
    }
   ],
   "source": [
    "# 27\n",
    "\n",
    "import numpy as np\n",
    "\n",
    "\n",
    "A = np.array([[8, -10], [40, -18]])\n",
    "B = np.array([-66, 214])\n",
    "means = np.linalg.solve(A, B)\n",
    "mean_x, mean_y = means\n",
    "print(f\"Mean of x: {mean_x}, Mean of y: {mean_y}\")\n",
    "\n",
    "\n",
    "b_yx = 8 / 10\n",
    "b_xy = 18 / 40\n",
    "r = np.sqrt(b_yx * b_xy)\n",
    "print(f\"Coefficient of correlation: {r}\")\n",
    "\n",
    "\n",
    "B_value = 18\n",
    "print(f\"Value of B: {B_value}\")\n"
   ]
  },
  {
   "cell_type": "code",
   "execution_count": 12,
   "id": "876e364f-86c1-4d4c-9211-ae80fb8049de",
   "metadata": {},
   "outputs": [
    {
     "name": "stdout",
     "output_type": "stream",
     "text": [
      "Chi-square statistic: 7.7\n",
      "P-value: 0.10320672172612926\n",
      "Fail to reject the null hypothesis: The distribution of grades is uniform.\n"
     ]
    }
   ],
   "source": [
    "# 37\n",
    "\n",
    "import scipy.stats as stats\n",
    "\n",
    "observed = [15, 17, 30, 22, 16]\n",
    "\n",
    "total_students = sum(observed)\n",
    "num_grades = len(observed)\n",
    "expected = [total_students / num_grades] * num_grades\n",
    "\n",
    "\n",
    "chi2, p_value = stats.chisquare(f_obs=observed, f_exp=expected)\n",
    "\n",
    "print(f\"Chi-square statistic: {chi2}\")\n",
    "print(f\"P-value: {p_value}\")\n",
    "\n",
    "alpha = 0.05\n",
    "if p_value < alpha:\n",
    "    print(\"Reject the null hypothesis: The distribution of grades is not uniform.\")\n",
    "else:\n",
    "    print(\"Fail to reject the null hypothesis: The distribution of grades is uniform.\")\n"
   ]
  },
  {
   "cell_type": "code",
   "execution_count": 13,
   "id": "5bf7de3b-b77c-472b-9093-d9beef434064",
   "metadata": {},
   "outputs": [
    {
     "name": "stdout",
     "output_type": "stream",
     "text": [
      "F-statistic: 0.6029143897996357\n",
      "P-value: 0.5773005027709032\n",
      "Fail to reject the null hypothesis: There is no significant difference in performance between the detergents.\n"
     ]
    }
   ],
   "source": [
    "# 38\n",
    "\n",
    "import scipy.stats as stats\n",
    "\n",
    "cold_water = [57, 55, 67]\n",
    "warm_water = [49, 52, 68]\n",
    "hot_water = [54, 46, 58]\n",
    "\n",
    "\n",
    "f_statistic, p_value = stats.f_oneway(cold_water, warm_water, hot_water)\n",
    "\n",
    "print(f\"F-statistic: {f_statistic}\")\n",
    "print(f\"P-value: {p_value}\")\n",
    "\n",
    "alpha = 0.05\n",
    "if p_value < alpha:\n",
    "    print(\"Reject the null hypothesis: There is a significant difference in performance between the detergents.\")\n",
    "else:\n",
    "    print(\"Fail to reject the null hypothesis: There is no significant difference in performance between the detergents.\")\n"
   ]
  },
  {
   "cell_type": "code",
   "execution_count": null,
   "id": "f722361c-d319-490f-846f-1ab70cfc81c9",
   "metadata": {},
   "outputs": [],
   "source": []
  },
  {
   "cell_type": "code",
   "execution_count": null,
   "id": "9dcad9f0-460b-4c26-a450-ce27a0d7f2c5",
   "metadata": {},
   "outputs": [],
   "source": []
  }
 ],
 "metadata": {
  "kernelspec": {
   "display_name": "Python 3 (ipykernel)",
   "language": "python",
   "name": "python3"
  },
  "language_info": {
   "codemirror_mode": {
    "name": "ipython",
    "version": 3
   },
   "file_extension": ".py",
   "mimetype": "text/x-python",
   "name": "python",
   "nbconvert_exporter": "python",
   "pygments_lexer": "ipython3",
   "version": "3.10.8"
  }
 },
 "nbformat": 4,
 "nbformat_minor": 5
}
