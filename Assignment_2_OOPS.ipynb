{
 "cells": [
  {
   "cell_type": "markdown",
   "id": "b1658c45-a155-46b7-bdb4-ad2c03064d26",
   "metadata": {},
   "source": [
    "# 1 Explain the importance of Functions\n",
    "\n",
    "\n",
    "Modularity and Reusability:\n",
    "Functions allow you to break down your code into smaller, manageable pieces. Each function can perform a specific task or solve a particular problem.\n",
    "By organizing your code into functions, you achieve modularity. This means that you can work on individual parts of your program independently. If you need to make changes, you only need to update the relevant function.\n",
    "Reusability is another benefit. Once you’ve written a function, you can call it from different parts of your program. No need to duplicate code!\n",
    "\n",
    "Abstraction and Encapsulation:\n",
    "Functions provide an abstraction layer. You don’t need to know the intricate details of how a function works internally; you only care about what it does (its input and output).\n",
    "Encapsulation refers to bundling data (function arguments) and the operations (function body) that act on that data. Functions encapsulate functionality, making your code more organized and easier to understand.\n",
    "\n",
    "Code Readability and Maintainability:\n",
    "Well-named functions serve as documentation. When you encounter a function called calculate_average, you immediately know what it does.\n",
    "Readable code is maintainable code. If someone else (or even your future self) needs to work with your code, clear functions make their life easier.\n",
    "\n",
    "Parameterization and Flexibility:\n",
    "Functions take parameters (inputs). You can customize their behavior by passing different arguments.\n",
    "For example, think of the built-in print() function. It can print any value you pass to it. That flexibility comes from parameterization.\n",
    "\n",
    "Avoiding Code Duplication:\n",
    "Imagine you need to calculate the area of a rectangle in multiple places within your program. Instead of writing the same formula everywhere, you create a function for it.\n",
    "Now, whenever you need the rectangle area, you call that function. If you find a bug or want to improve the calculation, you fix it in one place—your function.\n",
    "\n",
    "Testing and Debugging:\n",
    "Functions make testing easier. You can isolate specific functionality and write test cases for each function.\n",
    "When you encounter a bug, you can focus on the relevant function rather than sifting through the entire codebase."
   ]
  },
  {
   "cell_type": "code",
   "execution_count": 3,
   "id": "39ffa8c1-9f22-4f2b-b6a4-85f4583be7a6",
   "metadata": {},
   "outputs": [
    {
     "name": "stdout",
     "output_type": "stream",
     "text": [
      "Welcome Students!\n"
     ]
    }
   ],
   "source": [
    "# 2 Write a basic function to greet students.\n",
    "\n",
    "def greet():\n",
    "    print('Welcome Students!')\n",
    "\n",
    "greet()"
   ]
  },
  {
   "cell_type": "markdown",
   "id": "551030c9-597c-4ac6-8279-ad89318cecb4",
   "metadata": {},
   "source": [
    "# 3 What is the difference between print and return statements.\n",
    "\n",
    "\n",
    "The “print” Statement:\n",
    "\n",
    "Think of the “print” statement as your friendly messenger. Its job is to display information to the outside world (usually to your console or terminal).\n",
    "When you use print(something), it dutifully shows you the value of something on your screen.\n",
    "It’s like writing a postcard: you jot down a message, stamp it with print(), and off it goes to the console, saying, “Hey, world, look at this!”\n",
    "\n",
    "\n",
    "The “return” Statement:\n",
    "\n",
    "The “return” statement is more like a secret agent. It operates behind the scenes, doing its covert work inside functions.\n",
    "When a function encounters a “return” statement, it immediately stops executing and hands back a value to whoever called it.\n",
    "Imagine you’re baking cookies. You mix ingredients (inside the function), bake them (execute code), and then—voilà!—you hand over the delicious cookies (the return value) to the person waiting outside the kitchen.\n",
    "\n",
    "Important: Only functions can use “return.” It’s their superpower.\n",
    "\n",
    "\n",
    "Key Differences:\n",
    "\n",
    "Purpose:\n",
    "“print”: Shows stuff on the screen (for debugging, messages, etc.).\n",
    "“return”: Passes a value back from a function.\n",
    "\n",
    "Visibility:\n",
    "“print”: Visible to everyone (including nosy neighbors and curious cats).\n",
    "“return”: Visible only to the function caller (like a secret handshake).\n",
    "\n",
    "Usage:\n",
    "“print”: Used anywhere in your code.\n",
    "“return”: Used only inside functions."
   ]
  },
  {
   "cell_type": "code",
   "execution_count": 4,
   "id": "e70b61e9-c942-4ac3-a749-0c922236d141",
   "metadata": {},
   "outputs": [
    {
     "name": "stdout",
     "output_type": "stream",
     "text": [
      "Welcome, Harry!\n",
      "Welcome, Hermione!\n",
      "Welcome, Ron!\n",
      "Adding 2 of unicorn_hair to the cauldron.\n",
      "Adding 1 of dragon_scale to the cauldron.\n",
      "Adding 3 of moonstone to the cauldron.\n"
     ]
    }
   ],
   "source": [
    "# # 4 What are *args and **kwargs\n",
    "\n",
    "# *args allows us to accept an arbitrary number of positional arguments.\n",
    "# These arguments are collected into a tuple. WE can access them within the function using the args variable \n",
    "\n",
    "def greet_guests(*args):\n",
    "    for guest in args:\n",
    "        print(f\"Welcome, {guest}!\")\n",
    "\n",
    "greet_guests(\"Harry\", \"Hermione\", \"Ron\")  \n",
    "\n",
    "\n",
    "\n",
    "# **kwargs allows US to accept an arbitrary number of keyword arguments.\n",
    "# These arguments are collected into a dictionary. We access them using the kwargs variable\n",
    "\n",
    "def mix_potions(**kwargs):\n",
    "    for ingredient, quantity in kwargs.items():\n",
    "        print(f\"Adding {quantity} of {ingredient} to the cauldron.\")\n",
    "\n",
    "mix_potions(unicorn_hair=2, dragon_scale=1, moonstone=3)\n"
   ]
  },
  {
   "cell_type": "code",
   "execution_count": 5,
   "id": "b43b1b87-74d7-4244-9e84-144a07904c3b",
   "metadata": {},
   "outputs": [],
   "source": [
    "# # 5 Explain the iterator function0\n",
    "\n",
    "# An iterator follows a specific protocol, which involves two essential methods:\n",
    "\n",
    "# __iter__(): This method initializes the iterator. \n",
    "# When you call iter(some_object), it returns an iterator for that object. \n",
    "# The iterator keeps track of where you are in the collection.\n",
    "\n",
    "# __next__(): This method advances the iterator and retrieves the next element. \n",
    "# When you call next(iterator), it gives you the next value from the collection. \n"
   ]
  },
  {
   "cell_type": "code",
   "execution_count": 10,
   "id": "1320a20d-49f9-4a24-986b-71d66ce01321",
   "metadata": {},
   "outputs": [
    {
     "name": "stdout",
     "output_type": "stream",
     "text": [
      "Square from 1 to  10 are:\n",
      "1 4 9 16 25 36 49 64 81 100 "
     ]
    }
   ],
   "source": [
    "# 6 Write a code that generates the squares of numbers from 1 to n using a generator.\n",
    "\n",
    "def generate_sq(n):\n",
    "    for i in range(1,n+1):\n",
    "        yield i**2\n",
    "    \n",
    "n=10\n",
    "sq_gen=generate_sq(n)\n",
    "\n",
    "print('Square from 1 to ',n ,'are:')\n",
    "for i in sq_gen:\n",
    "    print(i, end=' ')"
   ]
  },
  {
   "cell_type": "code",
   "execution_count": 11,
   "id": "a75f5ecb-5d22-4c25-924e-b4161ee6156d",
   "metadata": {},
   "outputs": [
    {
     "name": "stdout",
     "output_type": "stream",
     "text": [
      "Palindromic numbers up to 100 are:\n",
      "1 2 3 4 5 6 7 8 9 11 22 33 44 55 66 77 88 99 "
     ]
    }
   ],
   "source": [
    "# 7  Write a code that generates palindromic numbers up to n using a generator0\n",
    "\n",
    "def generate_palindromes(n):\n",
    "    for num in range(1, n + 1):\n",
    "        num_str = str(num)\n",
    "        if num_str == num_str[::-1]: \n",
    "            yield num\n",
    "\n",
    "\n",
    "n = 100  \n",
    "palindrome_gen = generate_palindromes(n)\n",
    "\n",
    "print(\"Palindromic numbers up to\", n, \"are:\")\n",
    "for palindrome in palindrome_gen:\n",
    "    print(palindrome, end=\" \")  \n"
   ]
  },
  {
   "cell_type": "code",
   "execution_count": 12,
   "id": "16f16500-52c7-43a7-bd63-27f88b6715b7",
   "metadata": {},
   "outputs": [
    {
     "name": "stdout",
     "output_type": "stream",
     "text": [
      "Even numbers from 2 to  100  are:\n",
      "2 4 6 8 10 12 14 16 18 20 22 24 26 28 30 32 34 36 38 40 42 44 46 48 50 52 54 56 58 60 62 64 66 68 70 72 74 76 78 80 82 84 86 88 90 92 94 96 98 100 "
     ]
    }
   ],
   "source": [
    "# 8 rite a code that generates even numbers from 2 to n using a generator\n",
    "\n",
    "def gen_even(n):\n",
    "    for i in range (2,n+1):\n",
    "        if(i%2==0):\n",
    "            yield i\n",
    "            \n",
    "n=100\n",
    "even_generator=gen_even(n)\n",
    "\n",
    "print('Even numbers from 2 to ', n,' are:')\n",
    "for i in even_generator:\n",
    "    print(i, end=' ')"
   ]
  },
  {
   "cell_type": "code",
   "execution_count": 14,
   "id": "db9400ba-526d-47bc-9519-55c8839d8004",
   "metadata": {},
   "outputs": [
    {
     "name": "stdout",
     "output_type": "stream",
     "text": [
      "Power of 2 from 1 to  10  are:\n",
      "2 4 8 16 32 64 128 256 512 1024 "
     ]
    }
   ],
   "source": [
    "# 9  Write a code that generates powers of two up to n using a generator0\n",
    "\n",
    "def gen_power(n):\n",
    "    for i in range (1,n+1):\n",
    "        yield 2**i\n",
    "        \n",
    "            \n",
    "n=10\n",
    "power_generator=gen_power(n)\n",
    "\n",
    "print('Power of 2 from 1 to ', n,' are:')\n",
    "for i in power_generator:\n",
    "    print(i, end=' ')"
   ]
  },
  {
   "cell_type": "code",
   "execution_count": 16,
   "id": "a39cbea7-ba3f-482f-9aa1-ad94edc136fa",
   "metadata": {},
   "outputs": [
    {
     "name": "stdout",
     "output_type": "stream",
     "text": [
      "Prime numbers up to 50 are:\n",
      "2 3 5 7 11 13 17 19 23 29 31 37 41 43 47 "
     ]
    }
   ],
   "source": [
    "# 10 Write a code that generates prime numbers up to n using a generator.\n",
    "\n",
    "\n",
    "def is_prime(number):\n",
    "    \n",
    "    if number < 2:\n",
    "        return False\n",
    "    for divisor in range(2, int(number**0.5) + 1):\n",
    "        if number % divisor == 0:\n",
    "            return False\n",
    "    return True\n",
    "\n",
    "def generate_primes(n):\n",
    "    for num in range(2, n + 1):\n",
    "        if is_prime(num):\n",
    "            yield num\n",
    "\n",
    "\n",
    "n = 50 \n",
    "prime_gen = generate_primes(n)\n",
    "\n",
    "print(\"Prime numbers up to\", n, \"are:\")\n",
    "for prime in prime_gen:\n",
    "    print(prime, end=\" \")\n",
    "    \n"
   ]
  },
  {
   "cell_type": "code",
   "execution_count": 17,
   "id": "3144954e-1cbf-4ac5-9355-16f2de6d6c81",
   "metadata": {},
   "outputs": [
    {
     "data": {
      "text/plain": [
       "11"
      ]
     },
     "execution_count": 17,
     "metadata": {},
     "output_type": "execute_result"
    }
   ],
   "source": [
    "# 11 Write a code that uses a lambda function to calculate the sum of two numbers\n",
    "\n",
    "sum=lambda a,b:a+b\n",
    "sum(5,6)"
   ]
  },
  {
   "cell_type": "code",
   "execution_count": 18,
   "id": "b2f421c3-3f37-4bd3-9827-7eaa14b28892",
   "metadata": {},
   "outputs": [
    {
     "data": {
      "text/plain": [
       "81"
      ]
     },
     "execution_count": 18,
     "metadata": {},
     "output_type": "execute_result"
    }
   ],
   "source": [
    "# 12  Write a code that uses a lambda function to calculate the square of a given number\n",
    "\n",
    "sq=lambda a: a**2\n",
    "\n",
    "sq(9)"
   ]
  },
  {
   "cell_type": "code",
   "execution_count": 23,
   "id": "8e77e6bf-11b4-4d18-8727-ea39f7a103f4",
   "metadata": {},
   "outputs": [
    {
     "name": "stdout",
     "output_type": "stream",
     "text": [
      "5  is odd\n"
     ]
    }
   ],
   "source": [
    "# 13 Write a code that uses a lambda function to check whether a given number is even or odd\n",
    "\n",
    "is_even=lambda a:a%2==0\n",
    "\n",
    "n=5\n",
    "\n",
    "if(is_even(n)):\n",
    "    print(n,' is even')\n",
    "else:\n",
    "    print(n,' is odd')"
   ]
  },
  {
   "cell_type": "code",
   "execution_count": 24,
   "id": "5dd29020-d92e-4d7c-98fc-0818d8d7358f",
   "metadata": {},
   "outputs": [
    {
     "data": {
      "text/plain": [
       "'Hello World'"
      ]
     },
     "execution_count": 24,
     "metadata": {},
     "output_type": "execute_result"
    }
   ],
   "source": [
    "# 15 Write a code that uses a lambda function to concatenate two strings0\n",
    "\n",
    "con=lambda a,b:a+b\n",
    "\n",
    "a='Hello '\n",
    "b='World'\n",
    "\n",
    "con(a,b)"
   ]
  },
  {
   "cell_type": "code",
   "execution_count": 26,
   "id": "d69c4fea-3cdc-45af-b1cd-0843fd164190",
   "metadata": {},
   "outputs": [
    {
     "data": {
      "text/plain": [
       "3"
      ]
     },
     "execution_count": 26,
     "metadata": {},
     "output_type": "execute_result"
    }
   ],
   "source": [
    "# 16  Write a code that uses a lambda function to find the maximum of three given numbers0\n",
    "\n",
    "find_max=lambda a,b,c:max(a,b,c)\n",
    "\n",
    "find_max(1,2,3)"
   ]
  },
  {
   "cell_type": "code",
   "execution_count": 28,
   "id": "7924cc6b-c5a4-4708-8f0a-efb561262260",
   "metadata": {},
   "outputs": [
    {
     "name": "stdout",
     "output_type": "stream",
     "text": [
      "4\n",
      "16\n",
      "36\n",
      "64\n"
     ]
    }
   ],
   "source": [
    "# 17 0 Write a code that generates the squares of even numbers from a given list0\n",
    "\n",
    "l=[1,2,3,4,5,6,7,8,9]\n",
    "\n",
    "def even_sq(l):\n",
    "    for i in l:\n",
    "        if(i%2==0):\n",
    "            print(i**2)\n",
    "            \n",
    "even_sq(l)"
   ]
  },
  {
   "cell_type": "code",
   "execution_count": 31,
   "id": "3f1c746a-db09-4a4a-830a-53db048c3d1e",
   "metadata": {},
   "outputs": [
    {
     "name": "stdout",
     "output_type": "stream",
     "text": [
      "the product of +ve integers in the list is : 3780\n"
     ]
    }
   ],
   "source": [
    "# 18 Write a code that calculates the product of positive numbers from a given list\n",
    "\n",
    "l2=[-1,-2,3,4,5,-6,7,-8,9]\n",
    "\n",
    "product=1\n",
    "\n",
    "def prod_positive(l):\n",
    "    product=1\n",
    "    for i in l:\n",
    "        if(i>0):\n",
    "            product*=i\n",
    "    return product\n",
    "            \n",
    "print('the product of +ve integers in the list is :',prod_positive(l2))"
   ]
  },
  {
   "cell_type": "code",
   "execution_count": 32,
   "id": "3c28f271-d9dd-404f-8578-f0cf1ee618ad",
   "metadata": {},
   "outputs": [
    {
     "data": {
      "text/plain": [
       "[2, 2, 6, 4, 10, 6, 14, 8, 18]"
      ]
     },
     "execution_count": 32,
     "metadata": {},
     "output_type": "execute_result"
    }
   ],
   "source": [
    "# 19  Write a code that doubles the values of odd numbers from a given list0\n",
    "l=[1,2,3,4,5,6,7,8,9]\n",
    "\n",
    "def double_odd(l):\n",
    "    new_l=[]\n",
    "    for i in l:\n",
    "        if(i%2!=0):\n",
    "            new_l.append(i*2)\n",
    "        else:\n",
    "            new_l.append(i)\n",
    "    return new_l\n",
    "\n",
    "double_odd(l)"
   ]
  },
  {
   "cell_type": "code",
   "execution_count": 33,
   "id": "3b329760-eae0-4a25-acb6-85640f32cb1d",
   "metadata": {},
   "outputs": [
    {
     "data": {
      "text/plain": [
       "2025"
      ]
     },
     "execution_count": 33,
     "metadata": {},
     "output_type": "execute_result"
    }
   ],
   "source": [
    "# 20 Write a code that calculates the sum of cubes of numbers from a given list\n",
    "\n",
    "l=[1,2,3,4,5,6,7,8,9]\n",
    "\n",
    "def cube_sum(l):\n",
    "    sum_cube=0\n",
    "    for i in l:\n",
    "        sum_cube+=(i**3)\n",
    "    return sum_cube\n",
    "\n",
    "cube_sum(l)"
   ]
  },
  {
   "cell_type": "code",
   "execution_count": 34,
   "id": "60b75c8f-5870-4295-b9ac-0ce1ed7a0c3e",
   "metadata": {},
   "outputs": [
    {
     "name": "stdout",
     "output_type": "stream",
     "text": [
      "Original list: [2, 3, 5, 7, 10, 11, 13, 17, 20]\n",
      "Prime numbers: [2, 3, 5, 7, 11, 13, 17]\n"
     ]
    }
   ],
   "source": [
    "# 21  Write a code that filters out prime numbers from a given list\n",
    "\n",
    "def is_prime(num):\n",
    "\n",
    "    if num < 2:\n",
    "        return False\n",
    "    for i in range(2, int(num**0.5) + 1):\n",
    "        if num % i == 0:\n",
    "            return False\n",
    "    return True\n",
    "\n",
    "def filter_primes(numbers):\n",
    "\n",
    "    return [num for num in numbers if is_prime(num)]\n",
    "\n",
    "# Example usage:\n",
    "my_numbers = [2, 3, 5, 7, 10, 11, 13, 17, 20]\n",
    "prime_numbers = filter_primes(my_numbers)\n",
    "\n",
    "print(f\"Original list: {my_numbers}\")\n",
    "print(f\"Prime numbers: {prime_numbers}\")\n"
   ]
  },
  {
   "cell_type": "code",
   "execution_count": 35,
   "id": "93c54702-ab18-4fe0-a277-05cafd719a29",
   "metadata": {},
   "outputs": [
    {
     "data": {
      "text/plain": [
       "7"
      ]
     },
     "execution_count": 35,
     "metadata": {},
     "output_type": "execute_result"
    }
   ],
   "source": [
    "# 22 Write a code that uses a lambda function to calculate the sum of two numbers\n",
    "\n",
    "sum=lambda a,b:a+b\n",
    "sum(4,3)"
   ]
  },
  {
   "cell_type": "code",
   "execution_count": 36,
   "id": "809faae9-4734-469e-b4a1-66a024acc643",
   "metadata": {},
   "outputs": [
    {
     "data": {
      "text/plain": [
       "100"
      ]
     },
     "execution_count": 36,
     "metadata": {},
     "output_type": "execute_result"
    }
   ],
   "source": [
    "# 23 Write a code that uses a lambda function to calculate the square of a given number0\n",
    "\n",
    "sq=lambda a: a**2\n",
    "\n",
    "sq(10)"
   ]
  },
  {
   "cell_type": "code",
   "execution_count": 37,
   "id": "3a121fd1-9591-4ab6-b1ed-73ea808064c9",
   "metadata": {},
   "outputs": [
    {
     "name": "stdout",
     "output_type": "stream",
     "text": [
      "64  is even\n"
     ]
    }
   ],
   "source": [
    "# 24 Write a code that uses a lambda function to check whether a given number is even or odd\n",
    "\n",
    "\n",
    "is_even=lambda a:a%2==0\n",
    "\n",
    "n=64\n",
    "\n",
    "if(is_even(n)):\n",
    "    print(n,' is even')\n",
    "else:\n",
    "    print(n,' is odd')"
   ]
  },
  {
   "cell_type": "code",
   "execution_count": 38,
   "id": "b98bc0b6-f48f-49b6-971f-246e63423859",
   "metadata": {},
   "outputs": [
    {
     "data": {
      "text/plain": [
       "'Data Science'"
      ]
     },
     "execution_count": 38,
     "metadata": {},
     "output_type": "execute_result"
    }
   ],
   "source": [
    "# 25 Write a code that uses a lambda function to concatenate two strings\n",
    "\n",
    "con=lambda a,b:a+b\n",
    "\n",
    "a='Data '\n",
    "b='Science'\n",
    "\n",
    "con(a,b)"
   ]
  },
  {
   "cell_type": "code",
   "execution_count": 39,
   "id": "e84add40-f6af-4e80-91c5-b7f58481b2c5",
   "metadata": {},
   "outputs": [
    {
     "data": {
      "text/plain": [
       "13"
      ]
     },
     "execution_count": 39,
     "metadata": {},
     "output_type": "execute_result"
    }
   ],
   "source": [
    "# 26 Write a code that uses a lambda function to find the maximum of three given numbers\n",
    "\n",
    "find_max=lambda a,b,c:max(a,b,c)\n",
    "\n",
    "find_max(11,13,9)"
   ]
  },
  {
   "cell_type": "markdown",
   "id": "07deaf2e-809c-4390-a3ae-b8e46a594f39",
   "metadata": {},
   "source": [
    "# 27 What is encapsulation in OOP?\n",
    "\n",
    "Encapsulation involves bundling data (attributes or properties) together with the methods (functions) that operate on that data within a single unit, typically known as a class. Here are the key points about encapsulation:\n",
    "\n",
    "Data and Methods Together: When you design a class, you organize related data (such as variables or fields) and the functions (methods) that manipulate that data. This bundling ensures that the data and the operations on it are closely tied together.\n",
    "\n",
    "Information Hiding: One of the primary goals of encapsulation is to hide the internal details of an object from the outside world. By doing so, you protect the integrity of the object’s state. Imagine you have a Person class with attributes like name, age, and address. Encapsulation allows you to control how these attributes are accessed and modified. You can make some attributes private (not directly accessible) and provide public methods (like getters and setters) to interact with them. This way, you expose only what’s necessary and keep the rest hidden.\n",
    "\n",
    "Getter and Setter Methods: In most object-oriented languages, you’ll encounter getter methods (also called accessors) and setter methods (mutators). "
   ]
  },
  {
   "cell_type": "markdown",
   "id": "a7d10d3f-b61a-49c3-a49d-fde1369eac12",
   "metadata": {},
   "source": [
    "# 28 Explain the use of access modifiers in Python classes\n",
    "\n",
    "Public Access Modifier:\n",
    "By default, all data members (variables) and member functions (methods) of a class are public.\n",
    "Public members can be accessed from any part of the program.\n",
    "\n",
    "Protected Access Modifier:\n",
    "Protected members are accessible only within the class itself and its subclasses (derived classes).\n",
    "To declare a member as protected, prefix its name with a single underscore (_).\n",
    "\n",
    "Private Access Modifier:\n",
    "Private members are not directly accessible from outside the class.\n",
    "To declare a member as private, prefix its name with double underscores (__)."
   ]
  },
  {
   "cell_type": "markdown",
   "id": "ace22dbf-7aec-4448-8ee4-840cb539ec74",
   "metadata": {},
   "source": [
    "# 29 hat is inheritance in OOP?\n",
    "\n",
    "Inheritance creates a hierarchical relationship between classes, where one class (the subclass or child class) inherits properties and behaviors from another class (the superclass, parent class, or base class).\n",
    "When a class inherits from another, it gains access to all the attributes (data members) and methods (functions) of the superclass. Essentially, it “inherits” the blueprint for creating objects.\n",
    "Inheritance promotes code reuse and establishes relationships between classes."
   ]
  },
  {
   "cell_type": "markdown",
   "id": "0e0c08a1-dbb8-468e-a015-ce2fbfc87aea",
   "metadata": {},
   "source": [
    "# 30 Define polymorphism in OOP\n",
    "\n",
    "Polymorphism describes situations in which something occurs in several different forms.\n",
    "In computer science, polymorphism refers to the concept that you can interact with objects of different types through the same interface.\n",
    "Each type (class) can provide its own independent implementation of this shared interface.\n",
    "Think of it as a way to treat different objects uniformly, even if they belong to different classes.\n"
   ]
  },
  {
   "cell_type": "markdown",
   "id": "098d0382-844d-4d7f-95b8-0126974c5daf",
   "metadata": {},
   "source": [
    "# 31 Explain method overriding in Python\n",
    "\n",
    "When a method in a subclass has the same name, same parameters or signature, and same return type (or sub-type) as a method in its superclass, then the method in the subclass is said to override the method in the superclass.\n",
    "The version of the method that gets executed is determined by the object that invokes it. If an object of the parent class is used to invoke the method, the version in the parent class will be executed. If an object of the subclass is used, the version in the child class will be executed.\n",
    "In other words, it’s the type of the object being referred to (not the type of the reference variable) that determines which version of an overridden method will be executed."
   ]
  },
  {
   "cell_type": "code",
   "execution_count": 40,
   "id": "ac4eca38-5600-422a-bba5-5be4d5377d01",
   "metadata": {},
   "outputs": [],
   "source": [
    "# 32 efine a parent class Animal with a method make_sound that prints \"Generic animal sound\". Create a\n",
    "# child class Dog inheriting from Animal with a method make_sound that prints \"Woof!\"\n",
    "\n",
    "class Animal:\n",
    "    def make_sound(self):\n",
    "        print('Generic animal sound')\n",
    "class Dog(Animal):\n",
    "    def make_sound(self):\n",
    "        print('Woof!')"
   ]
  },
  {
   "cell_type": "code",
   "execution_count": 42,
   "id": "cd32c558-06dd-4040-ab30-81a36be4a694",
   "metadata": {},
   "outputs": [
    {
     "name": "stdout",
     "output_type": "stream",
     "text": [
      "Woof!\n"
     ]
    }
   ],
   "source": [
    "dog=Dog()\n",
    "dog.make_sound()"
   ]
  },
  {
   "cell_type": "code",
   "execution_count": 43,
   "id": "916c0878-6c2b-449f-a3d5-a8e1684646a3",
   "metadata": {},
   "outputs": [],
   "source": [
    "## 33 Define a method move in the Animal class that prints \"Animal moves\". Override the move method in the\n",
    "# Dog class to print \"Dog runs.\n",
    "\n",
    "class Animal:\n",
    "    def make_sound(self):\n",
    "        print('Generic animal sound')\n",
    "    def move(self):\n",
    "        print('Animal moves')\n",
    "        \n",
    "class Dog(Animal):\n",
    "    def make_sound(self):\n",
    "        print('Woof!')\n",
    "    def move(self):\n",
    "        print('Dog runs')"
   ]
  },
  {
   "cell_type": "code",
   "execution_count": 44,
   "id": "26ad5db0-d130-434e-9401-2aad605e07a4",
   "metadata": {},
   "outputs": [
    {
     "name": "stdout",
     "output_type": "stream",
     "text": [
      "Dog runs\n"
     ]
    }
   ],
   "source": [
    "dog=Dog()\n",
    "dog.move()"
   ]
  },
  {
   "cell_type": "code",
   "execution_count": 48,
   "id": "26f91ae8-dd2a-4cc7-8d08-c5588701bdf7",
   "metadata": {},
   "outputs": [],
   "source": [
    "# 34 reate a class Mammal with a method reproduce that prints \"Giving birth to live young.\" Create a class\n",
    "# DogMammal inheriting from both Dog and Mammal\n",
    "\n",
    "class Mammal:\n",
    "    def reproduce(self):\n",
    "        print(\"Giving birth to live young.\")\n",
    "        \n",
    "class DogMammal(Dog,Mammal):\n",
    "    def fun(self):\n",
    "        print('DogMammal Class')"
   ]
  },
  {
   "cell_type": "code",
   "execution_count": 50,
   "id": "5496338e-9d0f-4c3d-8c4b-58a5dc0ea083",
   "metadata": {},
   "outputs": [
    {
     "name": "stdout",
     "output_type": "stream",
     "text": [
      "Giving birth to live young.\n",
      "Woof!\n"
     ]
    }
   ],
   "source": [
    "dog_mammal=DogMammal()\n",
    "dog_mammal.reproduce()\n",
    "dog_mammal.make_sound()"
   ]
  },
  {
   "cell_type": "code",
   "execution_count": 51,
   "id": "9d6977c6-eb04-4a04-98af-4f6e517f1499",
   "metadata": {},
   "outputs": [],
   "source": [
    "# 35 Create a class GermanShepherd inheriting from Dog and override the make_sound method to print \"Bark!\n",
    "\n",
    "class GermanShepherd(Dog):\n",
    "    def make_sound(self):\n",
    "        print('Bark!')"
   ]
  },
  {
   "cell_type": "code",
   "execution_count": 52,
   "id": "c48e0050-fb9e-4970-926c-5cf4e2f14f05",
   "metadata": {},
   "outputs": [
    {
     "name": "stdout",
     "output_type": "stream",
     "text": [
      "Bark!\n"
     ]
    }
   ],
   "source": [
    "ger_dog=GermanShepherd()\n",
    "ger_dog.make_sound()"
   ]
  },
  {
   "cell_type": "code",
   "execution_count": 53,
   "id": "b5c5aa00-5caa-4c99-b3e5-83989a2aaf5f",
   "metadata": {},
   "outputs": [],
   "source": [
    "# 36 define constructors in both the Animal and Dog classes with different initialization parameters.\n",
    "\n",
    "class Animal:\n",
    "    def __init__(self, no_of_animal):\n",
    "        self.no_animal=no_of_animal\n",
    "    def make_sound(self):\n",
    "        print('Generic animal sound')\n",
    "    def move(self):\n",
    "        print('Animal moves')\n",
    "        \n",
    "        \n",
    "class Dog(Animal):\n",
    "    def __init__(self, no_of_dogs):\n",
    "        self.no_dogs=no_of_dogs\n",
    "    def make_sound(self):\n",
    "        print('Woof!')\n",
    "    def move(self):\n",
    "        print('Dog runs')"
   ]
  },
  {
   "cell_type": "markdown",
   "id": "608e9ba6-97e5-408a-8fff-393e307e6955",
   "metadata": {},
   "source": [
    "# 37 at is abstraction in Python? How is it implemented?\n",
    "\n",
    "Abstraction involves separating the essential features or behaviors of an object from the specific implementation details.\n",
    "It provides a high-level view of an object, focusing on what it does rather than how it does it.\n",
    "\n",
    "In Python, we achieve abstraction through the use of abstract classes and interfaces.\n",
    "Abstract classes define a common interface for a group of subclasses. They enforce certain methods to be implemented by any subclass, ensuring a consistent API and encouraging code reuse.\n",
    "The abc (abstract base class) module provides the necessary tools for creating abstract classes."
   ]
  },
  {
   "cell_type": "code",
   "execution_count": 54,
   "id": "30621a88-fc46-46c0-9993-a061fb1111b7",
   "metadata": {},
   "outputs": [
    {
     "name": "stdout",
     "output_type": "stream",
     "text": [
      "Circle area: 78.5\n",
      "Circle perimeter: 31.400000000000002\n"
     ]
    }
   ],
   "source": [
    "from abc import ABC, abstractmethod\n",
    "\n",
    "class Shape(ABC):\n",
    "    @abstractmethod\n",
    "    def area(self):\n",
    "        pass\n",
    "\n",
    "    @abstractmethod\n",
    "    def perimeter(self):\n",
    "        pass\n",
    "\n",
    "class Circle(Shape):\n",
    "    def __init__(self, radius):\n",
    "        self.radius = radius\n",
    "\n",
    "    def area(self):\n",
    "        return 3.14 * self.radius ** 2\n",
    "\n",
    "    def perimeter(self):\n",
    "        return 2 * 3.14 * self.radius\n",
    "\n",
    "my_circle = Circle(5)\n",
    "print(\"Circle area:\", my_circle.area())\n",
    "print(\"Circle perimeter:\", my_circle.perimeter())\n"
   ]
  },
  {
   "cell_type": "markdown",
   "id": "98cd807f-d604-4327-ac35-5eaedd792e55",
   "metadata": {},
   "source": [
    "# 38 xplain the importance of abstraction in object-oriented programming.\n",
    "\n",
    "\n",
    "Importance of Abstraction:\n",
    "Modularity: Abstraction makes it easier to design modular and well-organized code.\n",
    "Code Reuse: By exposing only essential information, you promote code reuse across different parts of your program.\n",
    "Maintenance and Collaboration: Abstraction simplifies understanding and maintenance, especially when multiple developers collaborate on a project."
   ]
  },
  {
   "cell_type": "markdown",
   "id": "c91a9476-4cea-41b4-8042-d9c335ec7b03",
   "metadata": {},
   "source": [
    "# 39 How are abstract methods different from regular methods in Python?\n",
    "\n",
    "Abstract Methods:\n",
    "\n",
    "Definition: Abstract methods are methods that are declared in a class but not defined (i.e., they have no implementation).\n",
    "\n",
    "Purpose: They serve as placeholders or blueprints for functionality that is expected to be implemented by subclasses based on their specific requirements.\n",
    "\n",
    "Usage:\n",
    "Abstract methods are typically defined in abstract classes (classes that cannot be instantiated directly).\n",
    "To create an abstract method, you use the @abstractmethod decorator from the abc (abstract base class) module.\n",
    "Subclasses inheriting from an abstract class must override all its abstract methods.\n",
    "\n",
    "Regular Methods:\n",
    "\n",
    "Definition: Regular methods (also called concrete methods) have a complete implementation and can be called directly.\n",
    "\n",
    "Purpose: They provide specific behavior for an object.\n",
    "\n",
    "Usage:\n",
    "Regular methods are defined in both abstract and concrete classes.\n",
    "They can be called on instances of the class.\n",
    "Regular methods do not require any special decorators."
   ]
  },
  {
   "cell_type": "markdown",
   "id": "3818da58-0109-4655-a546-9cb8b4f341fe",
   "metadata": {},
   "source": [
    "# 40  How can you achieve abstraction using interfaces in Python?\n",
    "\n",
    "Abstract Classes (Informal Interfaces):\n",
    "Abstract classes define a common interface for their subclasses. They serve as blueprints for designing related classes.\n",
    "In Python, we use the abc (abstract base class) module to create abstract classes.\n",
    "An abstract class can have both regular methods (with implementations) and abstract methods (without implementations).\n",
    "Abstract methods are declared using the @abstractmethod\n",
    "\n",
    "Interfaces (Formal Interfaces):\n",
    "While Python doesn’t have a strict concept of interfaces like some other languages (e.g., Java), we can create interfaces using abstract classes with only abstract methods.\n",
    "By convention, interface names are often prefixed with “I” (e.g., IInterface).\n",
    "Any class that implements an interface must provide concrete implementations for all the methods defined in the interface."
   ]
  },
  {
   "cell_type": "code",
   "execution_count": 55,
   "id": "e0248a15-8b5b-42f5-87d1-56c6a5f4eed0",
   "metadata": {},
   "outputs": [
    {
     "name": "stdout",
     "output_type": "stream",
     "text": [
      "Circle area: 78.5\n",
      "Circle perimeter: 31.400000000000002\n",
      "Rectangle area: 24\n",
      "Rectangle perimeter: 20\n"
     ]
    }
   ],
   "source": [
    "# 41 Can you provide an example of how abstraction can be utilized to create a common interface for a group\n",
    "# of related classes in Python\n",
    "\n",
    "from abc import ABC, abstractmethod\n",
    "\n",
    "class Shape(ABC):\n",
    "    \"\"\"\n",
    "    Abstract base class for geometric shapes.\n",
    "    \"\"\"\n",
    "\n",
    "    @abstractmethod\n",
    "    def area(self):\n",
    "        \"\"\"\n",
    "        Calculate the area of the shape.\n",
    "        \"\"\"\n",
    "        pass\n",
    "\n",
    "    @abstractmethod\n",
    "    def perimeter(self):\n",
    "        \"\"\"\n",
    "        Calculate the perimeter (circumference) of the shape.\n",
    "        \"\"\"\n",
    "        pass\n",
    "\n",
    "class Circle(Shape):\n",
    "    def __init__(self, radius):\n",
    "        self.radius = radius\n",
    "\n",
    "    def area(self):\n",
    "        return 3.14 * self.radius ** 2\n",
    "\n",
    "    def perimeter(self):\n",
    "        return 2 * 3.14 * self.radius\n",
    "\n",
    "class Rectangle(Shape):\n",
    "    def __init__(self, length, width):\n",
    "        self.length = length\n",
    "        self.width = width\n",
    "\n",
    "    def area(self):\n",
    "        return self.length * self.width\n",
    "\n",
    "    def perimeter(self):\n",
    "        return 2 * (self.length + self.width)\n",
    "\n",
    "# Example usage\n",
    "my_circle = Circle(radius=5)\n",
    "my_rectangle = Rectangle(length=4, width=6)\n",
    "\n",
    "print(f\"Circle area: {my_circle.area()}\")\n",
    "print(f\"Circle perimeter: {my_circle.perimeter()}\")\n",
    "\n",
    "print(f\"Rectangle area: {my_rectangle.area()}\")\n",
    "print(f\"Rectangle perimeter: {my_rectangle.perimeter()}\")\n"
   ]
  },
  {
   "cell_type": "code",
   "execution_count": 56,
   "id": "ca1a64a3-a056-4d33-9665-77357778b76d",
   "metadata": {},
   "outputs": [
    {
     "name": "stdout",
     "output_type": "stream",
     "text": [
      "There are many types of birds.\n",
      "Most of the birds can fly but some cannot.\n",
      "There are many types of birds.\n",
      "Sparrows can fly.\n",
      "There are many types of birds.\n",
      "Ostriches cannot fly.\n"
     ]
    }
   ],
   "source": [
    "# 42 How does Python achieve polymorphism through method overriding%\n",
    "\n",
    "class Bird:\n",
    "    def intro(self):\n",
    "        print(\"There are many types of birds.\")\n",
    "\n",
    "    def flight(self):\n",
    "        print(\"Most of the birds can fly but some cannot.\")\n",
    "\n",
    "class Sparrow(Bird):\n",
    "    def flight(self):\n",
    "        print(\"Sparrows can fly.\")\n",
    "\n",
    "class Ostrich(Bird):\n",
    "    def flight(self):\n",
    "        print(\"Ostriches cannot fly.\")\n",
    "\n",
    "# Create instances\n",
    "obj_bird = Bird()\n",
    "obj_sparrow = Sparrow()\n",
    "obj_ostrich = Ostrich()\n",
    "\n",
    "# Demonstrate polymorphism\n",
    "obj_bird.intro()\n",
    "obj_bird.flight()\n",
    "\n",
    "obj_sparrow.intro()\n",
    "obj_sparrow.flight()\n",
    "\n",
    "obj_ostrich.intro()\n",
    "obj_ostrich.flight()\n"
   ]
  },
  {
   "cell_type": "code",
   "execution_count": 57,
   "id": "a08d475e-672a-47c0-a276-f719ba47ec4a",
   "metadata": {},
   "outputs": [
    {
     "name": "stdout",
     "output_type": "stream",
     "text": [
      "Engine started (generic vehicle behavior)\n",
      "Car engine started\n"
     ]
    }
   ],
   "source": [
    "# 43 efine a base class with a method and a subclass that overrides the method\n",
    "\n",
    "class Vehicle:\n",
    "    def start_engine(self):\n",
    "        print(\"Engine started (generic vehicle behavior)\")\n",
    "\n",
    "class Car(Vehicle):\n",
    "    def start_engine(self):\n",
    "        print(\"Car engine started\")\n",
    "\n",
    "# Example usage\n",
    "my_vehicle = Vehicle()\n",
    "my_car = Car()\n",
    "\n",
    "my_vehicle.start_engine()  #\n",
    "my_car.start_engine()      \n"
   ]
  },
  {
   "cell_type": "code",
   "execution_count": 58,
   "id": "1ffa9cd9-9919-4c6f-bf6d-8e06b14592f9",
   "metadata": {},
   "outputs": [
    {
     "name": "stdout",
     "output_type": "stream",
     "text": [
      "Woof! Woof!\n",
      "Meow!\n"
     ]
    }
   ],
   "source": [
    "# 44 Define a base class and multiple subclasses with overridden methods\n",
    "\n",
    "class Animal:\n",
    "    def make_sound(self):\n",
    "        print(\"Generic animal sound\")\n",
    "\n",
    "class Dog(Animal):\n",
    "    def make_sound(self):\n",
    "        print(\"Woof! Woof!\")\n",
    "\n",
    "class Cat(Animal):\n",
    "    def make_sound(self):\n",
    "        print(\"Meow!\")\n",
    "\n",
    "# Example usage\n",
    "my_dog = Dog()\n",
    "my_cat = Cat()\n",
    "\n",
    "my_dog.make_sound()  #\n",
    "my_cat.make_sound()  \n"
   ]
  },
  {
   "cell_type": "markdown",
   "id": "8b9d8594-50cc-493c-929f-68e74435411e",
   "metadata": {},
   "source": [
    "# 45 ow does polymorphism improve code readability and reusability\n",
    "\n",
    "Code Reusability:\n",
    "Polymorphism allows you to write generic code that operates on objects of different types without needing to know their specific implementations.\n",
    "By treating objects uniformly through a common interface (such as method names), you can reuse the same code across various classes.\n",
    "For example, consider a banking application. Regardless of whether you’re dealing with savings accounts, checking accounts, or investment accounts, you can write a single piece of code to handle transactions (withdrawals, deposits, etc.) because of polymorphism.\n",
    "\n",
    "\n",
    "Elimination of Redundancy:\n",
    "When you use polymorphism, you avoid duplicating similar code for different classes.\n",
    "Instead of writing separate methods for each specific class, you define a common interface (such as a base class or an interface) and let subclasses provide their own implementations.\n",
    "This reduces redundancy, promotes cleaner code, and simplifies maintenance.\n",
    "\n",
    "\n",
    "Flexibility and Adaptability:\n",
    "Polymorphism allows your code to be more flexible and adaptable to changes.\n",
    "When new subclasses are added, they can seamlessly fit into existing code without breaking it.\n",
    "For instance, if you introduce a new type of vehicle (say, electric cars) in a transportation management system, you can extend the existing codebase without rewriting everything.\n",
    "\n",
    "\n",
    "Readability and Conciseness:\n",
    "Polymorphism leads to shorter, more concise code.\n",
    "By abstracting away specific details and focusing on high-level behavior, your code becomes easier to understand.\n",
    "When you encounter a method call (e.g., vehicle.start_engine()), you don’t need to know the exact type of the object; you only care about what it does."
   ]
  },
  {
   "cell_type": "markdown",
   "id": "fae726e9-c5eb-415b-bcbe-48ed53012485",
   "metadata": {},
   "source": [
    "# 46 escribe how Python supports polymorphism with duck typing\n",
    "\n",
    "What Is Duck Typing:\n",
    "Duck typing is a concept that emphasizes the behavior of an object rather than its explicit type or class.\n",
    "The saying goes: “If it looks like a duck, swims like a duck, and quacks like a duck, then it probably is a duck.”\n",
    "In Python, duck typing means that if an object supports certain methods or attributes (quacks like a duck), we treat it as if it belongs to a specific type (like a duck).\n",
    "\n",
    "\n",
    "How Duck Typing Enables Polymorphism:\n",
    "In statically typed languages (like Java), polymorphism is achieved through inheritance and interfaces. You explicitly declare types and interfaces, and the compiler enforces them.\n",
    "In Python (a dynamically typed language), duck typing allows for more flexibility:\n",
    "When you call a method on an object, Python doesn’t check its explicit type. Instead, it checks whether the object has the necessary method (duck test).\n",
    "If the object has the method, it can be used in a polymorphic way, regardless of its actual class.\n",
    "This approach promotes code reusability and adaptability."
   ]
  },
  {
   "cell_type": "markdown",
   "id": "a16b35fa-1d78-4312-ae1a-ecda2e005498",
   "metadata": {},
   "source": [
    "# 47 ow do you achieve encapsulation in Python\n",
    "\n",
    "Encapsulation involves bundling data (attributes or properties) and the methods (functions) that operate on that data within a single unit (usually a class).\n",
    "The goal is to restrict direct access to variables and methods, preventing accidental modification of data.\n",
    "By encapsulating data, you ensure that an object’s state remains valid and controlled.\n",
    "\n",
    "\n",
    "Benefits of Encapsulation\n",
    "Information Hiding: Encapsulation hides internal details, exposing only what’s necessary.\n",
    "Modularity: Bundling data and methods promotes modular design.\n",
    "Security: Prevents accidental data modification.\n",
    "Maintenance: Changes to internal implementation don’t affect external code."
   ]
  },
  {
   "cell_type": "markdown",
   "id": "cb393caa-52cc-4217-a9d4-1664bed4d0ee",
   "metadata": {},
   "source": [
    "# 48 Can encapsulation be bypassed in Python? If so, how?\n",
    "\n",
    "While Python encourages encapsulation, it doesn’t strictly enforce it. Here’s how encapsulation can be bypassed:\n",
    "\n",
    "Accessing Protected Members:\n",
    "Although protected members (with a single underscore prefix) are meant to be accessed within the class and its subclasses, you can still access them from outside the class.\n",
    "It’s a matter of convention and developer discipline to avoid doing so.\n",
    "Accessing Private Members:\n",
    "Private members (with a double underscore prefix) are name-mangled to prevent direct access.\n",
    "However, you can still access them using the mangled name (e.g., _ClassName__my_variable).\n",
    "While technically possible, it’s not recommended due to readability and maintainability concerns."
   ]
  },
  {
   "cell_type": "code",
   "execution_count": 59,
   "id": "186f1088-1be1-4cc0-bd8a-3b9151cc8ec6",
   "metadata": {},
   "outputs": [
    {
     "name": "stdout",
     "output_type": "stream",
     "text": [
      "Deposited $500. New balance: $1500\n",
      "Withdrew $200. New balance: $1300\n",
      "Current balance: $1300\n"
     ]
    }
   ],
   "source": [
    "# 49 mplement a class BankAccount with a private balance attribute. Include methods to deposit, withdraw,\n",
    "# and check the balance\n",
    "\n",
    "class BankAccount:\n",
    "    def __init__(self, initial_balance=0):\n",
    "      \n",
    "        self.__balance = initial_balance  # Private attribute\n",
    "\n",
    "    def deposit(self, amount):\n",
    "        if amount > 0:\n",
    "            self.__balance += amount\n",
    "            print(f\"Deposited ${amount}. New balance: ${self.__balance}\")\n",
    "        else:\n",
    "            print(\"Invalid deposit amount. Please provide a positive value.\")\n",
    "\n",
    "    def withdraw(self, amount):\n",
    "        if 0 < amount <= self.__balance:\n",
    "            self.__balance -= amount\n",
    "            print(f\"Withdrew ${amount}. New balance: ${self.__balance}\")\n",
    "        else:\n",
    "            print(\"Insufficient funds or invalid withdrawal amount.\")\n",
    "\n",
    "    def check_balance(self):\n",
    "\n",
    "        print(f\"Current balance: ${self.__balance}\")\n",
    "\n",
    "my_account = BankAccount(initial_balance=1000)\n",
    "my_account.deposit(500)\n",
    "my_account.withdraw(200)\n",
    "my_account.check_balance()\n"
   ]
  },
  {
   "cell_type": "code",
   "execution_count": 60,
   "id": "89bca797-a55d-480f-aef1-5d7ae959ccc2",
   "metadata": {},
   "outputs": [
    {
     "name": "stdout",
     "output_type": "stream",
     "text": [
      "Alice's email: alice@example.com\n",
      "Updated email: alice.new@example.com\n"
     ]
    }
   ],
   "source": [
    "# 50 evelop a Person class with private attributes name and email, and methods to set and get the email\n",
    "\n",
    "\n",
    "class Person:\n",
    "    def __init__(self, name, email):\n",
    "\n",
    "        self._name = name  \n",
    "        self.__email = email  \n",
    "\n",
    "    def set_email(self, new_email):\n",
    "\n",
    "        self.__email = new_email\n",
    "\n",
    "    def get_email(self):\n",
    "\n",
    "        return self.__email\n",
    "\n",
    "# Example usage\n",
    "person1 = Person(name=\"Alice\", email=\"alice@example.com\")\n",
    "print(f\"{person1._name}'s email: {person1.get_email()}\")\n",
    "\n",
    "# Change the email\n",
    "person1.set_email(\"alice.new@example.com\")\n",
    "print(f\"Updated email: {person1.get_email()}\")\n"
   ]
  },
  {
   "cell_type": "markdown",
   "id": "4d9cfbee-afce-477a-b169-c2e46b503d91",
   "metadata": {},
   "source": [
    "# 51 hy is encapsulation considered a pillar of object-oriented programming (OOP)?\n",
    "\n",
    "Data Hiding: Encapsulation hides the internal details of an object from the outside world. It allows you to control how data is accessed and modified.\n",
    "\n",
    "\n",
    "Modularity: By bundling related data and methods together, encapsulation promotes modular design. You can focus on one part of your code without worrying about the entire system.\n",
    "\n",
    "\n",
    "Security and Validation: Encapsulation allows you to enforce validation rules and ensure that data remains consistent and valid.\n",
    "\n",
    "\n",
    "Code Maintenance: Changes to internal implementation don’t affect external code that uses the class."
   ]
  },
  {
   "cell_type": "code",
   "execution_count": 62,
   "id": "67c811e1-a86f-4ad9-a5b9-dde4a28c44b0",
   "metadata": {},
   "outputs": [
    {
     "name": "stdout",
     "output_type": "stream",
     "text": [
      "Executing add...\n",
      "add executed.\n",
      "8\n",
      "Executing greet...\n",
      "greet executed.\n",
      "Hello, Alice!\n"
     ]
    }
   ],
   "source": [
    "# 61  Create a decorator in Python that adds functionality to a simple function by printing a message before\n",
    "# and after the function execution\n",
    "\n",
    "def log_execution(func):\n",
    "    def wrapper(*args, **kwargs):\n",
    "        print(f\"Executing {func.__name__}...\")\n",
    "        result = func(*args, **kwargs)\n",
    "        print(f\"{func.__name__} executed.\")\n",
    "        return result\n",
    "    return wrapper\n",
    "\n",
    "\n",
    "@log_execution\n",
    "def add(a, b):\n",
    "    return a + b\n",
    "\n",
    "@log_execution\n",
    "def greet(name):\n",
    "    return f\"Hello, {name}!\"\n",
    "\n",
    "\n",
    "print(add(3, 5))  \n",
    "print(greet(\"Alice\"))  \n"
   ]
  },
  {
   "cell_type": "code",
   "execution_count": 63,
   "id": "aab24ff8-50e1-4608-871a-ca51094e4df6",
   "metadata": {},
   "outputs": [
    {
     "name": "stdout",
     "output_type": "stream",
     "text": [
      "Starting execution of add...\n",
      "add executed. Execution completed!\n",
      "8\n",
      "Preparing to greet greet...\n",
      "greet executed. Greeting sent.\n",
      "Hello, Alice!\n"
     ]
    }
   ],
   "source": [
    "# 53 Modify the decorator to accept arguments and print the function name along with the message\n",
    "\n",
    "def log_execution(message_before, message_after):\n",
    "\n",
    "    def decorator(func):\n",
    "        def wrapper(*args, **kwargs):\n",
    "            print(f\"{message_before} {func.__name__}...\")\n",
    "            result = func(*args, **kwargs)\n",
    "            print(f\"{func.__name__} executed. {message_after}\")\n",
    "            return result\n",
    "        return wrapper\n",
    "    return decorator\n",
    "\n",
    "# Example usage:\n",
    "@log_execution(\"Starting execution of\", \"Execution completed!\")\n",
    "def add(a, b):\n",
    "    return a + b\n",
    "\n",
    "@log_execution(\"Preparing to greet\", \"Greeting sent.\")\n",
    "def greet(name):\n",
    "    return f\"Hello, {name}!\"\n",
    "\n",
    "\n",
    "print(add(3, 5))  \n",
    "print(greet(\"Alice\"))  \n"
   ]
  },
  {
   "cell_type": "code",
   "execution_count": 64,
   "id": "5ddd1820-54b0-4006-b150-7f40d88a5284",
   "metadata": {},
   "outputs": [
    {
     "name": "stdout",
     "output_type": "stream",
     "text": [
      "First decorator: Before function execution\n",
      "Second decorator: Before function execution\n",
      "Inside the main function\n",
      "Second decorator: After function execution\n",
      "First decorator: After function execution\n"
     ]
    }
   ],
   "source": [
    "# 54 Create two decorators, and apply them to a single function. Ensure that they execute in the order they are applied\n",
    "\n",
    "def first_decorator(func):\n",
    "    def wrapper(*args, **kwargs):\n",
    "        print(\"First decorator: Before function execution\")\n",
    "        result = func(*args, **kwargs)\n",
    "        print(\"First decorator: After function execution\")\n",
    "        return result\n",
    "    return wrapper\n",
    "\n",
    "def second_decorator(func):\n",
    "    def wrapper(*args, **kwargs):\n",
    "        print(\"Second decorator: Before function execution\")\n",
    "        result = func(*args, **kwargs)\n",
    "        print(\"Second decorator: After function execution\")\n",
    "        return result\n",
    "    return wrapper\n",
    "\n",
    "@first_decorator\n",
    "@second_decorator\n",
    "def my_function():\n",
    "    print(\"Inside the main function\")\n",
    "\n",
    "\n",
    "my_function()\n"
   ]
  },
  {
   "cell_type": "code",
   "execution_count": 65,
   "id": "c6bbd655-60a4-489f-bf92-311a2c518769",
   "metadata": {},
   "outputs": [
    {
     "name": "stdout",
     "output_type": "stream",
     "text": [
      "First decorator: Before function execution\n",
      "Second decorator: Before function execution\n",
      "Inside the main function with args: Hello, 42\n",
      "Second decorator: After function execution\n",
      "First decorator: After function execution\n"
     ]
    }
   ],
   "source": [
    "# 55 Modify the decorator to accept and pass function arguments to the wrapped function\n",
    "\n",
    "def first_decorator(func):\n",
    "    def wrapper(*args, **kwargs):\n",
    "        print(\"First decorator: Before function execution\")\n",
    "        result = func(*args, **kwargs)\n",
    "        print(\"First decorator: After function execution\")\n",
    "        return result\n",
    "    return wrapper\n",
    "\n",
    "def second_decorator(func):\n",
    "    def wrapper(*args, **kwargs):\n",
    "        print(\"Second decorator: Before function execution\")\n",
    "        result = func(*args, **kwargs)\n",
    "        print(\"Second decorator: After function execution\")\n",
    "        return result\n",
    "    return wrapper\n",
    "\n",
    "@first_decorator\n",
    "@second_decorator\n",
    "def my_function(arg1, arg2):\n",
    "    print(f\"Inside the main function with args: {arg1}, {arg2}\")\n",
    "\n",
    "\n",
    "my_function(\"Hello\", 42)\n"
   ]
  },
  {
   "cell_type": "code",
   "execution_count": 66,
   "id": "4834d2c8-d31f-4e42-8232-e73dbee30890",
   "metadata": {},
   "outputs": [
    {
     "name": "stdout",
     "output_type": "stream",
     "text": [
      "Inside the main function with args: Hello, 42\n",
      "Function name: my_function\n",
      "Docstring: None\n"
     ]
    }
   ],
   "source": [
    "# 56 Create a decorator that preserves the metadata of the original function/\n",
    "\n",
    "import functools\n",
    "\n",
    "def preserve_metadata(func):\n",
    "    @functools.wraps(func)\n",
    "    def wrapper(*args, **kwargs):\n",
    "        result = func(*args, **kwargs)\n",
    "        return result\n",
    "\n",
    "    return wrapper\n",
    "\n",
    "# Example usage:\n",
    "@preserve_metadata\n",
    "def my_function(arg1, arg2):\n",
    "    print(f\"Inside the main function with args: {arg1}, {arg2}\")\n",
    "\n",
    "\n",
    "my_function(\"Hello\", 42)\n",
    "\n",
    "\n",
    "print(f\"Function name: {my_function.__name__}\")\n",
    "print(f\"Docstring: {my_function.__doc__}\")\n"
   ]
  },
  {
   "cell_type": "code",
   "execution_count": 67,
   "id": "3d4bc5d8-6344-4c07-9035-7d2eebb99185",
   "metadata": {},
   "outputs": [
    {
     "name": "stdout",
     "output_type": "stream",
     "text": [
      "Result of adding 5 and 3: 8\n"
     ]
    }
   ],
   "source": [
    "# 57 Create a Python class `Calculator` with a static method `add` that takes in two numbers and returns their sum\n",
    "\n",
    "class Calculator:\n",
    "    @staticmethod\n",
    "    def add(a, b):\n",
    "        return a + b\n",
    "\n",
    "\n",
    "result = Calculator.add(5, 3)\n",
    "print(f\"Result of adding 5 and 3: {result}\")\n"
   ]
  },
  {
   "cell_type": "code",
   "execution_count": 68,
   "id": "f1f18322-6f56-49a2-917d-27d82dbc44ee",
   "metadata": {},
   "outputs": [
    {
     "name": "stdout",
     "output_type": "stream",
     "text": [
      "Total employees: 2\n"
     ]
    }
   ],
   "source": [
    "# 58 reate a Python class `Employee` with a class `method get_employee_count` that returns the total\n",
    "# number of employees created\n",
    "\n",
    "class Employee:\n",
    "    total_employees = 0\n",
    "\n",
    "    def __init__(self, name, role):\n",
    "        self.name = name\n",
    "        self.role = role\n",
    "        Employee.total_employees += 1\n",
    "\n",
    "    @classmethod\n",
    "    def get_employee_count(cls):\n",
    "\n",
    "        return cls.total_employees\n",
    "\n",
    "\n",
    "employee1 = Employee(name=\"Alice\", role=\"Manager\")\n",
    "employee2 = Employee(name=\"Bob\", role=\"Developer\")\n",
    "\n",
    "print(f\"Total employees: {Employee.get_employee_count()}\")\n"
   ]
  },
  {
   "cell_type": "code",
   "execution_count": 69,
   "id": "62585398-1fb6-4f50-8e48-b8739b030316",
   "metadata": {},
   "outputs": [
    {
     "name": "stdout",
     "output_type": "stream",
     "text": [
      "Original string: Hello, World!\n",
      "Reversed string: !dlroW ,olleH\n"
     ]
    }
   ],
   "source": [
    "# 59 Create a Python class `StringFormatter` with a static method `reverse_string` that takes a string as input\n",
    "# and returns its reverse\n",
    "\n",
    "class StringFormatter:\n",
    "    @staticmethod\n",
    "    def reverse_string(input_string):\n",
    "        return input_string[::-1]\n",
    "\n",
    "original_string = \"Hello, World!\"\n",
    "reversed_string = StringFormatter.reverse_string(original_string)\n",
    "\n",
    "print(f\"Original string: {original_string}\")\n",
    "print(f\"Reversed string: {reversed_string}\")\n"
   ]
  },
  {
   "cell_type": "code",
   "execution_count": 70,
   "id": "6d5bfc6e-5e54-44db-8db5-89ecbc726590",
   "metadata": {},
   "outputs": [
    {
     "name": "stdout",
     "output_type": "stream",
     "text": [
      "Area of a circle with radius 5 units: 78.54\n"
     ]
    }
   ],
   "source": [
    "# 60 eate a Python class `Circle` with a class method `calculate_area` that calculates the area of a circle\n",
    "# given its radius\n",
    "\n",
    "class Circle:\n",
    "    @classmethod\n",
    "    def calculate_area(cls, radius):\n",
    "        if radius >= 0:\n",
    "            pi = 3.14159\n",
    "            area = pi * (radius ** 2)\n",
    "            return area\n",
    "        else:\n",
    "            raise ValueError(\"Radius must be non-negative.\")\n",
    "\n",
    "radius = 5\n",
    "area_of_circle = Circle.calculate_area(radius)\n",
    "print(f\"Area of a circle with radius {radius} units: {area_of_circle:.2f}\")\n"
   ]
  },
  {
   "cell_type": "code",
   "execution_count": 71,
   "id": "700dcbaf-f7ce-429f-8b3a-fc848066c90e",
   "metadata": {},
   "outputs": [
    {
     "name": "stdout",
     "output_type": "stream",
     "text": [
      "25°C is approximately 77.00°F.\n"
     ]
    }
   ],
   "source": [
    "# 61 reate a Python class `TemperatureConverter` with a static method `celsius_to_fahrenheit` that converts\n",
    "# Celsius to Fahrenheit\n",
    "\n",
    "class TemperatureConverter:\n",
    "    @staticmethod\n",
    "    def celsius_to_fahrenheit(celsius):\n",
    "        fahrenheit = (celsius * 9/5) + 32\n",
    "        return fahrenheit\n",
    "\n",
    "\n",
    "celsius_temperature = 25\n",
    "fahrenheit_temperature = TemperatureConverter.celsius_to_fahrenheit(celsius_temperature)\n",
    "print(f\"{celsius_temperature}°C is approximately {fahrenheit_temperature:.2f}°F.\")\n"
   ]
  },
  {
   "cell_type": "markdown",
   "id": "164eac69-4e8e-4649-8f48-660db0a2afa9",
   "metadata": {},
   "source": [
    "# 62 hat is the purpose of the __str__() method in Python classes? Provide an example\n",
    "\n",
    "The __str__() method is part of Python’s magic methods (also known as dunder methods—because they start and end with double underscores). These methods allow you to customize how your objects behave in various contexts. Specifically, __str__() is all about creating a human-readable string representation of your object."
   ]
  },
  {
   "cell_type": "code",
   "execution_count": 72,
   "id": "e8dcee3c-3f93-4a3a-b1a0-05079ee6dfa8",
   "metadata": {},
   "outputs": [
    {
     "name": "stdout",
     "output_type": "stream",
     "text": [
      "The Hitchhiker's Guide to the Galaxy by Douglas Adams\n"
     ]
    }
   ],
   "source": [
    "class Book:\n",
    "    def __init__(self, title, author):\n",
    "        self.title = title\n",
    "        self.author = author\n",
    "\n",
    "    def __str__(self):\n",
    "        return f\"{self.title} by {self.author}\"\n",
    "\n",
    "my_book = Book(\"The Hitchhiker's Guide to the Galaxy\", \"Douglas Adams\")\n",
    "print(my_book) \n"
   ]
  },
  {
   "cell_type": "code",
   "execution_count": 74,
   "id": "94aa78b9-64b5-46a4-884b-e49a6d35695c",
   "metadata": {},
   "outputs": [
    {
     "name": "stdout",
     "output_type": "stream",
     "text": [
      "3\n"
     ]
    }
   ],
   "source": [
    "# 63 w does the __len__() method work in Python? Provide an example\n",
    "\n",
    "# the __len__() method is another one of the special methods (dunder methods) that Python provides. \n",
    "# Its job is to tell you how many elements are in an object.\n",
    "\n",
    "class Basket:\n",
    "    def __init__(self):\n",
    "        self.contents = []\n",
    "\n",
    "    def add_fruit(self, fruit):\n",
    "        self.contents.append(fruit)\n",
    "\n",
    "    def __len__(self):\n",
    "        return len(self.contents)\n",
    "\n",
    "my_basket = Basket()\n",
    "my_basket.add_fruit(\"Apple\")\n",
    "my_basket.add_fruit(\"Banana\")\n",
    "my_basket.add_fruit(\"Orange\")\n",
    "\n",
    "print(len(my_basket))  "
   ]
  },
  {
   "cell_type": "code",
   "execution_count": 75,
   "id": "c6605e74-cb4b-4b2c-bb01-906f8181ce3d",
   "metadata": {},
   "outputs": [
    {
     "name": "stdout",
     "output_type": "stream",
     "text": [
      "v1: (3, 4)\n",
      "v2: (1, 2)\n",
      "Resultant vector: (4, 6)\n"
     ]
    }
   ],
   "source": [
    "# 64 xplain the usage of the __add__() method in Python classes. Provide an example/\n",
    "\n",
    "# the __add__() method is one of those magical dunder methods \n",
    "# that allow you to customize how your objects behave when you use the + operator on them. \n",
    "\n",
    "class Vector:\n",
    "    def __init__(self, x, y):\n",
    "        self.x = x\n",
    "        self.y = y\n",
    "\n",
    "    def __add__(self, other_vector):\n",
    "        new_x = self.x + other_vector.x\n",
    "        new_y = self.y + other_vector.y\n",
    "        return Vector(new_x, new_y)\n",
    "\n",
    "    def __str__(self):\n",
    "        return f\"({self.x}, {self.y})\"\n",
    "    \n",
    "v1 = Vector(3, 4)\n",
    "v2 = Vector(1, 2)\n",
    "\n",
    "\n",
    "resultant_vector = v1 + v2\n",
    "\n",
    "print(f\"v1: {v1}\")\n",
    "print(f\"v2: {v2}\")\n",
    "print(f\"Resultant vector: {resultant_vector}\")\n"
   ]
  },
  {
   "cell_type": "code",
   "execution_count": 76,
   "id": "ec7daad2-adb2-4f7e-a49b-675c7cf9a5fb",
   "metadata": {},
   "outputs": [
    {
     "name": "stdout",
     "output_type": "stream",
     "text": [
      "Wingardium Leviosa\n",
      "Lumos\n",
      "Oops! Invalid spell index. Better check your wand alignment.\n"
     ]
    }
   ],
   "source": [
    "# 65 What is the purpose of the __getitem__() method in Python? Provide an example\n",
    "\n",
    "# __getitem__() is a magic method in Python, which when used in a class, allows its instances to use the [] (indexer) operators. Say x is an instance of this class, then x[i] is roughly equivalent to type(x).__getitem__(x, i).\n",
    "\n",
    "\n",
    "class SpellBook:\n",
    "    def __init__(self):\n",
    "        self.spells = [\"Abracadabra\", \"Wingardium Leviosa\", \"Expelliarmus\", \"Lumos\"]\n",
    "\n",
    "    def __getitem__(self, index):\n",
    "        if 0 <= index < len(self.spells):\n",
    "            return self.spells[index]\n",
    "        else:\n",
    "            raise IndexError(\"Invalid spell index\")\n",
    "\n",
    "\n",
    "my_spellbook = SpellBook()\n",
    "\n",
    "print(my_spellbook[1])  \n",
    "print(my_spellbook[3])  \n",
    "\n",
    "\n",
    "try:\n",
    "    print(my_spellbook[10])  \n",
    "except IndexError:\n",
    "    print(\"Oops! Invalid spell index. Better check your wand alignment.\")\n"
   ]
  },
  {
   "cell_type": "markdown",
   "id": "d2bfbae1-bb80-4304-9c2c-8239676c4472",
   "metadata": {},
   "source": [
    "# 66 plain the usage of the __iter__() and __next__() methods in Python. Provide an example using iterators\n",
    "\n",
    "The __iter__() Method:\n",
    "    \n",
    "When you create a custom class and want it to be iterable (so you can loop over its elements), you define the __iter__() method.\n",
    "This method should return an iterator object (usually self).\n",
    "The iterator object must have a __next__() method (more on that in a moment).\n",
    "\n",
    "The __next__() Method:\n",
    "    \n",
    "The __next__() method is where the real magic happens.\n",
    "It’s responsible for providing the next element in the sequence.\n",
    "When you loop over an iterable (using a for loop or next()), Python calls __next__() to get the next value.\n",
    "When there are no more elements, it raises a StopIteration exception."
   ]
  },
  {
   "cell_type": "code",
   "execution_count": 77,
   "id": "342b9891-b232-496f-98ea-8252b4dba0b5",
   "metadata": {},
   "outputs": [
    {
     "name": "stdout",
     "output_type": "stream",
     "text": [
      "Fibonacci numbers:\n",
      "0 1 1 2 3 5 8 13 21 34 "
     ]
    }
   ],
   "source": [
    "class FibonacciIterator:\n",
    "    def __init__(self, limit):\n",
    "        self.limit = limit\n",
    "        self.a, self.b = 0, 1\n",
    "        self.count = 0\n",
    "\n",
    "    def __iter__(self):\n",
    "        return self\n",
    "\n",
    "    def __next__(self):\n",
    "        if self.count >= self.limit:\n",
    "            raise StopIteration\n",
    "        result = self.a\n",
    "        self.a, self.b = self.b, self.a + self.b\n",
    "        self.count += 1\n",
    "        return result\n",
    "\n",
    "\n",
    "fibonacci_gen = FibonacciIterator(limit=10)\n",
    "\n",
    "print(\"Fibonacci numbers:\")\n",
    "for fib_num in fibonacci_gen:\n",
    "    print(fib_num, end=\" \")\n",
    "\n",
    "\n"
   ]
  },
  {
   "cell_type": "code",
   "execution_count": 78,
   "id": "259594c7-3f2f-4ed0-8983-dd3c7c3f2745",
   "metadata": {},
   "outputs": [
    {
     "name": "stdout",
     "output_type": "stream",
     "text": [
      "Gandalf the Grey has a spell power of 9000.\n",
      "Gandalf's new spell power: 10000.\n",
      "Spell power cannot be negative. Please consult the Elders.\n"
     ]
    }
   ],
   "source": [
    "# 67 hat is the purpose of a getter method in Python? Provide an example demonstrating the use of a getter\n",
    "# method using property decorators\n",
    "\n",
    "#  A getter method (also known as a getter function) privides the value of a private attribute within a class.\n",
    "# It allows you to retrieve the value of that attribute without directly accessing it. \n",
    "\n",
    "class Wizard:\n",
    "    def __init__(self, name, spell_power):\n",
    "        self._name = name  \n",
    "        self._spell_power = spell_power\n",
    "\n",
    "    @property\n",
    "    def name(self):\n",
    "        return self._name\n",
    "\n",
    "    @property\n",
    "    def spell_power(self):\n",
    "        return self._spell_power\n",
    "\n",
    "    @spell_power.setter\n",
    "    def spell_power(self, new_power):\n",
    "        if new_power >= 0:\n",
    "            self._spell_power = new_power\n",
    "        else:\n",
    "            print(\"Spell power cannot be negative. Please consult the Elders.\")\n",
    "\n",
    "\n",
    "gandalf = Wizard(name=\"Gandalf\", spell_power=9000)\n",
    "\n",
    "print(f\"{gandalf.name} the Grey has a spell power of {gandalf.spell_power}.\")\n",
    "\n",
    "gandalf.spell_power = 10000\n",
    "print(f\"{gandalf.name}'s new spell power: {gandalf.spell_power}.\")\n",
    "\n",
    "gandalf.spell_power = -42\n"
   ]
  },
  {
   "cell_type": "code",
   "execution_count": 79,
   "id": "89f302b8-5d63-4b8a-aead-5b2bd28fda87",
   "metadata": {},
   "outputs": [
    {
     "name": "stdout",
     "output_type": "stream",
     "text": [
      "30\n",
      "35\n",
      "Age must be a non-negative value.\n"
     ]
    }
   ],
   "source": [
    "# 68 plain the role of setter methods in Python. Demonstrate how to use a setter method to modify a class\n",
    "# attribute using property decorators\n",
    "\n",
    "# Setter methods allow you to enforce rules or constraints when updating an attribute. For example, you might want to ensure that age is always positive or within a certain range.\n",
    "\n",
    "class Person:\n",
    "    def __init__(self, name, age):\n",
    "        self._name = name\n",
    "        self._age = age\n",
    "\n",
    "    @property\n",
    "    def age(self):\n",
    "        return self._age\n",
    "\n",
    "    @age.setter\n",
    "    def age(self, new_age):\n",
    "        if new_age >= 0:\n",
    "            self._age = new_age\n",
    "        else:\n",
    "            print(\"Age must be a non-negative value.\")\n",
    "\n",
    "\n",
    "person1 = Person(\"Alice\", 30)\n",
    "print(person1.age)  \n",
    "person1.age = 35   \n",
    "print(person1.age)  \n",
    "\n",
    "\n",
    "person1.age = -5  \n"
   ]
  },
  {
   "cell_type": "code",
   "execution_count": 80,
   "id": "66b2f0e2-ce2d-41cf-aca8-1a414b8260c8",
   "metadata": {},
   "outputs": [
    {
     "name": "stdout",
     "output_type": "stream",
     "text": [
      "Width: 5, Height: 3\n",
      "Area: 15, Perimeter: 16\n",
      "Updated Width: 7, Updated Height: 4\n",
      "Updated Area: 28, Updated Perimeter: 22\n"
     ]
    }
   ],
   "source": [
    "# 69 hat is the purpose of the @property decorator in Python? Provide an example illustrating its usage\n",
    "\n",
    " # The @property decorator in Python serves a valuable purpose: it allows you to create computed or virtual attributes for your class. \n",
    "    \n",
    "\n",
    "class Rectangle:\n",
    "    def __init__(self, width, height):\n",
    "        self._width = width\n",
    "        self._height = height\n",
    "\n",
    "    @property\n",
    "    def width(self):\n",
    "        return self._width\n",
    "\n",
    "    @width.setter\n",
    "    def width(self, new_width):\n",
    "        if new_width >= 0:\n",
    "            self._width = new_width\n",
    "        else:\n",
    "            print(\"Width must be a non-negative value.\")\n",
    "\n",
    "    @property\n",
    "    def height(self):\n",
    "        return self._height\n",
    "\n",
    "    @height.setter\n",
    "    def height(self, new_height):\n",
    "        if new_height >= 0:\n",
    "            self._height = new_height\n",
    "        else:\n",
    "            print(\"Height must be a non-negative value.\")\n",
    "\n",
    "    def area(self):\n",
    "        return self._width * self._height\n",
    "\n",
    "    def perimeter(self):\n",
    "        return 2 * (self._width + self._height)\n",
    "\n",
    "# Usage:\n",
    "rectangle1 = Rectangle(5, 3)\n",
    "print(f\"Width: {rectangle1.width}, Height: {rectangle1.height}\")\n",
    "print(f\"Area: {rectangle1.area()}, Perimeter: {rectangle1.perimeter()}\")\n",
    "\n",
    "\n",
    "rectangle1.width = 7\n",
    "rectangle1.height = 4\n",
    "\n",
    "print(f\"Updated Width: {rectangle1.width}, Updated Height: {rectangle1.height}\")\n",
    "print(f\"Updated Area: {rectangle1.area()}, Updated Perimeter: {rectangle1.perimeter()}\")\n"
   ]
  },
  {
   "cell_type": "markdown",
   "id": "64db45dd-66d9-48d1-ab7f-378364eb40d6",
   "metadata": {},
   "source": [
    "#70 Explain the use of the @deleter decorator in Python property decorators. Provide a code example\n",
    "# demonstrating its application\n",
    "\n",
    "he @deleter decorator in Python is used to define a method that gets called when an attribute managed by a property is deleted. Essentially, it allows you to customize the behavior when an attribute is removed using the del statement."
   ]
  },
  {
   "cell_type": "code",
   "execution_count": 81,
   "id": "773cc2df-a86c-4947-89aa-4812a313edb1",
   "metadata": {},
   "outputs": [
    {
     "name": "stdout",
     "output_type": "stream",
     "text": [
      "Initial balance: 1000\n",
      "Updated balance: 1500\n",
      "Deleting account 123456...\n"
     ]
    }
   ],
   "source": [
    "class BankAccount:\n",
    "    def __init__(self, account_number, balance):\n",
    "        self._account_number = account_number\n",
    "        self._balance = balance\n",
    "\n",
    "    @property\n",
    "    def balance(self):\n",
    "        return self._balance\n",
    "\n",
    "    @balance.setter\n",
    "    def balance(self, new_balance):\n",
    "        if new_balance >= 0:\n",
    "            self._balance = new_balance\n",
    "        else:\n",
    "            print(\"Balance must be non-negative.\")\n",
    "\n",
    "    @balance.deleter\n",
    "    def balance(self):\n",
    "        print(f\"Deleting account {self._account_number}...\")\n",
    "        del self._balance\n",
    "\n",
    "\n",
    "account1 = BankAccount(account_number=\"123456\", balance=1000)\n",
    "\n",
    "\n",
    "print(f\"Initial balance: {account1.balance}\")\n",
    "\n",
    "account1.balance = 1500\n",
    "print(f\"Updated balance: {account1.balance}\")\n",
    "\n",
    "del account1.balance\n",
    "\n"
   ]
  },
  {
   "cell_type": "markdown",
   "id": "dc091c28-2056-4352-9a18-77a14ee95fc9",
   "metadata": {},
   "source": [
    "# 71 ow does encapsulation relate to property decorators in Python? Provide an example showcasing\n",
    "# encapsulation using property decorators.\n",
    "\n",
    "Encapsulation is one of the fundamental principles of object-oriented programming (OOP). It refers to the practice of bundling data (attributes) and the methods (functions) that operate on that data into a single unit called a class. The goal of encapsulation is to hide the internal details of an object and provide a clean interface for interacting with it. By encapsulating data, we can control access to it and enforce rules or constraints.\n",
    "\n",
    "Property decorators play a crucial role in achieving encapsulation. They allow us to define custom behavior for attribute access (getting, setting, and deleting) while maintaining a consistent interface. Specifically, property decorators create virtual attributes that can be accessed like regular attributes but are backed by custom getter, setter, and deleter methods."
   ]
  },
  {
   "cell_type": "code",
   "execution_count": 82,
   "id": "e9a72651-82d0-402d-a334-1a790d6b7e8d",
   "metadata": {},
   "outputs": [
    {
     "name": "stdout",
     "output_type": "stream",
     "text": [
      "Student name: Alice\n",
      "Student age: 20\n",
      "Updated student name: Alice\n",
      "Updated student age: 22\n"
     ]
    }
   ],
   "source": [
    "class Student:\n",
    "    def __init__(self, name, age):\n",
    "        self._name = name\n",
    "        self._age = age\n",
    "\n",
    "    @property\n",
    "    def name(self):\n",
    "        return self._name\n",
    "\n",
    "    @name.setter\n",
    "    def name(self, new_name):\n",
    "        \n",
    "        self._name = new_name\n",
    "\n",
    "    @property\n",
    "    def age(self):\n",
    "        return self._age\n",
    "\n",
    "    @age.setter\n",
    "    def age(self, new_age):\n",
    "        if new_age >= 0:\n",
    "            self._age = new_age\n",
    "        else:\n",
    "            print(\"Age must be a non-negative value.\")\n",
    "\n",
    "\n",
    "student1 = Student(name=\"Alice\", age=20)\n",
    "\n",
    "\n",
    "print(f\"Student name: {student1.name}\")\n",
    "print(f\"Student age: {student1.age}\")\n",
    "\n",
    "\n",
    "student1.age = 22\n",
    "\n",
    "print(f\"Updated student name: {student1.name}\")\n",
    "print(f\"Updated student age: {student1.age}\")\n"
   ]
  },
  {
   "cell_type": "code",
   "execution_count": null,
   "id": "5192d1de-8130-47fb-b37c-aba6257da31b",
   "metadata": {},
   "outputs": [],
   "source": []
  }
 ],
 "metadata": {
  "kernelspec": {
   "display_name": "Python 3 (ipykernel)",
   "language": "python",
   "name": "python3"
  },
  "language_info": {
   "codemirror_mode": {
    "name": "ipython",
    "version": 3
   },
   "file_extension": ".py",
   "mimetype": "text/x-python",
   "name": "python",
   "nbconvert_exporter": "python",
   "pygments_lexer": "ipython3",
   "version": "3.10.8"
  }
 },
 "nbformat": 4,
 "nbformat_minor": 5
}
