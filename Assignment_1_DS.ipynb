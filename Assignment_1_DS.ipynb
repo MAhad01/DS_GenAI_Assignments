{
 "cells": [
  {
   "cell_type": "code",
   "execution_count": 1,
   "id": "01500363-479f-49a5-a8b1-2b770276bdb5",
   "metadata": {},
   "outputs": [
    {
     "name": "stdout",
     "output_type": "stream",
     "text": [
      "gfedcba\n"
     ]
    }
   ],
   "source": [
    "# 1 Write a code to reverse a string\n",
    "\n",
    "name='abcdefg'\n",
    "rev_name=name[::-1]\n",
    "print(rev_name)"
   ]
  },
  {
   "cell_type": "code",
   "execution_count": 5,
   "id": "d7ce3a3e-d49d-4023-b1dc-02457ca36e44",
   "metadata": {},
   "outputs": [
    {
     "name": "stdout",
     "output_type": "stream",
     "text": [
      "2\n"
     ]
    }
   ],
   "source": [
    "# 2 Write a code to count the number of vowels in a string\n",
    "no_vovel=0\n",
    "for i in name:\n",
    "    if i=='a' or i=='e' or i=='i' or i=='o' or i=='u' or i=='A' or i=='E' or i=='I' or i=='O' or i=='U': \n",
    "        no_vovel+=1\n",
    "\n",
    "print(no_vovel)"
   ]
  },
  {
   "cell_type": "code",
   "execution_count": 8,
   "id": "089f21de-d232-4f11-8b59-59ee2917b971",
   "metadata": {},
   "outputs": [
    {
     "data": {
      "text/plain": [
       "False"
      ]
     },
     "execution_count": 8,
     "metadata": {},
     "output_type": "execute_result"
    }
   ],
   "source": [
    "# 3 Write a code to check if a given string is a palindrome or not\n",
    "\n",
    "name1='ahad'\n",
    "\n",
    "def isPalindrome(name1):\n",
    "    name2=name1[::-1]\n",
    "    if name1==name2:\n",
    "        return True\n",
    "    else:\n",
    "        return False\n",
    "    \n",
    "isPalindrome(name1)"
   ]
  },
  {
   "cell_type": "code",
   "execution_count": 12,
   "id": "2f0370cc-6f24-4414-9464-c428aef47ea0",
   "metadata": {},
   "outputs": [
    {
     "data": {
      "text/plain": [
       "True"
      ]
     },
     "execution_count": 12,
     "metadata": {},
     "output_type": "execute_result"
    }
   ],
   "source": [
    "# 4 Write a code to check if two given strings are anagrams of each other\n",
    "\n",
    "str1='lorem ipsum'\n",
    "str2='lorim epsum'\n",
    "\n",
    "def isAnagram(str1, str2):\n",
    "    one_str=set()\n",
    "    two_str=set()\n",
    "    for i in str1:\n",
    "        one_str.add(i)\n",
    "    for j in str2:\n",
    "        two_str.add(j)\n",
    "    if one_str==two_str:\n",
    "        return True\n",
    "    else:\n",
    "        return False\n",
    "    \n",
    "isAnagram(str1, str2)"
   ]
  },
  {
   "cell_type": "code",
   "execution_count": 15,
   "id": "8a9f21ff-102e-49f2-bb52-f2f14697a7de",
   "metadata": {},
   "outputs": [
    {
     "name": "stdout",
     "output_type": "stream",
     "text": [
      "Occurrences of 'fox' indices: [16, 41]\n"
     ]
    }
   ],
   "source": [
    "# 5 Write a code to find all occurrences of a given substring within another string\n",
    "\n",
    "main_string='The quick brown fox jumped over the lazy fox'\n",
    "substring='fox'\n",
    "\n",
    "def find_all_occurrences(main_string, substring):\n",
    "    occurrences = []\n",
    "    start_index = 0\n",
    "    while True:\n",
    "        index = main_string.find(substring, start_index)\n",
    "        if index == -1:\n",
    "            break\n",
    "        occurrences.append(index)\n",
    "        start_index = index + 1\n",
    "    return occurrences\n",
    "\n",
    "\n",
    "all_indices = find_all_occurrences(main_string.lower(), substring.lower())  \n",
    "print(f\"Occurrences of '{substring}' indices: {all_indices}\")\n"
   ]
  },
  {
   "cell_type": "code",
   "execution_count": 17,
   "id": "32591317-a4be-4c94-85a2-3a418f50900b",
   "metadata": {},
   "outputs": [
    {
     "name": "stdout",
     "output_type": "stream",
     "text": [
      "Compressed string: a3b3c2d7e2\n"
     ]
    }
   ],
   "source": [
    "# 6 Write a code to perform basic string compression using the counts of repeated characters\n",
    "\n",
    "def compress_string(s):\n",
    "    if not s:\n",
    "        return s  \n",
    "\n",
    "    compressed = []\n",
    "    count = 1\n",
    "    for i in range(1, len(s)):\n",
    "        if s[i] == s[i - 1]:\n",
    "            count += 1\n",
    "        else:\n",
    "            compressed.append(s[i - 1] + str(count))\n",
    "            count = 1\n",
    "\n",
    "    \n",
    "    compressed.append(s[-1] + str(count))\n",
    "\n",
    "    \n",
    "    result = \"\".join(compressed)\n",
    "\n",
    "    \n",
    "    return result if len(result) < len(s) else s\n",
    "\n",
    "\n",
    "original_string = \"aaabbbccdddddddee\"\n",
    "compressed_result = compress_string(original_string)\n",
    "print(f\"Compressed string: {compressed_result}\")\n"
   ]
  },
  {
   "cell_type": "code",
   "execution_count": 20,
   "id": "1786762f-6d98-4956-96e9-8e72b46817b7",
   "metadata": {},
   "outputs": [
    {
     "name": "stdout",
     "output_type": "stream",
     "text": [
      "'hello world' does not have all unique characters.\n"
     ]
    }
   ],
   "source": [
    "# 7 Write a code to determine if a string has all unique characters\n",
    "\n",
    "def has_unique_characters(s):\n",
    "    \n",
    "    seen = set()\n",
    "\n",
    "    for char in s:\n",
    "        if char in seen:\n",
    "            return False  \n",
    "        seen.add(char)\n",
    "\n",
    "    return True  \n",
    "\n",
    "\n",
    "input_string = \"hello world\"\n",
    "result = has_unique_characters(input_string)\n",
    "if result:\n",
    "    print(f\"'{input_string}' has all unique characters.\")\n",
    "else:\n",
    "    print(f\"'{input_string}' does not have all unique characters.\")\n"
   ]
  },
  {
   "cell_type": "code",
   "execution_count": 22,
   "id": "1dbb5cc2-b154-433b-91a9-d094c0138a3e",
   "metadata": {},
   "outputs": [
    {
     "name": "stdout",
     "output_type": "stream",
     "text": [
      "hello world HELLO WORLD\n"
     ]
    }
   ],
   "source": [
    "# 8 Write a code to convert a given string to uppercase or lowercase\n",
    "\n",
    "str4='Hello World'\n",
    "\n",
    "lower_str=str4.lower()\n",
    "upper_str=str4.upper()\n",
    "\n",
    "print(lower_str, upper_str)"
   ]
  },
  {
   "cell_type": "code",
   "execution_count": 28,
   "id": "0bc6e357-216d-486c-98ab-383c719bd5e7",
   "metadata": {},
   "outputs": [
    {
     "data": {
      "text/plain": [
       "3"
      ]
     },
     "execution_count": 28,
     "metadata": {},
     "output_type": "execute_result"
    }
   ],
   "source": [
    "# 9 rite a code to count the number of words in a string\n",
    "\n",
    "str5='PW Skills Data Science'\n",
    "\n",
    "\n",
    "\n",
    "def word_Count(str5):\n",
    "    words=0\n",
    "    for i in str5:\n",
    "        if i==' ':\n",
    "            words+=1\n",
    "    return words\n",
    "\n",
    "word_Count(str5)"
   ]
  },
  {
   "cell_type": "code",
   "execution_count": 35,
   "id": "078ef3f7-2f60-4268-b64a-b40606932a25",
   "metadata": {},
   "outputs": [
    {
     "data": {
      "text/plain": [
       "'abcdwxyz'"
      ]
     },
     "execution_count": 35,
     "metadata": {},
     "output_type": "execute_result"
    }
   ],
   "source": [
    "# 10 rite a code to concatenate two strings without using the + operator\n",
    "\n",
    "\n",
    "str_1='abcd'\n",
    "str_2='wxyz'\n",
    "\n",
    "def concat(str1,str2):\n",
    "    result=''.join([str1,str2])\n",
    "    return result\n",
    "\n",
    "concat(str_1, str_2)"
   ]
  },
  {
   "cell_type": "code",
   "execution_count": 37,
   "id": "c4183580-fd8a-45d1-9527-0df2c10ffe91",
   "metadata": {},
   "outputs": [
    {
     "data": {
      "text/plain": [
       "[1, 2, 3, 4, 6, 6, 'boy', 7, 8, 8, 9]"
      ]
     },
     "execution_count": 37,
     "metadata": {},
     "output_type": "execute_result"
    }
   ],
   "source": [
    "# 11 Write a code to remove all occurrences of a specific element from a list\n",
    "\n",
    "li=[1,2,3,4,5,6,6,5,'boy',7,8,8,9]\n",
    "\n",
    "def removeList(li,key):\n",
    "    fresh_list=[]\n",
    "    for i in li:\n",
    "        if i!=key:\n",
    "            fresh_list.append(i)\n",
    "    return fresh_list\n",
    "removeList(li, 5)"
   ]
  },
  {
   "cell_type": "code",
   "execution_count": 39,
   "id": "c6f1bcf4-d7dc-42b6-9947-d83dd1e4b7f0",
   "metadata": {},
   "outputs": [
    {
     "data": {
      "text/plain": [
       "8"
      ]
     },
     "execution_count": 39,
     "metadata": {},
     "output_type": "execute_result"
    }
   ],
   "source": [
    "# 12 mplement a code to find the second largest number in a given list of integers\n",
    "\n",
    "num_li=[1,2,3,4,5,6,7,8,9]\n",
    "\n",
    "def second_largest(li):\n",
    "    maxi1=-999\n",
    "    maxi2=-999\n",
    "    for i in li:\n",
    "        if i>maxi1:\n",
    "            maxi2=maxi1\n",
    "            maxi1=i\n",
    "    return maxi2\n",
    "\n",
    "second_largest(num_li)"
   ]
  },
  {
   "cell_type": "code",
   "execution_count": 40,
   "id": "5f7e001f-442a-4d20-9d78-db96ff599a2a",
   "metadata": {},
   "outputs": [
    {
     "data": {
      "text/plain": [
       "{1: 3, 2: 6, 3: 3, 4: 1, 5: 3, 6: 1, 7: 2, 8: 1, 9: 2}"
      ]
     },
     "execution_count": 40,
     "metadata": {},
     "output_type": "execute_result"
    }
   ],
   "source": [
    "# 13 Create a code to count the occurrences of each element in a list and return a dictionary with elements as keys and their counts as values\n",
    "\n",
    "lis=[1,2,3,4,5,6,7,8,9,1,3,5,7,9,1,3,5,2,2,2,2,2]\n",
    "\n",
    "def element_Occ(li):\n",
    "    count={}\n",
    "    \n",
    "    for i in li:\n",
    "        if i in count:\n",
    "            count[i]+=1\n",
    "        else:\n",
    "            count[i]=1\n",
    "    return count\n",
    "        \n",
    "element_Occ(lis)"
   ]
  },
  {
   "cell_type": "code",
   "execution_count": 41,
   "id": "cbafb41e-8dfd-4dbe-91d9-d2bdd5a83c38",
   "metadata": {},
   "outputs": [
    {
     "name": "stdout",
     "output_type": "stream",
     "text": [
      "[8, 7, 6, 5, 4, 3, 2, 1]\n"
     ]
    }
   ],
   "source": [
    "# 14 rite a code to reverse a list in-place without using any built-in reverse functions\n",
    "\n",
    "lis=[1,2,3,4,5,6,7,8]\n",
    "\n",
    "sil=lis[::-1]\n",
    "print(sil)"
   ]
  },
  {
   "cell_type": "code",
   "execution_count": 42,
   "id": "16508b23-af2e-4c23-9727-c776a0374b92",
   "metadata": {},
   "outputs": [
    {
     "data": {
      "text/plain": [
       "[1, 2, 3, 4, 5, 6, 7, 8, 9]"
      ]
     },
     "execution_count": 42,
     "metadata": {},
     "output_type": "execute_result"
    }
   ],
   "source": [
    "# 15 Implement a code to find and remove duplicates from a list while preserving the original order of elements\n",
    "\n",
    "lis=[1,2,3,4,5,6,7,8,9,1,3,5,7,9,1,3,5,2,2,2,2,2]\n",
    "def clean_lis(li):\n",
    "    fresh_li=[]\n",
    "    for i in li:\n",
    "        if i not in fresh_li:\n",
    "            fresh_li.append(i)\n",
    "    return fresh_li\n",
    "\n",
    "clean_lis(lis)"
   ]
  },
  {
   "cell_type": "code",
   "execution_count": 52,
   "id": "9a93d888-84b1-44f5-8ae0-e28cde07373e",
   "metadata": {},
   "outputs": [
    {
     "name": "stdout",
     "output_type": "stream",
     "text": [
      "Ascending\n",
      "Descending\n",
      "No Order\n"
     ]
    }
   ],
   "source": [
    "# 16 Create a code to check if a given list is sorted (either in ascending or descending order) or not\n",
    "\n",
    "def check_order(lst):\n",
    "    \n",
    "    ascending = True\n",
    "    descending = True\n",
    "\n",
    "    for i in range(1, len(lst)):\n",
    "        if lst[i] < lst[i - 1]:\n",
    "            ascending = False\n",
    "        elif lst[i] > lst[i - 1]:\n",
    "            descending = False\n",
    "\n",
    "    if ascending:\n",
    "        return \"Ascending\"\n",
    "    elif descending:\n",
    "        return \"Descending\"\n",
    "    else:\n",
    "        return \"No Order\"\n",
    "\n",
    "\n",
    "li1 = [1, 2, 3, 4, 5, 6, 7]\n",
    "li2 = [9, 8, 7, 6, 5, 4, 3]\n",
    "li3 = [5, 8, 2, 9, 0, 1, -3]\n",
    "\n",
    "print(check_order(li1))  \n",
    "print(check_order(li2))  \n",
    "print(check_order(li3))  "
   ]
  },
  {
   "cell_type": "code",
   "execution_count": 56,
   "id": "4176a99a-ec3a-4e2e-ac4c-cd21c0d6f700",
   "metadata": {},
   "outputs": [
    {
     "name": "stdout",
     "output_type": "stream",
     "text": [
      "[1, 2, 3, 4, 5, 6, 7, 8, 9, 10]\n"
     ]
    }
   ],
   "source": [
    "# 17 Write a code to merge two sorted lists into a single sorted list\n",
    "\n",
    "li1=[1,3,5,7,9]\n",
    "li2=[2,4,6,8,10]\n",
    "\n",
    "lst=[]\n",
    "\n",
    "i=j=0;\n",
    "\n",
    "while i<len(li1) and j<len(li2):\n",
    "    if li1[i]<li2[j]:\n",
    "        lst.append(li1[i])\n",
    "        i+=1\n",
    "    else:\n",
    "        lst.append(li2[j])\n",
    "        j+=1\n",
    "        \n",
    "lst.extend(li1[i:])\n",
    "lst.extend(li2[j:])\n",
    "\n",
    "print(lst)"
   ]
  },
  {
   "cell_type": "code",
   "execution_count": 57,
   "id": "2ffe296f-7684-4b9b-b3f1-5087d2e309a8",
   "metadata": {},
   "outputs": [
    {
     "name": "stdout",
     "output_type": "stream",
     "text": [
      "Intersection: [3, 4, 5]\n"
     ]
    }
   ],
   "source": [
    "# 18 Implement a code to find the intersection of two given lists\n",
    "\n",
    "def find_intersection(list1, list2):\n",
    "\n",
    "    set1 = set(list1)\n",
    "    set2 = set(list2)\n",
    "\n",
    "    intersection = list(set1 & set2)\n",
    "\n",
    "    return intersection\n",
    "\n",
    "\n",
    "list1 = [1, 2, 3, 4, 5]\n",
    "list2 = [3, 4, 5, 6, 7]\n",
    "\n",
    "result = find_intersection(list1, list2)\n",
    "print(\"Intersection:\", result)\n"
   ]
  },
  {
   "cell_type": "code",
   "execution_count": 60,
   "id": "9366b4a6-102b-458e-859c-91b0549bdf70",
   "metadata": {},
   "outputs": [
    {
     "name": "stdout",
     "output_type": "stream",
     "text": [
      "Union: [1, 2, 3, 4, 5, 6, 7]\n"
     ]
    }
   ],
   "source": [
    "# 19 Create a code to find the union of two lists without duplicates\n",
    "\n",
    "def find_union(li1, li2):\n",
    "    s1=set(li1)\n",
    "    s2=set(li2)\n",
    "    union=set(s1 | s2)\n",
    "    \n",
    "    return list(union)\n",
    "\n",
    "list1 = [1, 2, 3, 4, 5]\n",
    "list2 = [3, 4, 5, 6, 7]\n",
    "\n",
    "result = find_union(list1, list2)\n",
    "print(\"Union:\", result)\n",
    "        "
   ]
  },
  {
   "cell_type": "code",
   "execution_count": 61,
   "id": "7e79f091-3248-4725-a775-e23641ae5fcc",
   "metadata": {},
   "outputs": [
    {
     "name": "stdout",
     "output_type": "stream",
     "text": [
      "Shuffled list: [2, 3, 5, 4, 1]\n"
     ]
    }
   ],
   "source": [
    "# 20 Write a code to shuffle a given list randomly without using any built-in shuffle functions\n",
    "\n",
    "import random\n",
    "\n",
    "def custom_shuffle(my_list):\n",
    "    n = len(my_list)\n",
    "    shuffled_list = my_list.copy()  \n",
    "\n",
    "    \n",
    "    for i in range(n - 1, 0, -1):\n",
    "        j = random.randint(0, i)  \n",
    "        shuffled_list[i], shuffled_list[j] = shuffled_list[j], shuffled_list[i]\n",
    "\n",
    "    return shuffled_list\n",
    "\n",
    "\n",
    "original_list = [1, 2, 3, 4, 5]\n",
    "shuffled_result = custom_shuffle(original_list)\n",
    "print(\"Shuffled list:\", shuffled_result)\n"
   ]
  },
  {
   "cell_type": "code",
   "execution_count": 62,
   "id": "47140e8d-8e40-4066-bff0-fceeccab49c9",
   "metadata": {},
   "outputs": [
    {
     "name": "stdout",
     "output_type": "stream",
     "text": [
      "Intersection: [3, 4, 5]\n"
     ]
    }
   ],
   "source": [
    "# 21 Write a code that takes two tuples as input and returns a new tuple containing elements that are common to both input tuples\n",
    "\n",
    "\n",
    "def find_intersection(t1, t2):\n",
    "\n",
    "    set1 = set(t1)\n",
    "    set2 = set(t2)\n",
    "\n",
    "    intersection = list(set1 & set2)\n",
    "\n",
    "    return intersection\n",
    "\n",
    "\n",
    "t1 = (1, 2, 3, 4, 5)\n",
    "t2 = (3, 4, 5, 6, 7)\n",
    "\n",
    "result = find_intersection(t1,t2)\n",
    "print(\"Intersection:\", result)\n"
   ]
  },
  {
   "cell_type": "code",
   "execution_count": 66,
   "id": "d7755278-3585-4db3-b205-501b770e1607",
   "metadata": {},
   "outputs": [
    {
     "name": "stdout",
     "output_type": "stream",
     "text": [
      "Enter the first set of integers:\n"
     ]
    },
    {
     "name": "stdin",
     "output_type": "stream",
     "text": [
      "Enter a set of integers (comma-separated):  1,2,3,4\n"
     ]
    },
    {
     "name": "stdout",
     "output_type": "stream",
     "text": [
      "\n",
      "Enter the second set of integers:\n"
     ]
    },
    {
     "name": "stdin",
     "output_type": "stream",
     "text": [
      "Enter a set of integers (comma-separated):  3,4,5\n"
     ]
    },
    {
     "name": "stdout",
     "output_type": "stream",
     "text": [
      "\n",
      "Intersection of the two sets: {3, 4}\n"
     ]
    }
   ],
   "source": [
    "# 22 Create a code that prompts the user to enter two sets of integers separated by commas. Then, print the intersection of these two sets\n",
    "\n",
    "def get_integer_set_from_input():\n",
    "\n",
    "    user_input = input(\"Enter a set of integers (comma-separated): \")\n",
    "    try:\n",
    "        integer_list = [int(num.strip()) for num in user_input.split(\",\")]\n",
    "        return set(integer_list)\n",
    "    except ValueError:\n",
    "        print(\"Invalid input. Please enter integers separated by commas.\")\n",
    "        return get_integer_set_from_input()\n",
    "\n",
    "def main():\n",
    "    print(\"Enter the first set of integers:\")\n",
    "    set1 = get_integer_set_from_input()\n",
    "\n",
    "    print(\"\\nEnter the second set of integers:\")\n",
    "    set2 = get_integer_set_from_input()\n",
    "\n",
    "    intersection = set1 & set2  # Compute the intersection\n",
    "\n",
    "    print(\"\\nIntersection of the two sets:\", intersection)\n",
    "\n",
    "if __name__ == \"__main__\":\n",
    "    main()\n"
   ]
  },
  {
   "cell_type": "code",
   "execution_count": 68,
   "id": "24b2af79-0a41-424b-9302-535db801446e",
   "metadata": {},
   "outputs": [
    {
     "data": {
      "text/plain": [
       "(1, 2, 3, 4, 3, 4, 5, 6, 7)"
      ]
     },
     "execution_count": 68,
     "metadata": {},
     "output_type": "execute_result"
    }
   ],
   "source": [
    "# 23 Write a code to concatenate two tuples. The function should take two tuples as input and return a new tuple containing elements from both input tuples.\n",
    "\n",
    "def con_tup(t1,t2):\n",
    "    t3=t1+t2\n",
    "    return t3\n",
    "t1=(1,2,3,4)\n",
    "t2=(3,4,5,6,7)\n",
    "\n",
    "con_tup(t1,t2)"
   ]
  },
  {
   "cell_type": "code",
   "execution_count": 70,
   "id": "99b4437d-d63a-41c6-bc14-a51d45aa90e6",
   "metadata": {},
   "outputs": [
    {
     "name": "stdout",
     "output_type": "stream",
     "text": [
      "Enter the first set of strings:\n"
     ]
    },
    {
     "name": "stdin",
     "output_type": "stream",
     "text": [
      "Enter a set of strings (comma-separated):  ahad,is,mad\n"
     ]
    },
    {
     "name": "stdout",
     "output_type": "stream",
     "text": [
      "\n",
      "Enter the second set of strings:\n"
     ]
    },
    {
     "name": "stdin",
     "output_type": "stream",
     "text": [
      "Enter a set of strings (comma-separated):  ahad,is,bad\n"
     ]
    },
    {
     "name": "stdout",
     "output_type": "stream",
     "text": [
      "\n",
      "Elements in the first set but not in the second set:\n",
      "mad\n"
     ]
    }
   ],
   "source": [
    "# 24  Develop a code that prompts the user to input two sets of strings. Then, print the elements that are present in the first set but not in the second set.\n",
    "\n",
    "def get_string_set_from_input():\n",
    "\n",
    "    user_input = input(\"Enter a set of strings (comma-separated): \")\n",
    "    string_list = [s.strip() for s in user_input.split(\",\")]\n",
    "    return set(string_list)\n",
    "\n",
    "def main():\n",
    "    print(\"Enter the first set of strings:\")\n",
    "    set1 = get_string_set_from_input()\n",
    "\n",
    "    print(\"\\nEnter the second set of strings:\")\n",
    "    set2 = get_string_set_from_input()\n",
    "\n",
    "    difference = set1 - set2  \n",
    "\n",
    "    print(\"\\nElements in the first set but not in the second set:\")\n",
    "    for element in difference:\n",
    "        print(element)\n",
    "\n",
    "if __name__ == \"__main__\":\n",
    "    main()\n"
   ]
  },
  {
   "cell_type": "code",
   "execution_count": 76,
   "id": "9edf0377-acfa-4acf-93ac-6d8484f53771",
   "metadata": {},
   "outputs": [
    {
     "name": "stdout",
     "output_type": "stream",
     "text": [
      "Subtuple: (20, 30, 40)\n"
     ]
    }
   ],
   "source": [
    "# 25  Create a code that takes a tuple and two integers as input. The function should return a new tuple containing elements from the original tuple within the specified range of indices&\n",
    "\n",
    "\n",
    "def get_subtuple(my_tuple, start_index, end_index):\n",
    "\n",
    "    try:\n",
    "        subtuple = my_tuple[start_index:end_index]\n",
    "        return subtuple\n",
    "    except IndexError:\n",
    "       \n",
    "        print(\"Error: Indices out of range.\")\n",
    "        return ()\n",
    "\n",
    "\n",
    "input_tuple = (10, 20, 30, 40, 50)\n",
    "start_idx = 1\n",
    "end_idx = 4\n",
    "result = get_subtuple(input_tuple, start_idx, end_idx)\n",
    "print(\"Subtuple:\", result)\n"
   ]
  },
  {
   "cell_type": "code",
   "execution_count": 77,
   "id": "1fd3241f-13d2-4a37-a8d5-92f94784a08f",
   "metadata": {},
   "outputs": [
    {
     "name": "stdin",
     "output_type": "stream",
     "text": [
      "Enter the first set of characters (comma-separated):  a,b,c\n",
      "Enter the second set of characters (comma-separated):  e,b,t\n"
     ]
    },
    {
     "name": "stdout",
     "output_type": "stream",
     "text": [
      "Union of the two sets: {'c', 't', 'a', 'e', 'b'}\n"
     ]
    }
   ],
   "source": [
    "# 26 Write a code that prompts the user to input two sets of characters. Then, print the union of these two sets\n",
    "\n",
    "def get_user_input():\n",
    "\n",
    "    try:\n",
    "        input_str1 = input(\"Enter the first set of characters (comma-separated): \")\n",
    "        input_str2 = input(\"Enter the second set of characters (comma-separated): \")\n",
    "\n",
    "        set1 = set(input_str1.split(\",\"))\n",
    "        set2 = set(input_str2.split(\",\"))\n",
    "\n",
    "        return set1, set2\n",
    "    except KeyboardInterrupt:\n",
    "        print(\"\\nUser canceled input. Exiting.\")\n",
    "        return set(), set()\n",
    "\n",
    "def main():\n",
    "    set1, set2 = get_user_input()\n",
    "\n",
    "    \n",
    "    union_set = set1 | set2\n",
    "\n",
    "    print(\"Union of the two sets:\", union_set)\n",
    "\n",
    "if __name__ == \"__main__\":\n",
    "    main()\n"
   ]
  },
  {
   "cell_type": "code",
   "execution_count": 78,
   "id": "a974a354-af8a-438f-8556-c784731c3877",
   "metadata": {},
   "outputs": [
    {
     "name": "stdout",
     "output_type": "stream",
     "text": [
      "Minimum value: 5, Maximum value: 20\n"
     ]
    }
   ],
   "source": [
    "# 27 Develop a code that takes a tuple of integers as input. The function should return the maximum and minimum values from the tuple using tuple unpacking\n",
    "\n",
    "def find_min_max(my_tuple):\n",
    "\n",
    "    if not my_tuple:\n",
    "        print(\"Input tuple is empty.\")\n",
    "        return None, None\n",
    "\n",
    "    min_value, max_value = min(my_tuple), max(my_tuple)\n",
    "    return min_value, max_value\n",
    "\n",
    "input_tuple = (10, 5, 20, 15, 8)\n",
    "min_val, max_val = find_min_max(input_tuple)\n",
    "print(f\"Minimum value: {min_val}, Maximum value: {max_val}\")\n"
   ]
  },
  {
   "cell_type": "code",
   "execution_count": 79,
   "id": "bffa6605-69df-4b94-906e-eb7c11caacf7",
   "metadata": {},
   "outputs": [
    {
     "name": "stdout",
     "output_type": "stream",
     "text": [
      "Set 1: {1, 2, 3, 4, 5}\n",
      "Set 2: {3, 4, 5, 6, 7}\n",
      "Union: {1, 2, 3, 4, 5, 6, 7}\n",
      "Intersection: {3, 4, 5}\n",
      "Difference (Set 1 - Set 2): {1, 2}\n"
     ]
    }
   ],
   "source": [
    "# 28 Create a code that defines two sets of integers. Then, print the union, intersection, and difference of these two sets\n",
    "\n",
    "def main():\n",
    "    \n",
    "    set1 = {1, 2, 3, 4, 5}\n",
    "    set2 = {3, 4, 5, 6, 7}\n",
    "\n",
    "    \n",
    "    union_result = set1 | set2\n",
    "    intersection_result = set1 & set2\n",
    "    difference_result = set1 - set2\n",
    "\n",
    "    print(\"Set 1:\", set1)\n",
    "    print(\"Set 2:\", set2)\n",
    "    print(\"Union:\", union_result)\n",
    "    print(\"Intersection:\", intersection_result)\n",
    "    print(\"Difference (Set 1 - Set 2):\", difference_result)\n",
    "\n",
    "if __name__ == \"__main__\":\n",
    "    main()\n"
   ]
  },
  {
   "cell_type": "code",
   "execution_count": 80,
   "id": "a849ad27-371e-4429-bf67-82c5b100191c",
   "metadata": {},
   "outputs": [
    {
     "name": "stdout",
     "output_type": "stream",
     "text": [
      "Occurrences of 2 in the tuple: 3\n"
     ]
    }
   ],
   "source": [
    "# 29 Write a code that takes a tuple and an element as input. The function should return the count of occurrences of the given element in the tuple\n",
    "\n",
    "def count_element_occurrences(my_tuple, target_element):\n",
    "\n",
    "    return my_tuple.count(target_element)\n",
    "\n",
    "\n",
    "input_tuple = (1, 2, 3, 2, 4, 2, 5)\n",
    "target = 2\n",
    "occurrences = count_element_occurrences(input_tuple, target)\n",
    "print(f\"Occurrences of {target} in the tuple: {occurrences}\")\n"
   ]
  },
  {
   "cell_type": "code",
   "execution_count": 81,
   "id": "7312c80d-0a8d-4cdb-9e47-eaf7fdc119ec",
   "metadata": {},
   "outputs": [
    {
     "name": "stdin",
     "output_type": "stream",
     "text": [
      "Enter the first set of strings (comma-separated):  brown,fox,dog\n",
      "Enter the second set of strings (comma-separated):  black,fox,cat\n"
     ]
    },
    {
     "name": "stdout",
     "output_type": "stream",
     "text": [
      "Set 1: {'brown', 'dog', 'fox'}\n",
      "Set 2: {'black', 'cat', 'fox'}\n",
      "Symmetric Difference: {'brown', 'cat', 'black', 'dog'}\n"
     ]
    }
   ],
   "source": [
    "# 30 Develop a code that prompts the user to input two sets of strings. Then, print the symmetric difference of these two sets\n",
    "\n",
    "def get_user_input():\n",
    "\n",
    "    try:\n",
    "        input_str1 = input(\"Enter the first set of strings (comma-separated): \")\n",
    "        input_str2 = input(\"Enter the second set of strings (comma-separated): \")\n",
    "\n",
    "        set1 = set(input_str1.split(\",\"))\n",
    "        set2 = set(input_str2.split(\",\"))\n",
    "\n",
    "        return set1, set2\n",
    "    except KeyboardInterrupt:\n",
    "        print(\"\\nUser canceled input. Exiting.\")\n",
    "        return set(), set()\n",
    "\n",
    "def main():\n",
    "    set1, set2 = get_user_input()\n",
    "\n",
    "    symmetric_diff = set1 ^ set2\n",
    "\n",
    "    print(\"Set 1:\", set1)\n",
    "    print(\"Set 2:\", set2)\n",
    "    print(\"Symmetric Difference:\", symmetric_diff)\n",
    "\n",
    "if __name__ == \"__main__\":\n",
    "    main()\n"
   ]
  },
  {
   "cell_type": "code",
   "execution_count": 82,
   "id": "e37d35a0-d1a2-4ed8-a109-9fe69774e8f0",
   "metadata": {},
   "outputs": [
    {
     "name": "stdin",
     "output_type": "stream",
     "text": [
      "Enter a list of words (separated by spaces):  cat bat dog\n"
     ]
    },
    {
     "name": "stdout",
     "output_type": "stream",
     "text": [
      "Word frequencies:\n",
      "cat: 1\n",
      "bat: 1\n",
      "dog: 1\n"
     ]
    }
   ],
   "source": [
    "# 31 Write a code that takes a list of words as input and returns a dictionary where the keys are unique words\n",
    "# and the values are the frequencies of those words in the input list\n",
    "\n",
    "def word_frequencies(word_list):\n",
    "\n",
    "    word_count = {}\n",
    "    for word in word_list:\n",
    "        \n",
    "        \n",
    "        word = word.lower()\n",
    "        word_count[word] = word_count.get(word, 0) + 1\n",
    "\n",
    "    return word_count\n",
    "\n",
    "def main():\n",
    "    try:\n",
    "        input_words = input(\"Enter a list of words (separated by spaces): \")\n",
    "        word_list = input_words.split()\n",
    "\n",
    "        word_freq_dict = word_frequencies(word_list)\n",
    "\n",
    "        print(\"Word frequencies:\")\n",
    "        for word, freq in word_freq_dict.items():\n",
    "            print(f\"{word}: {freq}\")\n",
    "\n",
    "    except KeyboardInterrupt:\n",
    "        print(\"\\nUser canceled input. Exiting.\")\n",
    "\n",
    "if __name__ == \"__main__\":\n",
    "    main()\n"
   ]
  },
  {
   "cell_type": "code",
   "execution_count": 83,
   "id": "57e6916e-fde3-432a-867c-d9adb96ad9d5",
   "metadata": {},
   "outputs": [
    {
     "name": "stdout",
     "output_type": "stream",
     "text": [
      "Merged spells: {'fireball': 5, 'heal': 8, 'shield': 2, 'teleport': 1}\n"
     ]
    }
   ],
   "source": [
    "# 32 Write a code that takes two dictionaries as input and merges them into a single dictionary. If there are \n",
    "# common keys, the values should be added together\n",
    "\n",
    "def merge_dictionaries(dict1, dict2):\n",
    "\n",
    "    merged_dict = dict1.copy()  \n",
    "    for key, value in dict2.items():\n",
    "        if key in merged_dict:\n",
    "           \n",
    "            merged_dict[key] += value\n",
    "        else:\n",
    "           \n",
    "            merged_dict[key] = value\n",
    "    return merged_dict\n",
    "\n",
    "wizard1_spells = {\"fireball\": 3, \"heal\": 5, \"shield\": 2}\n",
    "wizard2_spells = {\"fireball\": 2, \"teleport\": 1, \"heal\": 3}\n",
    "\n",
    "merged_spells = merge_dictionaries(wizard1_spells, wizard2_spells)\n",
    "print(\"Merged spells:\", merged_spells)\n"
   ]
  },
  {
   "cell_type": "code",
   "execution_count": 84,
   "id": "199b570b-60fe-4728-ac91-7f5b8f9bf396",
   "metadata": {},
   "outputs": [
    {
     "name": "stdout",
     "output_type": "stream",
     "text": [
      "Found value: Abracadabra!\n"
     ]
    }
   ],
   "source": [
    "# 33 Write a code to access a value in a nested dictionary. The function should take the dictionary and a list of\n",
    "# keys as input, and return the corresponding value. If any of the keys do not exist in the dictionary, the function should return None&\n",
    "\n",
    "def access_nested_value(my_dict, keys_list):\n",
    "\n",
    "    try:\n",
    "        \n",
    "        for key in keys_list:\n",
    "            my_dict = my_dict.get(key)\n",
    "            if my_dict is None:\n",
    "                return None\n",
    "        return my_dict\n",
    "    except AttributeError:\n",
    "        \n",
    "        return None\n",
    "\n",
    "\n",
    "nested_dict = {\n",
    "    \"outer\": {\n",
    "        \"inner\": {\n",
    "            \"secret\": \"Abracadabra!\"\n",
    "        }\n",
    "    }\n",
    "}\n",
    "\n",
    "keys_to_find = [\"outer\", \"inner\", \"secret\"]\n",
    "result = access_nested_value(nested_dict, keys_to_find)\n",
    "print(\"Found value:\", result)\n"
   ]
  },
  {
   "cell_type": "code",
   "execution_count": 85,
   "id": "a84fcb3f-2812-4099-8cef-3ad36355d9a3",
   "metadata": {},
   "outputs": [
    {
     "name": "stdout",
     "output_type": "stream",
     "text": [
      "Sorted (descending): {'cherry': 8, 'apple': 5, 'date': 3, 'banana': 2}\n",
      "Sorted (ascending): {'banana': 2, 'date': 3, 'apple': 5, 'cherry': 8}\n"
     ]
    }
   ],
   "source": [
    "# 34 Write a code that takes a dictionary as input and returns a sorted version of it based on the values. You can choose whether to sort in ascending or descending order\n",
    "\n",
    "def sort_dict_by_values(input_dict, descending=True):\n",
    "    sorted_items = sorted(input_dict.items(), key=lambda item: item[1], reverse=descending)\n",
    "    return dict(sorted_items)\n",
    "\n",
    "# Example usage:\n",
    "my_dict = {\n",
    "    \"apple\": 5,\n",
    "    \"banana\": 2,\n",
    "    \"cherry\": 8,\n",
    "    \"date\": 3\n",
    "}\n",
    "\n",
    "\n",
    "sorted_descending = sort_dict_by_values(my_dict)\n",
    "print(\"Sorted (descending):\", sorted_descending)\n",
    "\n",
    "\n",
    "sorted_ascending = sort_dict_by_values(my_dict, descending=False)\n",
    "print(\"Sorted (ascending):\", sorted_ascending)\n"
   ]
  },
  {
   "cell_type": "code",
   "execution_count": 86,
   "id": "000e0946-133d-4dfe-8b84-75900abffa8b",
   "metadata": {},
   "outputs": [
    {
     "name": "stdout",
     "output_type": "stream",
     "text": [
      "Inverted dictionary:\n",
      "fruit: ['apple', 'banana', 'cherry']\n",
      "dried fruit: ['date']\n"
     ]
    }
   ],
   "source": [
    "# 35 Write a code that inverts a dictionary, swapping keys and values. Ensure that the inverted dictionary\n",
    "# correctly handles cases where multiple keys have the same value by storing the keys as a list in the inverted dictionary.\n",
    "\n",
    "def invert_dictionary(original_dict):\n",
    "\n",
    "    inverted_dict = {}\n",
    "    for key, value in original_dict.items():\n",
    "        if value not in inverted_dict:\n",
    "            inverted_dict[value] = [key]  \n",
    "        else:\n",
    "            inverted_dict[value].append(key)  \n",
    "\n",
    "    return inverted_dict\n",
    "\n",
    "\n",
    "my_dict = {\n",
    "    \"apple\": \"fruit\",\n",
    "    \"banana\": \"fruit\",\n",
    "    \"cherry\": \"fruit\",\n",
    "    \"date\": \"dried fruit\"\n",
    "}\n",
    "\n",
    "inverted_result = invert_dictionary(my_dict)\n",
    "print(\"Inverted dictionary:\")\n",
    "for value, keys in inverted_result.items():\n",
    "    print(f\"{value}: {keys}\")\n"
   ]
  },
  {
   "cell_type": "code",
   "execution_count": null,
   "id": "eeeccc50-018e-426d-bca0-f67353bc10ce",
   "metadata": {},
   "outputs": [],
   "source": []
  }
 ],
 "metadata": {
  "kernelspec": {
   "display_name": "Python 3 (ipykernel)",
   "language": "python",
   "name": "python3"
  },
  "language_info": {
   "codemirror_mode": {
    "name": "ipython",
    "version": 3
   },
   "file_extension": ".py",
   "mimetype": "text/x-python",
   "name": "python",
   "nbconvert_exporter": "python",
   "pygments_lexer": "ipython3",
   "version": "3.10.8"
  }
 },
 "nbformat": 4,
 "nbformat_minor": 5
}
