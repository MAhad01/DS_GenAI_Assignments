{
 "cells": [
  {
   "cell_type": "code",
   "execution_count": 16,
   "id": "153d231f-b68e-4606-9947-37b65bbb0275",
   "metadata": {},
   "outputs": [],
   "source": [
    "import numpy as np\n",
    "import pandas as pd\n",
    "import seaborn as sns\n",
    "import statistics as st\n",
    "import math"
   ]
  },
  {
   "cell_type": "code",
   "execution_count": 1,
   "id": "56237532-6e3a-4687-a0f1-3bfe6f8b494b",
   "metadata": {},
   "outputs": [],
   "source": [
    "# 1. Generate a list of 100 integers containing values between 90 to 130 and store it in the variable `int_list`.\n",
    "# After generating the list, find the following:\n",
    "\n",
    "# (i) Write a Python function to calculate the mean of a given list of numbers.\n",
    "\n",
    "# Create a function to find the median of a list of numbers.\n",
    "\n",
    "# (ii) Develop a program to compute the mode of a list of integers.\n",
    "\n",
    "# (iii) Implement a function to calculate the weighted mean of a list of values and their corresponding weights.\n",
    "\n",
    "# (iv) Write a Python function to find the geometric mean of a list of positive numbers.\n",
    "\n",
    "# (v) Create a program to calculate the harmonic mean of a list of values.\n",
    "\n",
    "# (vi) Build a function to determine the midrange of a list of numbers (average of the minimum and maximum).\n",
    "\n",
    "# (vii) Implement a Python program to find the trimmed mean of a list, excluding a certain percentage of\n",
    "# outliers."
   ]
  },
  {
   "cell_type": "code",
   "execution_count": 23,
   "id": "7f5543dd-959b-472c-8a21-e09706af8314",
   "metadata": {},
   "outputs": [
    {
     "name": "stdout",
     "output_type": "stream",
     "text": [
      "Mean:  107.7\n",
      "Median:  106.5\n",
      "Mode:  101\n",
      "Weights:  [2 1 1 3 0 2 0 2 2 1 1 0 1 1 3 1 3 1 3 2 3 0 2 1 0 0 1 1 3 2 1 1 1 0 2 0 2\n",
      " 0 1 0 3 2 3 0 2 0 0 0 2 2 2 2 1 2 1 2 1 1 3 0 0 2 1 1 3 1 1 0 1 0 2 1 0 2\n",
      " 2 2 3 2 2 2 0 0 0 2 3 1 3 1 2 3 1 3 1 2 3 2 3 1 2 1]\n",
      "Weighted Mean :  107.66901408450704\n",
      "Geometric Mean :  0.0\n",
      "Harmonic Mean :  106.42420792107859\n",
      "Midrange :  109.0\n",
      "Trimmed mean :  107.04\n"
     ]
    },
    {
     "name": "stderr",
     "output_type": "stream",
     "text": [
      "/tmp/ipykernel_106/60227842.py:23: RuntimeWarning: overflow encountered in long_scalars\n",
      "  p=p*i\n"
     ]
    }
   ],
   "source": [
    "int_list=np.random.randint(90,130,100)\n",
    "\n",
    "def central_tend(int_list):\n",
    "    print('Mean: ',np.mean(int_list))\n",
    "    print('Median: ',np.median(int_list))\n",
    "    print('Mode: ',st.mode(int_list))\n",
    "    \n",
    "central_tend(int_list)\n",
    "\n",
    "list_weights=np.random.randint(4,size=100)\n",
    "print('Weights: ',list_weights)\n",
    "\n",
    "def weighted_avg(int_list,list_weights):\n",
    "    wSum=sum(list_weights)\n",
    "    weightsum=sum(i*w for i,w in zip(int_list,list_weights))\n",
    "    weight_avg=weightsum/wSum\n",
    "    return weight_avg\n",
    "print('Weighted Mean : ',weighted_avg(int_list,list_weights))\n",
    "\n",
    "def geometric_mean(int_list):\n",
    "    p=1\n",
    "    for i in int_list:\n",
    "        p=p*i\n",
    "    return math.pow(p,1/len(int_list))\n",
    "print('Geometric Mean : ',geometric_mean(int_list))\n",
    "\n",
    "def harmonic_mean(int_list):\n",
    "    resiprocal_sum=sum(1/i for i in int_list)\n",
    "    return len(int_list)/resiprocal_sum\n",
    "print('Harmonic Mean : ',harmonic_mean(int_list))\n",
    "\n",
    "def midrange(l):\n",
    "    m=min(l)\n",
    "    M=max(l)\n",
    "    return (m+M)/2\n",
    "print('Midrange : ',midrange(int_list))\n",
    "\n",
    "\n",
    "def trimmed_mean(values, trim_percentage):\n",
    "    values = np.array(values)\n",
    "    trim_count = int(len(values) * trim_percentage / 100)\n",
    "    trimmed_values = np.sort(values)[trim_count:-trim_count]\n",
    "    return np.mean(trimmed_values)\n",
    "print('Trimmed mean : ',trimmed_mean(int_list,25))"
   ]
  },
  {
   "cell_type": "code",
   "execution_count": 24,
   "id": "843a2e9f-77d6-4505-ade4-713fc7c72b91",
   "metadata": {},
   "outputs": [],
   "source": [
    "# . Generate a list of 500 integers containing values between 200 to 300 and store it in the variable `int_list2`.\n",
    "# After generating the list, find the following:\n",
    "\n",
    "\n",
    "# (i) Compare the given list of visualization for the given data:\n",
    "\n",
    "# 1. Frequency & Gaussian distribution\n",
    "\n",
    "# 2. Frequency smoothened KDE plot\n",
    "\n",
    "# 3. Gaussian distribution & smoothened KDE plot\n",
    "\n",
    "\n",
    "# (ii) Write a Python function to calculate the range of a given list of numbers.\n",
    "\n",
    "\n",
    "# (iii) Create a program to find the variance and standard deviation of a list of numbers.\n",
    "\n",
    "\n",
    "# (iv) Implement a function to compute the interquartile range (IQR) of a list of values.\n",
    "\n",
    "\n",
    "# (v) Build a program to calculate the coefficient of variation for a dataset.\n",
    "\n",
    "# (vi) Write a Python function to find the mean absolute deviation (MAD) of a list of numbers.\n",
    "\n",
    "\n",
    "# (vii) Create a program to calculate the quartile deviation of a list of values.\n",
    "\n",
    "# (viii) Implement a function to find the range-based coefficient of dispersion for a dataset."
   ]
  },
  {
   "cell_type": "code",
   "execution_count": 27,
   "id": "dc9bc2f6-c8cd-4c1c-a128-00db30748d48",
   "metadata": {},
   "outputs": [
    {
     "data": {
      "text/plain": [
       "<AxesSubplot: ylabel='Count'>"
      ]
     },
     "execution_count": 27,
     "metadata": {},
     "output_type": "execute_result"
    },
    {
     "data": {
      "image/png": "[encoded data removed]",
      "text/plain": [
       "<Figure size 640x480 with 1 Axes>"
      ]
     },
     "metadata": {},
     "output_type": "display_data"
    }
   ],
   "source": [
    "int_list2=np.random.randint(200,300,500)\n",
    "sns.histplot(int_list2)"
   ]
  },
  {
   "cell_type": "code",
   "execution_count": 28,
   "id": "77e4d742-0a5f-4e0f-bcc1-66a2397ebdf6",
   "metadata": {},
   "outputs": [
    {
     "name": "stderr",
     "output_type": "stream",
     "text": [
      "/tmp/ipykernel_106/2068939894.py:1: UserWarning: \n",
      "\n",
      "`distplot` is a deprecated function and will be removed in seaborn v0.14.0.\n",
      "\n",
      "Please adapt your code to use either `displot` (a figure-level function with\n",
      "similar flexibility) or `histplot` (an axes-level function for histograms).\n",
      "\n",
      "For a guide to updating your code to use the new functions, please see\n",
      "https://gist.github.com/mwaskom/de44147ed2974457ad6372750bbe5751\n",
      "\n",
      "  sns.distplot(int_list2)\n"
     ]
    },
    {
     "data": {
      "text/plain": [
       "<AxesSubplot: ylabel='Density'>"
      ]
     },
     "execution_count": 28,
     "metadata": {},
     "output_type": "execute_result"
    },
    {
     "data": {
      "image/png": "[encoded data removed]",
      "text/plain": [
       "<Figure size 640x480 with 1 Axes>"
      ]
     },
     "metadata": {},
     "output_type": "display_data"
    }
   ],
   "source": [
    "sns.distplot(int_list2)"
   ]
  },
  {
   "cell_type": "code",
   "execution_count": 37,
   "id": "e2322e89-e9d1-4c91-8d8a-f4b8a82dfaa2",
   "metadata": {},
   "outputs": [
    {
     "name": "stdout",
     "output_type": "stream",
     "text": [
      "Range:  99\n",
      "Variance:  828.611184\n",
      "Standard Deviation:  28.7856072369509\n",
      "Inter Quartile Range : [49.25]\n",
      "Coefficient of Variation:  0.11532510391240083\n",
      "Mean Absolute Defiation:  24.686336\n",
      "Quartile Deviation:  [24.625]\n",
      "Range Based Coefficient of Dispersion :  0.3966282591625134\n"
     ]
    }
   ],
   "source": [
    "def list_range(l):\n",
    "    m=min(l)\n",
    "    M=max(l)\n",
    "    return M-m\n",
    "print('Range: ',list_range(int_list2))\n",
    "\n",
    "def spread(l):\n",
    "    print('Variance: ',np.var(l))\n",
    "    print(\"Standard Deviation: \",np.std(l))\n",
    "spread(int_list2)\n",
    "\n",
    "def IQR(l):\n",
    "    q1=np.percentile(l, [25])\n",
    "    q3=np.percentile(l, [75])\n",
    "    return q3-q1\n",
    "print('Inter Quartile Range :',IQR(int_list2))\n",
    "\n",
    "def coefficient_variation(l):\n",
    "    avg=np.mean(l)\n",
    "    std_dev=np.std(l)\n",
    "    return std_dev/avg\n",
    "print('Coefficient of Variation: ',coefficient_variation(int_list2))\n",
    "\n",
    "def MAD(l):\n",
    "    avg=np.mean(l)\n",
    "    diflist=[]\n",
    "    for i in l:\n",
    "        diff=abs(i-avg)\n",
    "        diflist.append(diff)\n",
    "        \n",
    "    return np.mean(diflist)\n",
    "print('Mean Absolute Defiation: ',MAD(int_list2))\n",
    "\n",
    "def quartile_dev(l):\n",
    "    return IQR(l)/2\n",
    "print('Quartile Deviation: ',quartile_dev(int_list2))\n",
    "\n",
    "def RCD(l):\n",
    "    return list_range(l)/np.mean(l)\n",
    "print('Range Based Coefficient of Dispersion : ',RCD(int_list2))"
   ]
  },
  {
   "cell_type": "code",
   "execution_count": 38,
   "id": "798755dc-b1ff-43e7-bb73-7decfdd9aef7",
   "metadata": {},
   "outputs": [
    {
     "name": "stdout",
     "output_type": "stream",
     "text": [
      "Expected Value: 3.2\n",
      "Variance: 1.56\n"
     ]
    }
   ],
   "source": [
    "# 3 Write a Python class representing a discrete random variable with methods to calculate its expected value and variance\n",
    "\n",
    "class DiscreteRandomVariable:\n",
    "    def __init__(self, values, probabilities):\n",
    "        self.values = values\n",
    "        self.probabilities = probabilities\n",
    "    \n",
    "    def expected_value(self):\n",
    "        return sum(value * prob for value, prob in zip(self.values, self.probabilities))\n",
    "    \n",
    "    def variance(self):\n",
    "        mean = self.expected_value()\n",
    "        return sum(prob * (value - mean) ** 2 for value, prob in zip(self.values, self.probabilities))\n",
    "\n",
    "values = [1, 2, 3, 4, 5]\n",
    "probabilities = [0.1, 0.2, 0.3, 0.2, 0.2]\n",
    "rv = DiscreteRandomVariable(values, probabilities)\n",
    "\n",
    "print(\"Expected Value:\", rv.expected_value())\n",
    "print(\"Variance:\", rv.variance())\n",
    "\n",
    "    "
   ]
  },
  {
   "cell_type": "code",
   "execution_count": 39,
   "id": "b60dc8cb-8fa6-47e0-8150-a3f71a856325",
   "metadata": {},
   "outputs": [
    {
     "name": "stdout",
     "output_type": "stream",
     "text": [
      "Simulated Rolls: [1, 2, 5, 4, 5, 4, 4, 6, 5, 1]\n",
      "Expected Value: 3.5\n",
      "Variance: 2.9166666666666665\n"
     ]
    }
   ],
   "source": [
    "# 4. Implement a program to simulate the rolling of a fair six-sided die and calculate the expected value and variance of the outcomes.\n",
    "\n",
    "\n",
    "import random\n",
    "\n",
    "class FairDie:\n",
    "    def __init__(self, sides=6):\n",
    "        self.sides = sides\n",
    "        self.outcomes = list(range(1, sides + 1))\n",
    "        self.probabilities = [1 / sides] * sides\n",
    "    \n",
    "    def roll(self):\n",
    "        return random.choice(self.outcomes)\n",
    "    \n",
    "    def expected_value(self):\n",
    "        return sum(outcome * prob for outcome, prob in zip(self.outcomes, self.probabilities))\n",
    "    \n",
    "    def variance(self):\n",
    "        mean = self.expected_value()\n",
    "        return sum(prob * (outcome - mean) ** 2 for outcome, prob in zip(self.outcomes, self.probabilities))\n",
    "\n",
    "# Simulate rolling the die multiple times\n",
    "def simulate_rolls(die, num_rolls):\n",
    "    rolls = [die.roll() for _ in range(num_rolls)]\n",
    "    return rolls\n",
    "\n",
    "# Example usage:\n",
    "die = FairDie()\n",
    "num_rolls = 10000\n",
    "rolls = simulate_rolls(die, num_rolls)\n",
    "\n",
    "print(\"Simulated Rolls:\", rolls[:10])  \n",
    "print(\"Expected Value:\", die.expected_value())\n",
    "print(\"Variance:\", die.variance())\n"
   ]
  },
  {
   "cell_type": "code",
   "execution_count": 40,
   "id": "eef8a60e-ecb8-4057-a010-13e7144dffdd",
   "metadata": {},
   "outputs": [
    {
     "name": "stdout",
     "output_type": "stream",
     "text": [
      "Binomial Distribution - Mean: 4.952 Variance: 2.681696\n",
      "Poisson Distribution - Mean: 2.961 Variance: 2.9234789999999995\n"
     ]
    }
   ],
   "source": [
    "#5 Create a Python function to generate random samples from a given probability distribution (e.g.,\n",
    "# binomial, Poisson) and calculate their mean and variance\n",
    "\n",
    "def generate_samples(distribution, params, size=1000):\n",
    "    if distribution == 'binomial':\n",
    "        n, p = params\n",
    "        samples = np.random.binomial(n, p, size)\n",
    "    elif distribution == 'poisson':\n",
    "        lam = params[0]\n",
    "        samples = np.random.poisson(lam, size)\n",
    "    else:\n",
    "        raise ValueError(\"Unsupported distribution. Use 'binomial' or 'poisson'.\")\n",
    "    \n",
    "    mean = np.mean(samples)\n",
    "    variance = np.var(samples)\n",
    "    \n",
    "    return samples, mean, variance\n",
    "\n",
    "binomial_samples, binomial_mean, binomial_variance = generate_samples('binomial', (10, 0.5))\n",
    "print(\"Binomial Distribution - Mean:\", binomial_mean, \"Variance:\", binomial_variance)\n",
    "\n",
    "poisson_samples, poisson_mean, poisson_variance = generate_samples('poisson', (3,))\n",
    "print(\"Poisson Distribution - Mean:\", poisson_mean, \"Variance:\", poisson_variance)\n"
   ]
  },
  {
   "cell_type": "code",
   "execution_count": 44,
   "id": "27c94081-efcc-4e81-8bd7-978746288bc1",
   "metadata": {},
   "outputs": [
    {
     "name": "stdout",
     "output_type": "stream",
     "text": [
      "Mean of normal:  50.03637074308848\n",
      "Variance of normal:  24.34025674182201\n",
      "Standard Deviation:  4.933584573291717\n"
     ]
    }
   ],
   "source": [
    "# 6 Write a Python script to generate random numbers from a Gaussian (normal) distribution and compute\n",
    "# the mean, variance, and standard deviation of the samples.\n",
    "\n",
    "def guass():\n",
    "    data=np.random.normal(50,5,1000)\n",
    "    # print(data)\n",
    "    print('Mean of normal: ',np.mean(data))\n",
    "    print('Variance of normal: ',np.var(data))\n",
    "    print('Standard Deviation: ',np.std(data))\n",
    "guass()"
   ]
  },
  {
   "cell_type": "code",
   "execution_count": 45,
   "id": "47445877-a133-41d5-a80f-975e833f8931",
   "metadata": {},
   "outputs": [],
   "source": [
    "# 7 Use seaborn library to load `tips` dataset. Find the following from the dataset for the columns `total_bill`\n",
    "# and `tip`:\n",
    "\n",
    "# (i) Write a Python function that calculates their skewness.\n",
    "\n",
    "\n",
    "# (ii) Create a program that determines whether the columns exhibit positive skewness, negative skewness, or is\n",
    "# approximately symmetric.\n",
    "\n",
    "\n",
    "# (iii) Write a function that calculates the covariance between two columns.\n",
    "\n",
    "\n",
    "# (iv) Implement a Python program that calculates the Pearson correlation coefficient between two columns.\n",
    "\n",
    "\n",
    "# (v) Write a script to visualize the correlation between two specific columns in a Pandas DataFrame using\n",
    "# scatter plots."
   ]
  },
  {
   "cell_type": "code",
   "execution_count": 48,
   "id": "db0c1951-fe9f-430d-b869-15dbc15a3c10",
   "metadata": {},
   "outputs": [
    {
     "name": "stdout",
     "output_type": "stream",
     "text": [
      "Total Bill Skewness: 1.1262346334818638\n",
      "Tip Skewness: 1.4564266884221506\n",
      "Total Bill Skewness Type: Positive Skewness\n",
      "Tip Skewness Type: Positive Skewness\n",
      "Covariance between Total Bill and Tip: 8.323501629224854\n",
      "Pearson Correlation between Total Bill and Tip: 0.6757341092113641\n"
     ]
    },
    {
     "data": {
      "image/png": "[encoded data removed]",
      "text/plain": [
       "<Figure size 1000x600 with 1 Axes>"
      ]
     },
     "metadata": {},
     "output_type": "display_data"
    }
   ],
   "source": [
    "from scipy.stats import skew\n",
    "import matplotlib.pyplot as plt\n",
    "\n",
    "tips = sns.load_dataset('tips')\n",
    "\n",
    "def calculate_skewness(column):\n",
    "    return skew(column)\n",
    "\n",
    "total_bill_skewness = calculate_skewness(tips['total_bill'])\n",
    "tip_skewness = calculate_skewness(tips['tip'])\n",
    "\n",
    "print(\"Total Bill Skewness:\", total_bill_skewness)\n",
    "print(\"Tip Skewness:\", tip_skewness)\n",
    "\n",
    "\n",
    "def skewness_type(skewness_value):\n",
    "    if skewness_value > 0:\n",
    "        return \"Positive Skewness\"\n",
    "    elif skewness_value < 0:\n",
    "        return \"Negative Skewness\"\n",
    "    else:\n",
    "        return \"Approximately Symmetric\"\n",
    "\n",
    "total_bill_skewness_type = skewness_type(total_bill_skewness)\n",
    "tip_skewness_type = skewness_type(tip_skewness)\n",
    "\n",
    "print(\"Total Bill Skewness Type:\", total_bill_skewness_type)\n",
    "print(\"Tip Skewness Type:\", tip_skewness_type)\n",
    "\n",
    "# Calculate Covariance\n",
    "def calculate_covariance(column1, column2):\n",
    "    return column1.cov(column2)\n",
    "\n",
    "covariance = calculate_covariance(tips['total_bill'], tips['tip'])\n",
    "print(\"Covariance between Total Bill and Tip:\", covariance)\n",
    "\n",
    "# Calculate Pearson Correlation Coefficient\n",
    "def calculate_pearson_correlation(column1, column2):\n",
    "    return column1.corr(column2)\n",
    "\n",
    "pearson_correlation = calculate_pearson_correlation(tips['total_bill'], tips['tip'])\n",
    "print(\"Pearson Correlation between Total Bill and Tip:\", pearson_correlation)\n",
    "\n",
    "# Visualize Correlation using Scatter Plots\n",
    "def plot_scatter(column1, column2, xlabel, ylabel, title):\n",
    "    plt.figure(figsize=(10, 6))\n",
    "    plt.scatter(column1, column2, alpha=0.5)\n",
    "    plt.xlabel(xlabel)\n",
    "    plt.ylabel(ylabel)\n",
    "    plt.title(title)\n",
    "    plt.show()\n",
    "\n",
    "plot_scatter(tips['total_bill'], tips['tip'], 'Total Bill', 'Tip', 'Scatter Plot of Total Bill vs Tip')\n"
   ]
  },
  {
   "cell_type": "code",
   "execution_count": 49,
   "id": "74c84136-2771-497b-bf8f-b57c4dc65292",
   "metadata": {},
   "outputs": [
    {
     "name": "stdout",
     "output_type": "stream",
     "text": [
      "[7.69459863e-23 5.68442201e-22 4.03145816e-21 2.74481769e-20\n",
      " 1.79407401e-19 1.12575195e-18 6.78141882e-18 3.92169602e-17\n",
      " 2.17722239e-16 1.16039850e-15 5.93727315e-15 2.91636853e-14\n",
      " 1.37522348e-13 6.22557774e-13 2.70558725e-12 1.12880502e-11\n",
      " 4.52118024e-11 1.73844203e-10 6.41717835e-10 2.27406833e-09\n",
      " 7.73639102e-09 2.52667171e-08 7.92199799e-08 2.38449349e-07\n",
      " 6.89021948e-07 1.91137312e-06 5.09018302e-06 1.30135811e-05\n",
      " 3.19400618e-05 7.52575687e-05 1.70231576e-04 3.69662637e-04\n",
      " 7.70631042e-04 1.54227900e-03 2.96315857e-03 5.46540492e-03\n",
      " 9.67754721e-03 1.64506763e-02 2.68458845e-02 4.20578610e-02\n",
      " 6.32546052e-02 9.13298239e-02 1.26592680e-01 1.68453513e-01\n",
      " 2.15192461e-01 2.63906165e-01 3.10704486e-01 3.51172916e-01\n",
      " 3.81039507e-01 3.96912251e-01 3.96912251e-01 3.81039507e-01\n",
      " 3.51172916e-01 3.10704486e-01 2.63906165e-01 2.15192461e-01\n",
      " 1.68453513e-01 1.26592680e-01 9.13298239e-02 6.32546052e-02\n",
      " 4.20578610e-02 2.68458845e-02 1.64506763e-02 9.67754721e-03\n",
      " 5.46540492e-03 2.96315857e-03 1.54227900e-03 7.70631042e-04\n",
      " 3.69662637e-04 1.70231576e-04 7.52575687e-05 3.19400618e-05\n",
      " 1.30135811e-05 5.09018302e-06 1.91137312e-06 6.89021948e-07\n",
      " 2.38449349e-07 7.92199799e-08 2.52667171e-08 7.73639102e-09\n",
      " 2.27406833e-09 6.41717835e-10 1.73844203e-10 4.52118024e-11\n",
      " 1.12880502e-11 2.70558725e-12 6.22557774e-13 1.37522348e-13\n",
      " 2.91636853e-14 5.93727315e-15 1.16039850e-15 2.17722239e-16\n",
      " 3.92169602e-17 6.78141882e-18 1.12575195e-18 1.79407401e-19\n",
      " 2.74481769e-20 4.03145816e-21 5.68442201e-22 7.69459863e-23]\n"
     ]
    }
   ],
   "source": [
    "# 8 Write a Python function to calculate the probability density function (PDF) of a continuous random variable for a given normal distribution.\n",
    "\n",
    "import numpy as np\n",
    "from scipy.stats import norm\n",
    "\n",
    "def calculate_pdf(x, mean, std_dev):\n",
    "    pdf_values = norm.pdf(x, loc=mean, scale=std_dev)\n",
    "    return pdf_values\n",
    "\n",
    "# Example usage:\n",
    "x_values = np.linspace(-10, 10, 100)\n",
    "mean = 0\n",
    "std_dev = 1\n",
    "pdf_values = calculate_pdf(x_values, mean, std_dev)\n",
    "\n",
    "print(pdf_values)\n"
   ]
  },
  {
   "cell_type": "code",
   "execution_count": 51,
   "id": "d7761ca4-3944-40c6-a33d-36b01b5b1e4d",
   "metadata": {},
   "outputs": [
    {
     "name": "stdout",
     "output_type": "stream",
     "text": [
      "[0.         0.0960761  0.18292158 0.26142329 0.33238285 0.3965249\n",
      " 0.45450444 0.50691352 0.55428735 0.59710968 0.63581781 0.67080701\n",
      " 0.70243459 0.73102351 0.75686572 0.78022512 0.80134023 0.82042669\n",
      " 0.83767939 0.85327452 0.86737133 0.88011378 0.89163198 0.90204355\n",
      " 0.91145483 0.9199619  0.92765165 0.9346026  0.94088572 0.94656519\n",
      " 0.951699   0.95633957 0.9605343  0.96432601 0.96775342 0.97085155\n",
      " 0.97365202 0.97618343 0.97847163 0.98053999 0.98240964 0.98409965\n",
      " 0.98562729 0.98700817 0.98825637 0.98938465 0.99040453 0.99132643\n",
      " 0.99215975 0.99291301 0.9935939  0.99420938 0.99476572 0.99526861\n",
      " 0.99572318 0.99613408 0.9965055  0.99684124 0.99714472 0.99741905\n",
      " 0.99766701 0.99789116 0.99809377 0.99827691 0.99844246 0.9985921\n",
      " 0.99872737 0.99884964 0.99896016 0.99906006 0.99915037 0.999232\n",
      " 0.99930578 0.99937248 0.99943277 0.99948727 0.99953653 0.99958106\n",
      " 0.99962131 0.99965769 0.99969058 0.99972031 0.99974718 0.99977147\n",
      " 0.99979343 0.99981327 0.99983121 0.99984743 0.99986209 0.99987534\n",
      " 0.99988731 0.99989814 0.99990793 0.99991677 0.99992477 0.999932\n",
      " 0.99993853 0.99994444 0.99994977 0.9999546 ]\n"
     ]
    }
   ],
   "source": [
    "# 9 Create a program to calculate the cumulative distribution function (CDF) of exponential distribution.\n",
    "\n",
    "import numpy as np\n",
    "from scipy.stats import expon\n",
    "\n",
    "def calculate_cdf(x, scale):\n",
    "    cdf_values = expon.cdf(x, scale=scale)\n",
    "    return cdf_values\n",
    "\n",
    "# Example usage:\n",
    "x_values = np.linspace(0, 10, 100)\n",
    "scale = 1  # For an exponential distribution with lambda = 1\n",
    "cdf_values = calculate_cdf(x_values, scale)\n",
    "\n",
    "print(cdf_values)\n"
   ]
  },
  {
   "cell_type": "code",
   "execution_count": 53,
   "id": "b5027c6a-ff36-442c-a915-e1809b1fe47f",
   "metadata": {},
   "outputs": [
    {
     "name": "stdout",
     "output_type": "stream",
     "text": [
      "[0.082085   0.2052125  0.25651562 0.21376302 0.13360189 0.06680094]\n"
     ]
    }
   ],
   "source": [
    " # Write a Python function to calculate the probability mass function (PMF) of Poisson distribution\n",
    "    \n",
    "from scipy.stats import poisson\n",
    "\n",
    "def calculate_pmf(k, lambda_):\n",
    "    pmf_values = poisson.pmf(k, mu=lambda_)\n",
    "    return pmf_values\n",
    "\n",
    "# Example usage:\n",
    "k_values = [0, 1, 2, 3, 4, 5]\n",
    "lambda_ = 2.5\n",
    "pmf_values = calculate_pmf(k_values, lambda_)\n",
    "\n",
    "print(pmf_values)\n"
   ]
  },
  {
   "cell_type": "code",
   "execution_count": 54,
   "id": "1a35352f-23fe-4785-be34-df6b6b512a10",
   "metadata": {},
   "outputs": [
    {
     "name": "stdout",
     "output_type": "stream",
     "text": [
      "T-statistic: 5.480077554195743\n",
      "P-value: 8.895290509945655e-07\n",
      "There is a statistically significant difference in customer satisfaction between the two branches.\n"
     ]
    }
   ],
   "source": [
    "# A restaurant chain collects customer satisfaction scores for two different branches. Write a program to\n",
    "# analyze the scores, calculate the t-statistic, and determine if there's a statistically significant difference in\n",
    "# customer satisfaction between the branches.\n",
    "\n",
    "# Use the below data of scores:\n",
    "\n",
    "branch_a_scores = [4, 5, 3, 4, 5, 4, 5, 3, 4, 4, 5, 4, 4, 3, 4, 5, 5, 4, 3, 4, 5, 4, 3, 5, 4, 4, 5, 3, 4, 5, 4]\n",
    "\n",
    "branch_b_scores = [3, 4, 2, 3, 4, 3, 4, 2, 3, 3, 4, 3, 3, 2, 3, 4, 4, 3, 2, 3, 4, 3, 2, 4, 3, 3, 4, 2, 3, 4, 3]\n",
    "\n",
    "from scipy.stats import ttest_ind\n",
    "\n",
    "\n",
    "t_stat, p_value = ttest_ind(branch_a_scores, branch_b_scores)\n",
    "\n",
    "\n",
    "print(f\"T-statistic: {t_stat}\")\n",
    "print(f\"P-value: {p_value}\")\n",
    "\n",
    "alpha = 0.05 \n",
    "if p_value < alpha:\n",
    "    print(\"There is a statistically significant difference in customer satisfaction between the two branches.\")\n",
    "else:\n",
    "    print(\"There is no statistically significant difference in customer satisfaction between the two branches.\")\n"
   ]
  },
  {
   "cell_type": "code",
   "execution_count": 55,
   "id": "41b6bd9d-3688-4c2c-bec9-3fc4ba791d91",
   "metadata": {},
   "outputs": [
    {
     "name": "stdout",
     "output_type": "stream",
     "text": [
      "Chi-Square statistic: 1.086807928913192\n",
      "P-value: 0.5807679703526951\n",
      "Degrees of freedom: 2\n",
      "Expected frequencies:\n",
      "[[2.93333333 5.06666667]\n",
      " [2.93333333 5.06666667]\n",
      " [5.13333333 8.86666667]]\n",
      "There is no significant association between age groups and voter preferences.\n"
     ]
    }
   ],
   "source": [
    "#  A political analyst wants to determine if there is a significant association between age groups and voter\n",
    "# preferences (Candidate A or Candidate B). They collect data from a sample of 500 voters and classify\n",
    "# them into different age groups and candidate preferences. Perform a Chi-Square test to determine if\n",
    "# there is a significant association between age groups and voter preferences.\n",
    "\n",
    "\n",
    "# Use the below code to generate data:\n",
    "\n",
    "# ```python\n",
    "\n",
    "np.random.seed(0)\n",
    "\n",
    "age_groups = np.random.choice(['18-30', '31-50', '51+', '51+'], size=30)\n",
    "voter_preferences = np.random.choice(['Candidate A', 'Candidate B'], size=30)\n",
    "\n",
    "from scipy.stats import chi2_contingency\n",
    "\n",
    "\n",
    "# Create a DataFrame\n",
    "data = pd.DataFrame({'Age Group': age_groups, 'Voter Preference': voter_preferences})\n",
    "\n",
    "# Create a contingency table\n",
    "contingency_table = pd.crosstab(data['Age Group'], data['Voter Preference'])\n",
    "\n",
    "# Perform Chi-Square test\n",
    "chi2, p, dof, expected = chi2_contingency(contingency_table)\n",
    "\n",
    "# Print the results\n",
    "print(f\"Chi-Square statistic: {chi2}\")\n",
    "print(f\"P-value: {p}\")\n",
    "print(f\"Degrees of freedom: {dof}\")\n",
    "print(\"Expected frequencies:\")\n",
    "print(expected)\n",
    "\n",
    "# Determine if there's a significant association\n",
    "alpha = 0.05  # Significance level\n",
    "if p < alpha:\n",
    "    print(\"There is a significant association between age groups and voter preferences.\")\n",
    "else:\n",
    "    print(\"There is no significant association between age groups and voter preferences.\")\n"
   ]
  },
  {
   "cell_type": "code",
   "execution_count": 56,
   "id": "ef50b61d-65de-4387-a54a-dfc321317b15",
   "metadata": {},
   "outputs": [
    {
     "name": "stdout",
     "output_type": "stream",
     "text": [
      "Chi-Square statistic: 27.777056277056275\n",
      "P-value: 0.00010349448486004387\n",
      "Degrees of freedom: 6\n",
      "Expected frequencies:\n",
      "[[34.14634146 34.14634146 37.56097561 34.14634146]\n",
      " [36.58536585 36.58536585 40.24390244 36.58536585]\n",
      " [29.26829268 29.26829268 32.19512195 29.26829268]]\n",
      "There is a significant relationship between product satisfaction levels and customer regions.\n"
     ]
    }
   ],
   "source": [
    "#  A company conducted a customer satisfaction survey to determine if there is a significant relationship\n",
    "# between product satisfaction levels (Satisfied, Neutral, Dissatisfied) and the region where customers are\n",
    "# located (East, West, North, South). The survey data is summarized in a contingency table. Conduct a Chi-\n",
    "# Square test to determine if there is a significant relationship between product satisfaction levels and\n",
    "# customer regions.\n",
    "\n",
    "\n",
    "# Sample data:\n",
    "\n",
    "# ```python\n",
    "\n",
    "#Sample data: Product satisfaction levels (rows) vs. Customer regions (columns)\n",
    "\n",
    "data = np.array([[50, 30, 40, 20], [30, 40, 30, 50], [20, 30, 40, 30]])\n",
    "\n",
    "\n",
    "from scipy.stats import chi2_contingency\n",
    "\n",
    "chi2, p, dof, expected = chi2_contingency(data)\n",
    "\n",
    "print(f\"Chi-Square statistic: {chi2}\")\n",
    "print(f\"P-value: {p}\")\n",
    "print(f\"Degrees of freedom: {dof}\")\n",
    "print(\"Expected frequencies:\")\n",
    "print(expected)\n",
    "\n",
    "alpha = 0.05  # Significance level\n",
    "if p < alpha:\n",
    "    print(\"There is a significant relationship between product satisfaction levels and customer regions.\")\n",
    "else:\n",
    "    print(\"There is no significant relationship between product satisfaction levels and customer regions.\")\n"
   ]
  },
  {
   "cell_type": "code",
   "execution_count": 57,
   "id": "6615f1db-7ccd-4f91-a44d-abf1484c89cf",
   "metadata": {},
   "outputs": [
    {
     "name": "stdout",
     "output_type": "stream",
     "text": [
      "Chi-Square statistic: 22.161728395061726\n",
      "P-value: 0.00018609719479882557\n",
      "Degrees of freedom: 4\n",
      "Expected frequencies:\n",
      "[[34.48275862 34.48275862 31.03448276]\n",
      " [34.48275862 34.48275862 31.03448276]\n",
      " [31.03448276 31.03448276 27.93103448]]\n",
      "There is a significant difference in job performance levels before and after the training.\n"
     ]
    }
   ],
   "source": [
    "# A company implemented an employee training program to improve job performance (Effective, Neutral,\n",
    "# Ineffective). After the training, they collected data from a sample of employees and classified them based\n",
    "# on their job performance before and after the training. Perform a Chi-Square test to determine if there is a\n",
    "# significant difference between job performance levels before and after the training.\n",
    "\n",
    "\n",
    "# Sample data:\n",
    "\n",
    "# ```python\n",
    "\n",
    "# Sample data: Job performance levels before (rows) and after (columns) training\n",
    "\n",
    "data = np.array([[50, 30, 20], [30, 40, 30], [20, 30, 40]])\n",
    "\n",
    "\n",
    "from scipy.stats import chi2_contingency\n",
    "\n",
    "chi2, p, dof, expected = chi2_contingency(data)\n",
    "\n",
    "print(f\"Chi-Square statistic: {chi2}\")\n",
    "print(f\"P-value: {p}\")\n",
    "print(f\"Degrees of freedom: {dof}\")\n",
    "print(\"Expected frequencies:\")\n",
    "print(expected)\n",
    "\n",
    "alpha = 0.05  # Significance level\n",
    "if p < alpha:\n",
    "    print(\"There is a significant difference in job performance levels before and after the training.\")\n",
    "else:\n",
    "    print(\"There is no significant difference in job performance levels before and after the training.\")\n"
   ]
  },
  {
   "cell_type": "code",
   "execution_count": 58,
   "id": "4aae317a-a176-4079-9661-2a7e8e7714e1",
   "metadata": {},
   "outputs": [
    {
     "name": "stdout",
     "output_type": "stream",
     "text": [
      "F-statistic: 27.03556231003039\n",
      "P-value: 3.5786328857349003e-07\n",
      "There is a significant difference in customer satisfaction scores among the three product versions.\n"
     ]
    }
   ],
   "source": [
    "# A company produces three different versions of a product: Standard, Premium, and Deluxe. The\n",
    "# company wants to determine if there is a significant difference in customer satisfaction scores among the\n",
    "# three product versions. They conducted a survey and collected customer satisfaction scores for each\n",
    "# version from a random sample of customers. Perform an ANOVA test to determine if there is a significant\n",
    "# difference in customer satisfaction scores.\n",
    "\n",
    "\n",
    "# Use the following data:\n",
    "\n",
    "# ```python\n",
    "\n",
    "# Sample data: Customer satisfaction scores for each product version\n",
    "\n",
    "standard_scores = [80, 85, 90, 78, 88, 82, 92, 78, 85, 87]\n",
    "\n",
    "premium_scores = [90, 92, 88, 92, 95, 91, 96, 93, 89, 93]\n",
    "\n",
    "deluxe_scores = [95, 98, 92, 97, 96, 94, 98, 97, 92, 99]\n",
    "\n",
    "\n",
    "from scipy.stats import f_oneway\n",
    "\n",
    "f_stat, p_value = f_oneway(standard_scores, premium_scores, deluxe_scores)\n",
    "\n",
    "\n",
    "print(f\"F-statistic: {f_stat}\")\n",
    "print(f\"P-value: {p_value}\")\n",
    "\n",
    "alpha = 0.05  \n",
    "if p_value < alpha:\n",
    "    print(\"There is a significant difference in customer satisfaction scores among the three product versions.\")\n",
    "else:\n",
    "    print(\"There is no significant difference in customer satisfaction scores among the three product versions.\")\n"
   ]
  },
  {
   "cell_type": "code",
   "execution_count": null,
   "id": "cd0a1b3b-aeb0-421e-b187-4b7ba2136616",
   "metadata": {},
   "outputs": [],
   "source": []
  }
 ],
 "metadata": {
  "kernelspec": {
   "display_name": "Python 3 (ipykernel)",
   "language": "python",
   "name": "python3"
  },
  "language_info": {
   "codemirror_mode": {
    "name": "ipython",
    "version": 3
   },
   "file_extension": ".py",
   "mimetype": "text/x-python",
   "name": "python",
   "nbconvert_exporter": "python",
   "pygments_lexer": "ipython3",
   "version": "3.10.8"
  }
 },
 "nbformat": 4,
 "nbformat_minor": 5
}
